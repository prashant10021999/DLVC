{
  "cells": [
    {
      "cell_type": "code",
      "execution_count": null,
      "metadata": {
        "id": "4JY7PLAeAV7L"
      },
      "outputs": [],
      "source": [
        "%matplotlib inline"
      ]
    },
    {
      "cell_type": "markdown",
      "metadata": {
        "id": "suomP9SMAV7Q"
      },
      "source": [
        "\n",
        "# Audio Classification\n"
      ]
    },
    {
      "cell_type": "code",
      "execution_count": null,
      "metadata": {
        "id": "kLYnPjCxAV7S"
      },
      "outputs": [],
      "source": [
        "import torch\n",
        "import torch.nn as nn\n",
        "import torch.nn.functional as F\n",
        "import torch.optim as optim\n",
        "import torchaudio\n",
        "import sys\n",
        "\n",
        "import matplotlib.pyplot as plt\n",
        "import IPython.display as ipd\n",
        "\n",
        "from tqdm import tqdm"
      ]
    },
    {
      "cell_type": "markdown",
      "metadata": {
        "id": "X1ogT6CyAV7T"
      },
      "source": [
        "Check if CUDA GPU is available\n"
      ]
    },
    {
      "cell_type": "code",
      "execution_count": null,
      "metadata": {
        "colab": {
          "base_uri": "https://localhost:8080/"
        },
        "id": "i0ZzU_S1AV7T",
        "outputId": "9221b154-8753-431f-fe34-f82326b2a258"
      },
      "outputs": [
        {
          "name": "stdout",
          "output_type": "stream",
          "text": [
            "cpu\n"
          ]
        }
      ],
      "source": [
        "device = torch.device(\"cuda\" if torch.cuda.is_available() else \"cpu\")\n",
        "print(device)"
      ]
    },
    {
      "cell_type": "markdown",
      "metadata": {
        "id": "2pAquQqNAV7U"
      },
      "source": [
        "## Importing the Dataset\n",
        "\n",
        "- We use torchaudio to download and represent the dataset. Here we use\n",
        "[SpeechCommands](https://arxiv.org/abs/1804.03209)_, which is a\n",
        "datasets of 35 commands spoken by different people.\n",
        "- The dataset\n",
        "``SPEECHCOMMANDS`` is a ``torch.utils.data.Dataset`` version of the\n",
        "dataset.\n",
        "\n",
        "- In this dataset, all audio files are about 1 second long (and\n",
        "so about 16000 time frames long).\n",
        "\n",
        "- The actual loading and formatting steps happen when a data point is\n",
        "being accessed, and **torchaudio takes care of converting the audio files\n",
        "to tensors**.\n",
        "\n",
        "- If one wants to load an audio file directly instead,\n",
        "``torchaudio.load()`` can be used.\n",
        "\n",
        " - It returns a tuple containing the\n",
        "newly created tensor along with the sampling frequency of the audio file\n",
        "(16kHz for SpeechCommands).\n",
        "\n",
        "Going back to the dataset, here we create a subclass that splits it into\n",
        "standard training, validation, testing subsets.\n",
        "\n",
        "\n"
      ]
    },
    {
      "cell_type": "code",
      "execution_count": null,
      "metadata": {
        "colab": {
          "base_uri": "https://localhost:8080/"
        },
        "id": "k26CuEoJAV7U",
        "outputId": "f0bc539e-2357-48e7-8a1d-baccb755f9c0"
      },
      "outputs": [
        {
          "name": "stderr",
          "output_type": "stream",
          "text": [
            "100%|██████████| 2.26G/2.26G [00:27<00:00, 88.7MB/s]\n"
          ]
        }
      ],
      "source": [
        "from torchaudio.datasets import SPEECHCOMMANDS\n",
        "import os\n",
        "\n",
        "\n",
        "class SubsetSC(SPEECHCOMMANDS):\n",
        "    def __init__(self, subset: str = None):\n",
        "        super().__init__(\"./\", download=True)\n",
        "\n",
        "        def load_list(filename):\n",
        "            filepath = os.path.join(self._path, filename)\n",
        "            with open(filepath) as fileobj:\n",
        "                return [os.path.normpath(os.path.join(self._path, line.strip())) for line in fileobj]\n",
        "\n",
        "        if subset == \"validation\":\n",
        "            self._walker = load_list(\"validation_list.txt\")\n",
        "        elif subset == \"testing\":\n",
        "            self._walker = load_list(\"testing_list.txt\")\n",
        "        elif subset == \"training\":\n",
        "            excludes = load_list(\"validation_list.txt\") + load_list(\"testing_list.txt\")\n",
        "            excludes = set(excludes)\n",
        "            self._walker = [w for w in self._walker if w not in excludes]\n",
        "\n",
        "\n",
        "# Create training and testing split of the data. We do not use validation in this tutorial.\n",
        "train_set = SubsetSC(\"training\")\n",
        "test_set = SubsetSC(\"testing\")\n",
        "\n",
        "waveform, sample_rate, label, speaker_id, utterance_number = train_set[0]"
      ]
    },
    {
      "cell_type": "markdown",
      "metadata": {
        "id": "zEpVrmmfAV7V"
      },
      "source": [
        "A data point in the SPEECHCOMMANDS dataset is a tuple made of a waveform\n",
        "(the audio signal), the sample rate, the utterance (label), the ID of\n",
        "the speaker, the number of the utterance.\n",
        "\n",
        "\n"
      ]
    },
    {
      "cell_type": "code",
      "execution_count": null,
      "metadata": {
        "colab": {
          "base_uri": "https://localhost:8080/",
          "height": 465
        },
        "id": "kyV0TWyhAV7V",
        "outputId": "3f1790f5-8c91-4b39-f539-67a893318f30"
      },
      "outputs": [
        {
          "name": "stdout",
          "output_type": "stream",
          "text": [
            "Shape of waveform: torch.Size([1, 16000])\n",
            "Sample rate of waveform: 16000\n"
          ]
        },
        {
          "data": {
            "image/png": "[encoded data removed]",
            "text/plain": [
              "<Figure size 640x480 with 1 Axes>"
            ]
          },
          "metadata": {},
          "output_type": "display_data"
        }
      ],
      "source": [
        "print(\"Shape of waveform: {}\".format(waveform.size()))\n",
        "print(\"Sample rate of waveform: {}\".format(sample_rate))\n",
        "\n",
        "plt.plot(waveform.t().numpy());"
      ]
    },
    {
      "cell_type": "markdown",
      "metadata": {
        "id": "BWYJ64Z1AV7V"
      },
      "source": [
        "Let’s find the list of labels available in the dataset.\n",
        "\n",
        "\n"
      ]
    },
    {
      "cell_type": "code",
      "execution_count": null,
      "metadata": {
        "colab": {
          "base_uri": "https://localhost:8080/"
        },
        "id": "GK9KUTFsAV7W",
        "outputId": "c49b0f40-9d58-45e2-d752-0be3d2f4ed12"
      },
      "outputs": [
        {
          "data": {
            "text/plain": [
              "['backward',\n",
              " 'bed',\n",
              " 'bird',\n",
              " 'cat',\n",
              " 'dog',\n",
              " 'down',\n",
              " 'eight',\n",
              " 'five',\n",
              " 'follow',\n",
              " 'forward',\n",
              " 'four',\n",
              " 'go',\n",
              " 'happy',\n",
              " 'house',\n",
              " 'learn',\n",
              " 'left',\n",
              " 'marvin',\n",
              " 'nine',\n",
              " 'no',\n",
              " 'off',\n",
              " 'on',\n",
              " 'one',\n",
              " 'right',\n",
              " 'seven',\n",
              " 'sheila',\n",
              " 'six',\n",
              " 'stop',\n",
              " 'three',\n",
              " 'tree',\n",
              " 'two',\n",
              " 'up',\n",
              " 'visual',\n",
              " 'wow',\n",
              " 'yes',\n",
              " 'zero']"
            ]
          },
          "execution_count": 5,
          "metadata": {},
          "output_type": "execute_result"
        }
      ],
      "source": [
        "labels = sorted(list(set(datapoint[2] for datapoint in train_set)))\n",
        "labels"
      ]
    },
    {
      "cell_type": "markdown",
      "metadata": {
        "id": "CD9L0c4hAV7W"
      },
      "source": [
        "The 35 audio labels are commands that are said by users. The first few\n",
        "files are people saying “marvin”.\n",
        "\n",
        "\n"
      ]
    },
    {
      "cell_type": "code",
      "execution_count": null,
      "metadata": {
        "colab": {
          "base_uri": "https://localhost:8080/",
          "height": 76
        },
        "id": "oBOd-nO6AV7W",
        "outputId": "a34879d6-9e9e-4f69-e1ef-4f212ad88906"
      },
      "outputs": [
        {
          "data": {
            "text/html": [
              "\n",
              "                <audio  controls=\"controls\" >\n",
              "                    <source src=\"data:audio/wav;base64,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\" type=\"audio/wav\" />\n",
              "                    Your browser does not support the audio element.\n",
              "                </audio>\n",
              "              "
            ],
            "text/plain": [
              "<IPython.lib.display.Audio object>"
            ]
          },
          "execution_count": 6,
          "metadata": {},
          "output_type": "execute_result"
        }
      ],
      "source": [
        "waveform_first, *_ = train_set[0]\n",
        "ipd.Audio(waveform_first.numpy(), rate=sample_rate)"
      ]
    },
    {
      "cell_type": "markdown",
      "metadata": {
        "id": "enuXQSRfAV7W"
      },
      "source": [
        "The last file\n",
        "\n",
        "\n"
      ]
    },
    {
      "cell_type": "code",
      "execution_count": null,
      "metadata": {
        "colab": {
          "base_uri": "https://localhost:8080/",
          "height": 76
        },
        "id": "UY788zV8AV7W",
        "outputId": "58132e0a-760a-4c7e-9d6f-7f92c03655b5"
      },
      "outputs": [
        {
          "data": {
            "text/html": [
              "\n",
              "                <audio  controls=\"controls\" >\n",
              "                    <source src=\"data:audio/wav;base64,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\" type=\"audio/wav\" />\n",
              "                    Your browser does not support the audio element.\n",
              "                </audio>\n",
              "              "
            ],
            "text/plain": [
              "<IPython.lib.display.Audio object>"
            ]
          },
          "execution_count": 7,
          "metadata": {},
          "output_type": "execute_result"
        }
      ],
      "source": [
        "waveform_last, *_ = train_set[-1]\n",
        "ipd.Audio(waveform_last.numpy(), rate=sample_rate)"
      ]
    },
    {
      "cell_type": "markdown",
      "metadata": {
        "id": "xtUXWo5cAV7W"
      },
      "source": [
        "## Formatting the Data\n",
        "\n",
        "This is a good place to apply transformations to the data. For the\n",
        "waveform, we downsample the audio for faster processing without losing\n",
        "too much of the classification power.\n",
        "\n",
        "We don’t need to apply other transformations here. It is common for some\n",
        "datasets though to have to reduce the number of channels (say from\n",
        "stereo to mono) by either taking the mean along the channel dimension,\n",
        "or simply keeping only one of the channels. Since SpeechCommands uses a\n",
        "single channel for audio, this is not needed here.\n",
        "\n",
        "\n"
      ]
    },
    {
      "cell_type": "code",
      "execution_count": null,
      "metadata": {
        "colab": {
          "base_uri": "https://localhost:8080/",
          "height": 76
        },
        "id": "qxRDbQZYAV7W",
        "outputId": "c4eae35b-d2c5-40d6-8f09-ccd376d98bb9"
      },
      "outputs": [
        {
          "data": {
            "text/html": [
              "\n",
              "                <audio  controls=\"controls\" >\n",
              "                    <source src=\"data:audio/wav;base64,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\" type=\"audio/wav\" />\n",
              "                    Your browser does not support the audio element.\n",
              "                </audio>\n",
              "              "
            ],
            "text/plain": [
              "<IPython.lib.display.Audio object>"
            ]
          },
          "execution_count": 8,
          "metadata": {},
          "output_type": "execute_result"
        }
      ],
      "source": [
        "new_sample_rate = 8000\n",
        "transform = torchaudio.transforms.Resample(orig_freq=sample_rate, new_freq=new_sample_rate)\n",
        "transformed = transform(waveform)\n",
        "\n",
        "ipd.Audio(transformed.numpy(), rate=new_sample_rate)"
      ]
    },
    {
      "cell_type": "markdown",
      "metadata": {
        "id": "ThfRbh6aAV7W"
      },
      "source": [
        "We are encoding each word using its index in the list of labels.\n",
        "\n",
        "\n"
      ]
    },
    {
      "cell_type": "code",
      "execution_count": null,
      "metadata": {
        "colab": {
          "base_uri": "https://localhost:8080/"
        },
        "id": "VjP2L3U1AV7W",
        "outputId": "d1826a7c-395d-4e31-fe57-f89dc3ed25bf"
      },
      "outputs": [
        {
          "name": "stdout",
          "output_type": "stream",
          "text": [
            "yes --> tensor(33) --> yes\n"
          ]
        }
      ],
      "source": [
        "def label_to_index(word):\n",
        "    # Return the position of the word in labels\n",
        "    return torch.tensor(labels.index(word))\n",
        "\n",
        "\n",
        "def index_to_label(index):\n",
        "    # Return the word corresponding to the index in labels\n",
        "    # This is the inverse of label_to_index\n",
        "    return labels[index]\n",
        "\n",
        "\n",
        "word_start = \"yes\"\n",
        "index = label_to_index(word_start)\n",
        "word_recovered = index_to_label(index)\n",
        "\n",
        "print(word_start, \"-->\", index, \"-->\", word_recovered)"
      ]
    },
    {
      "cell_type": "markdown",
      "metadata": {
        "id": "IJ0JsbN-AV7X"
      },
      "source": [
        "To turn a list of data point made of audio recordings and utterances\n",
        "into two batched tensors for the model, we implement a collate function\n",
        "which is used by the PyTorch DataLoader that allows us to iterate over a\n",
        "dataset by batches. Please see [the\n",
        "documentation](https://pytorch.org/docs/stable/data.html#working-with-collate-fn)_\n",
        "for more information about working with a collate function.\n",
        "\n",
        "In the collate function, we also apply the resampling, and the text\n",
        "encoding.\n",
        "\n",
        "\n"
      ]
    },
    {
      "cell_type": "code",
      "execution_count": null,
      "metadata": {
        "id": "yVqAUdktAV7X"
      },
      "outputs": [],
      "source": [
        "def pad_sequence(batch):\n",
        "    # Make all tensor in a batch the same length by padding with zeros\n",
        "    batch = [item.t() for item in batch]\n",
        "    batch = torch.nn.utils.rnn.pad_sequence(batch, batch_first=True, padding_value=0.)\n",
        "    return batch.permute(0, 2, 1)\n",
        "\n",
        "\n",
        "def collate_fn(batch):\n",
        "\n",
        "    # A data tuple has the form:\n",
        "    # waveform, sample_rate, label, speaker_id, utterance_number\n",
        "\n",
        "    tensors, targets = [], []\n",
        "\n",
        "    # Gather in lists, and encode labels as indices\n",
        "    for waveform, _, label, *_ in batch:\n",
        "        tensors += [waveform]\n",
        "        targets += [label_to_index(label)]\n",
        "\n",
        "    # Group the list of tensors into a batched tensor\n",
        "    tensors = pad_sequence(tensors)\n",
        "    targets = torch.stack(targets)\n",
        "\n",
        "    return tensors, targets\n",
        "\n",
        "\n",
        "batch_size = 256\n",
        "\n",
        "if device == \"cuda\":\n",
        "    num_workers = 1\n",
        "    pin_memory = True\n",
        "else:\n",
        "    num_workers = 0\n",
        "    pin_memory = False\n",
        "\n",
        "train_loader = torch.utils.data.DataLoader(\n",
        "    train_set,\n",
        "    batch_size=batch_size,\n",
        "    shuffle=True,\n",
        "    collate_fn=collate_fn,\n",
        "    num_workers=num_workers,\n",
        "    pin_memory=pin_memory,\n",
        ")\n",
        "test_loader = torch.utils.data.DataLoader(\n",
        "    test_set,\n",
        "    batch_size=batch_size,\n",
        "    shuffle=False,\n",
        "    drop_last=False,\n",
        "    collate_fn=collate_fn,\n",
        "    num_workers=num_workers,\n",
        "    pin_memory=pin_memory,\n",
        ")"
      ]
    },
    {
      "cell_type": "markdown",
      "metadata": {
        "id": "dcc_WUv_AV7X"
      },
      "source": [
        "## Network\n",
        "\n",
        "We will use a convolutional neural network to process\n",
        "the raw audio data.\n",
        "\n"
      ]
    },
    {
      "cell_type": "code",
      "execution_count": null,
      "metadata": {
        "colab": {
          "base_uri": "https://localhost:8080/"
        },
        "id": "qW3wUjasAV7X",
        "outputId": "eb957d3a-3bfc-40d5-9ea8-525406bc8a18"
      },
      "outputs": [
        {
          "name": "stdout",
          "output_type": "stream",
          "text": [
            "M5(\n",
            "  (conv1): Conv1d(1, 32, kernel_size=(80,), stride=(16,))\n",
            "  (bn1): BatchNorm1d(32, eps=1e-05, momentum=0.1, affine=True, track_running_stats=True)\n",
            "  (pool1): MaxPool1d(kernel_size=4, stride=4, padding=0, dilation=1, ceil_mode=False)\n",
            "  (conv2): Conv1d(32, 32, kernel_size=(3,), stride=(1,))\n",
            "  (bn2): BatchNorm1d(32, eps=1e-05, momentum=0.1, affine=True, track_running_stats=True)\n",
            "  (pool2): MaxPool1d(kernel_size=4, stride=4, padding=0, dilation=1, ceil_mode=False)\n",
            "  (conv3): Conv1d(32, 64, kernel_size=(3,), stride=(1,))\n",
            "  (bn3): BatchNorm1d(64, eps=1e-05, momentum=0.1, affine=True, track_running_stats=True)\n",
            "  (pool3): MaxPool1d(kernel_size=4, stride=4, padding=0, dilation=1, ceil_mode=False)\n",
            "  (conv4): Conv1d(64, 64, kernel_size=(3,), stride=(1,))\n",
            "  (bn4): BatchNorm1d(64, eps=1e-05, momentum=0.1, affine=True, track_running_stats=True)\n",
            "  (pool4): MaxPool1d(kernel_size=4, stride=4, padding=0, dilation=1, ceil_mode=False)\n",
            "  (fc1): Linear(in_features=64, out_features=35, bias=True)\n",
            ")\n",
            "Number of parameters: 26915\n"
          ]
        }
      ],
      "source": [
        "class M5(nn.Module):\n",
        "    def __init__(self, n_input=1, n_output=35, stride=16, n_channel=32):\n",
        "        super().__init__()\n",
        "        self.conv1 = nn.Conv1d(n_input, n_channel, kernel_size=80, stride=stride)\n",
        "        self.bn1 = nn.BatchNorm1d(n_channel)\n",
        "        self.pool1 = nn.MaxPool1d(4)\n",
        "        self.conv2 = nn.Conv1d(n_channel, n_channel, kernel_size=3)\n",
        "        self.bn2 = nn.BatchNorm1d(n_channel)\n",
        "        self.pool2 = nn.MaxPool1d(4)\n",
        "        self.conv3 = nn.Conv1d(n_channel, 2 * n_channel, kernel_size=3)\n",
        "        self.bn3 = nn.BatchNorm1d(2 * n_channel)\n",
        "        self.pool3 = nn.MaxPool1d(4)\n",
        "        self.conv4 = nn.Conv1d(2 * n_channel, 2 * n_channel, kernel_size=3)\n",
        "        self.bn4 = nn.BatchNorm1d(2 * n_channel)\n",
        "        self.pool4 = nn.MaxPool1d(4)\n",
        "        self.fc1 = nn.Linear(2 * n_channel, n_output)\n",
        "\n",
        "    def forward(self, x):\n",
        "        x = self.conv1(x)\n",
        "        x = F.relu(self.bn1(x))\n",
        "        x = self.pool1(x)\n",
        "        x = self.conv2(x)\n",
        "        x = F.relu(self.bn2(x))\n",
        "        x = self.pool2(x)\n",
        "        x = self.conv3(x)\n",
        "        x = F.relu(self.bn3(x))\n",
        "        x = self.pool3(x)\n",
        "        x = self.conv4(x)\n",
        "        x = F.relu(self.bn4(x))\n",
        "        x = self.pool4(x)\n",
        "        x = F.avg_pool1d(x, x.shape[-1])\n",
        "        x = x.permute(0, 2, 1)\n",
        "        x = self.fc1(x)\n",
        "        return F.log_softmax(x, dim=2)\n",
        "\n",
        "\n",
        "model = M5(n_input=transformed.shape[0], n_output=len(labels))\n",
        "model.to(device)\n",
        "print(model)\n",
        "\n",
        "\n",
        "def count_parameters(model):\n",
        "    return sum(p.numel() for p in model.parameters() if p.requires_grad)\n",
        "\n",
        "\n",
        "n = count_parameters(model)\n",
        "print(\"Number of parameters: %s\" % n)"
      ]
    },
    {
      "cell_type": "code",
      "execution_count": null,
      "metadata": {
        "id": "ZgmxKPSMAV7X"
      },
      "outputs": [],
      "source": [
        "optimizer = optim.Adam(model.parameters(), lr=0.01, weight_decay=0.0001)\n",
        "scheduler = optim.lr_scheduler.StepLR(optimizer, step_size=20, gamma=0.1)  # reduce the learning after 20 epochs by a factor of 10"
      ]
    },
    {
      "cell_type": "markdown",
      "metadata": {
        "id": "zH8ULQd7xAxi"
      },
      "source": [
        "# Train"
      ]
    },
    {
      "cell_type": "code",
      "execution_count": null,
      "metadata": {
        "id": "_FXDVuueAV7X"
      },
      "outputs": [],
      "source": [
        "def train(model, epoch, log_interval):\n",
        "    model.train()\n",
        "    for batch_idx, (data, target) in enumerate(train_loader):\n",
        "\n",
        "        data = data.to(device)\n",
        "        target = target.to(device)\n",
        "\n",
        "        # apply transform and model on whole batch directly on device\n",
        "        data = transform(data)\n",
        "        output = model(data)\n",
        "\n",
        "        # negative log-likelihood for a tensor of size (batch x 1 x n_output)\n",
        "        loss = F.nll_loss(output.squeeze(), target)\n",
        "\n",
        "        optimizer.zero_grad()\n",
        "        loss.backward()\n",
        "        optimizer.step()\n",
        "\n",
        "        # print training stats\n",
        "        if batch_idx % log_interval == 0:\n",
        "            print(f\"Train Epoch: {epoch} [{batch_idx * len(data)}/{len(train_loader.dataset)} ({100. * batch_idx / len(train_loader):.0f}%)]\\tLoss: {loss.item():.6f}\")\n",
        "\n",
        "        # update progress bar\n",
        "        pbar.update(pbar_update)\n",
        "        # record loss\n",
        "        losses.append(loss.item())"
      ]
    },
    {
      "cell_type": "code",
      "execution_count": null,
      "metadata": {
        "id": "C9_BzGbOAV7X"
      },
      "outputs": [],
      "source": [
        "def number_of_correct(pred, target):\n",
        "    # count number of correct predictions\n",
        "    return pred.squeeze().eq(target).sum().item()\n",
        "\n",
        "\n",
        "def get_likely_index(tensor):\n",
        "    # find most likely label index for each element in the batch\n",
        "    return tensor.argmax(dim=-1)\n",
        "\n",
        "\n",
        "def test(model, epoch):\n",
        "    model.eval()\n",
        "    correct = 0\n",
        "    for data, target in test_loader:\n",
        "\n",
        "        data = data.to(device)\n",
        "        target = target.to(device)\n",
        "\n",
        "        # apply transform and model on whole batch directly on device\n",
        "        data = transform(data)\n",
        "        output = model(data)\n",
        "\n",
        "        pred = get_likely_index(output)\n",
        "        correct += number_of_correct(pred, target)\n",
        "\n",
        "        # update progress bar\n",
        "        pbar.update(pbar_update)\n",
        "\n",
        "    print(f\"\\nTest Epoch: {epoch}\\tAccuracy: {correct}/{len(test_loader.dataset)} ({100. * correct / len(test_loader.dataset):.0f}%)\\n\")"
      ]
    },
    {
      "cell_type": "markdown",
      "metadata": {
        "id": "vp573a5OAV7Y"
      },
      "source": [
        "# Epoch-Wise Model Train and Test"
      ]
    },
    {
      "cell_type": "code",
      "execution_count": null,
      "metadata": {
        "colab": {
          "base_uri": "https://localhost:8080/"
        },
        "id": "USkjlRs3AV7Y",
        "outputId": "b9babf42-be69-41bb-9bc6-36bbf7729e60"
      },
      "outputs": [
        {
          "name": "stderr",
          "output_type": "stream",
          "text": [
            "  0%|          | 0.0026666666666666666/2 [00:08<1:43:30, 3109.57s/it]"
          ]
        },
        {
          "name": "stdout",
          "output_type": "stream",
          "text": [
            "Train Epoch: 1 [0/84843 (0%)]\tLoss: 3.846670\n"
          ]
        },
        {
          "name": "stderr",
          "output_type": "stream",
          "text": [
            "  3%|▎         | 0.05599999999999999/2 [00:12<02:48, 86.86s/it]"
          ]
        },
        {
          "name": "stdout",
          "output_type": "stream",
          "text": [
            "Train Epoch: 1 [5120/84843 (6%)]\tLoss: 3.126031\n"
          ]
        },
        {
          "name": "stderr",
          "output_type": "stream",
          "text": [
            "  6%|▌         | 0.11199999999999995/2 [00:17<02:27, 77.86s/it]"
          ]
        },
        {
          "name": "stdout",
          "output_type": "stream",
          "text": [
            "Train Epoch: 1 [10240/84843 (12%)]\tLoss: 2.617078\n"
          ]
        },
        {
          "name": "stderr",
          "output_type": "stream",
          "text": [
            "  8%|▊         | 0.16266666666666676/2 [00:21<02:35, 84.37s/it]"
          ]
        },
        {
          "name": "stdout",
          "output_type": "stream",
          "text": [
            "Train Epoch: 1 [15360/84843 (18%)]\tLoss: 2.288894\n"
          ]
        },
        {
          "name": "stderr",
          "output_type": "stream",
          "text": [
            " 11%|█         | 0.21600000000000033/2 [00:26<02:21, 79.33s/it]"
          ]
        },
        {
          "name": "stdout",
          "output_type": "stream",
          "text": [
            "Train Epoch: 1 [20480/84843 (24%)]\tLoss: 2.064368\n"
          ]
        },
        {
          "name": "stderr",
          "output_type": "stream",
          "text": [
            " 13%|█▎        | 0.2693333333333337/2 [00:30<02:24, 83.43s/it] "
          ]
        },
        {
          "name": "stdout",
          "output_type": "stream",
          "text": [
            "Train Epoch: 1 [25600/84843 (30%)]\tLoss: 1.943831\n"
          ]
        },
        {
          "name": "stderr",
          "output_type": "stream",
          "text": [
            " 16%|█▌        | 0.3226666666666667/2 [00:34<02:16, 81.59s/it] "
          ]
        },
        {
          "name": "stdout",
          "output_type": "stream",
          "text": [
            "Train Epoch: 1 [30720/84843 (36%)]\tLoss: 1.804155\n"
          ]
        },
        {
          "name": "stderr",
          "output_type": "stream",
          "text": [
            " 19%|█▉        | 0.3759999999999997/2 [00:39<02:21, 86.84s/it]"
          ]
        },
        {
          "name": "stdout",
          "output_type": "stream",
          "text": [
            "Train Epoch: 1 [35840/84843 (42%)]\tLoss: 1.823771\n"
          ]
        },
        {
          "name": "stderr",
          "output_type": "stream",
          "text": [
            " 21%|██▏       | 0.42933333333333273/2 [00:43<02:04, 79.17s/it]"
          ]
        },
        {
          "name": "stdout",
          "output_type": "stream",
          "text": [
            "Train Epoch: 1 [40960/84843 (48%)]\tLoss: 1.617134\n"
          ]
        },
        {
          "name": "stderr",
          "output_type": "stream",
          "text": [
            " 24%|██▍       | 0.4853333333333324/2 [00:48<02:00, 79.41s/it] "
          ]
        },
        {
          "name": "stdout",
          "output_type": "stream",
          "text": [
            "Train Epoch: 1 [46080/84843 (54%)]\tLoss: 1.634562\n"
          ]
        },
        {
          "name": "stderr",
          "output_type": "stream",
          "text": [
            " 27%|██▋       | 0.5359999999999995/2 [00:52<02:04, 85.02s/it]"
          ]
        },
        {
          "name": "stdout",
          "output_type": "stream",
          "text": [
            "Train Epoch: 1 [51200/84843 (60%)]\tLoss: 1.520170\n"
          ]
        },
        {
          "name": "stderr",
          "output_type": "stream",
          "text": [
            " 29%|██▉       | 0.5893333333333336/2 [00:56<01:57, 82.95s/it]"
          ]
        },
        {
          "name": "stdout",
          "output_type": "stream",
          "text": [
            "Train Epoch: 1 [56320/84843 (66%)]\tLoss: 1.354585\n"
          ]
        },
        {
          "name": "stderr",
          "output_type": "stream",
          "text": [
            " 32%|███▏      | 0.6426666666666677/2 [01:01<01:49, 80.53s/it]"
          ]
        },
        {
          "name": "stdout",
          "output_type": "stream",
          "text": [
            "Train Epoch: 1 [61440/84843 (72%)]\tLoss: 1.232453\n"
          ]
        },
        {
          "name": "stderr",
          "output_type": "stream",
          "text": [
            " 35%|███▍      | 0.6960000000000018/2 [01:05<01:44, 80.31s/it]"
          ]
        },
        {
          "name": "stdout",
          "output_type": "stream",
          "text": [
            "Train Epoch: 1 [66560/84843 (78%)]\tLoss: 1.299067\n"
          ]
        },
        {
          "name": "stderr",
          "output_type": "stream",
          "text": [
            " 37%|███▋      | 0.749333333333336/2 [01:10<01:59, 95.38s/it] "
          ]
        },
        {
          "name": "stdout",
          "output_type": "stream",
          "text": [
            "Train Epoch: 1 [71680/84843 (84%)]\tLoss: 1.148049\n"
          ]
        },
        {
          "name": "stderr",
          "output_type": "stream",
          "text": [
            " 40%|████      | 0.8026666666666701/2 [01:14<01:51, 93.26s/it]"
          ]
        },
        {
          "name": "stdout",
          "output_type": "stream",
          "text": [
            "Train Epoch: 1 [76800/84843 (90%)]\tLoss: 1.181426\n"
          ]
        },
        {
          "name": "stderr",
          "output_type": "stream",
          "text": [
            " 43%|████▎     | 0.8560000000000042/2 [01:19<01:41, 88.41s/it]"
          ]
        },
        {
          "name": "stdout",
          "output_type": "stream",
          "text": [
            "Train Epoch: 1 [81920/84843 (96%)]\tLoss: 1.004566\n"
          ]
        },
        {
          "name": "stderr",
          "output_type": "stream",
          "text": [
            " 50%|█████     | 1.0053333333333394/2 [01:33<01:42, 103.42s/it]"
          ]
        },
        {
          "name": "stdout",
          "output_type": "stream",
          "text": [
            "\n",
            "Test Epoch: 1\tAccuracy: 7088/11005 (64%)\n",
            "\n",
            "Train Epoch: 2 [0/84843 (0%)]\tLoss: 1.022605\n"
          ]
        },
        {
          "name": "stderr",
          "output_type": "stream",
          "text": [
            " 53%|█████▎    | 1.0586666666666713/2 [01:34<00:26, 27.90s/it]"
          ]
        },
        {
          "name": "stdout",
          "output_type": "stream",
          "text": [
            "Train Epoch: 2 [5120/84843 (6%)]\tLoss: 0.885009\n"
          ]
        },
        {
          "name": "stderr",
          "output_type": "stream",
          "text": [
            " 56%|█████▌    | 1.1120000000000032/2 [01:36<00:24, 27.03s/it]"
          ]
        },
        {
          "name": "stdout",
          "output_type": "stream",
          "text": [
            "Train Epoch: 2 [10240/84843 (12%)]\tLoss: 1.107488\n"
          ]
        },
        {
          "name": "stderr",
          "output_type": "stream",
          "text": [
            " 58%|█████▊    | 1.165333333333335/2 [01:37<00:25, 30.52s/it]"
          ]
        },
        {
          "name": "stdout",
          "output_type": "stream",
          "text": [
            "Train Epoch: 2 [15360/84843 (18%)]\tLoss: 0.867265\n"
          ]
        },
        {
          "name": "stderr",
          "output_type": "stream",
          "text": [
            " 61%|██████    | 1.218666666666667/2 [01:39<00:26, 34.49s/it] "
          ]
        },
        {
          "name": "stdout",
          "output_type": "stream",
          "text": [
            "Train Epoch: 2 [20480/84843 (24%)]\tLoss: 1.086638\n"
          ]
        },
        {
          "name": "stderr",
          "output_type": "stream",
          "text": [
            " 64%|██████▎   | 1.271999999999999/2 [01:41<00:20, 27.59s/it] "
          ]
        },
        {
          "name": "stdout",
          "output_type": "stream",
          "text": [
            "Train Epoch: 2 [25600/84843 (30%)]\tLoss: 0.932712\n"
          ]
        },
        {
          "name": "stderr",
          "output_type": "stream",
          "text": [
            " 66%|██████▋   | 1.3253333333333308/2 [01:42<00:17, 26.60s/it]"
          ]
        },
        {
          "name": "stdout",
          "output_type": "stream",
          "text": [
            "Train Epoch: 2 [30720/84843 (36%)]\tLoss: 1.073056\n"
          ]
        },
        {
          "name": "stderr",
          "output_type": "stream",
          "text": [
            " 69%|██████▉   | 1.3786666666666627/2 [01:43<00:16, 26.92s/it]"
          ]
        },
        {
          "name": "stdout",
          "output_type": "stream",
          "text": [
            "Train Epoch: 2 [35840/84843 (42%)]\tLoss: 0.978759\n"
          ]
        },
        {
          "name": "stderr",
          "output_type": "stream",
          "text": [
            " 72%|███████▏  | 1.4319999999999946/2 [01:45<00:15, 27.06s/it]"
          ]
        },
        {
          "name": "stdout",
          "output_type": "stream",
          "text": [
            "Train Epoch: 2 [40960/84843 (48%)]\tLoss: 1.128037\n"
          ]
        },
        {
          "name": "stderr",
          "output_type": "stream",
          "text": [
            " 74%|███████▍  | 1.4853333333333265/2 [01:46<00:14, 27.59s/it]"
          ]
        },
        {
          "name": "stdout",
          "output_type": "stream",
          "text": [
            "Train Epoch: 2 [46080/84843 (54%)]\tLoss: 0.985885\n"
          ]
        },
        {
          "name": "stderr",
          "output_type": "stream",
          "text": [
            " 77%|███████▋  | 1.5386666666666584/2 [01:48<00:12, 26.66s/it]"
          ]
        },
        {
          "name": "stdout",
          "output_type": "stream",
          "text": [
            "Train Epoch: 2 [51200/84843 (60%)]\tLoss: 1.039224\n"
          ]
        },
        {
          "name": "stderr",
          "output_type": "stream",
          "text": [
            " 80%|███████▉  | 1.5919999999999903/2 [01:49<00:11, 27.54s/it]"
          ]
        },
        {
          "name": "stdout",
          "output_type": "stream",
          "text": [
            "Train Epoch: 2 [56320/84843 (66%)]\tLoss: 0.806004\n"
          ]
        },
        {
          "name": "stderr",
          "output_type": "stream",
          "text": [
            " 82%|████████▏ | 1.6453333333333222/2 [01:51<00:11, 32.89s/it]"
          ]
        },
        {
          "name": "stdout",
          "output_type": "stream",
          "text": [
            "Train Epoch: 2 [61440/84843 (72%)]\tLoss: 0.982974\n"
          ]
        },
        {
          "name": "stderr",
          "output_type": "stream",
          "text": [
            " 85%|████████▍ | 1.6986666666666541/2 [01:53<00:08, 27.76s/it]"
          ]
        },
        {
          "name": "stdout",
          "output_type": "stream",
          "text": [
            "Train Epoch: 2 [66560/84843 (78%)]\tLoss: 1.058771\n"
          ]
        },
        {
          "name": "stderr",
          "output_type": "stream",
          "text": [
            " 88%|████████▊ | 1.751999999999986/2 [01:54<00:06, 26.75s/it] "
          ]
        },
        {
          "name": "stdout",
          "output_type": "stream",
          "text": [
            "Train Epoch: 2 [71680/84843 (84%)]\tLoss: 0.995234\n"
          ]
        },
        {
          "name": "stderr",
          "output_type": "stream",
          "text": [
            " 90%|█████████ | 1.805333333333318/2 [01:55<00:05, 26.91s/it] "
          ]
        },
        {
          "name": "stdout",
          "output_type": "stream",
          "text": [
            "Train Epoch: 2 [76800/84843 (90%)]\tLoss: 0.834296\n"
          ]
        },
        {
          "name": "stderr",
          "output_type": "stream",
          "text": [
            " 93%|█████████▎| 1.8586666666666498/2 [01:57<00:03, 27.83s/it]"
          ]
        },
        {
          "name": "stdout",
          "output_type": "stream",
          "text": [
            "Train Epoch: 2 [81920/84843 (96%)]\tLoss: 0.854824\n"
          ]
        },
        {
          "name": "stderr",
          "output_type": "stream",
          "text": [
            "100%|█████████▉| 1.9999999999999793/2 [02:02<00:00, 61.37s/it]"
          ]
        },
        {
          "name": "stdout",
          "output_type": "stream",
          "text": [
            "\n",
            "Test Epoch: 2\tAccuracy: 6937/11005 (63%)\n",
            "\n"
          ]
        },
        {
          "name": "stderr",
          "output_type": "stream",
          "text": [
            "\n"
          ]
        }
      ],
      "source": [
        "log_interval = 20\n",
        "n_epoch = 2\n",
        "\n",
        "pbar_update = 1 / (len(train_loader) + len(test_loader))\n",
        "losses = []\n",
        "\n",
        "# The transform needs to live on the same device as the model and the data.\n",
        "transform = transform.to(device)\n",
        "with tqdm(total=n_epoch) as pbar:\n",
        "    for epoch in range(1, n_epoch + 1):\n",
        "        train(model, epoch, log_interval)\n",
        "        test(model, epoch)\n",
        "        scheduler.step()"
      ]
    },
    {
      "cell_type": "code",
      "execution_count": null,
      "metadata": {
        "colab": {
          "base_uri": "https://localhost:8080/",
          "height": 469
        },
        "id": "CfuQCvn9xWeC",
        "outputId": "0a1f4d19-1d15-490e-e452-0e49276a3711"
      },
      "outputs": [
        {
          "data": {
            "text/plain": [
              "Text(0.5, 1.0, 'training loss over iterations')"
            ]
          },
          "execution_count": 17,
          "metadata": {},
          "output_type": "execute_result"
        },
        {
          "data": {
            "image/png": "[encoded data removed]",
            "text/plain": [
              "<Figure size 640x480 with 1 Axes>"
            ]
          },
          "metadata": {},
          "output_type": "display_data"
        }
      ],
      "source": [
        "plt.plot(losses)\n",
        "plt.title(\"training loss over iterations\")"
      ]
    },
    {
      "cell_type": "code",
      "execution_count": null,
      "metadata": {
        "colab": {
          "base_uri": "https://localhost:8080/"
        },
        "id": "3r0gCZgFAV7Y",
        "outputId": "3f664b37-48b7-4213-c622-63930c4e32f8"
      },
      "outputs": [
        {
          "name": "stdout",
          "output_type": "stream",
          "text": [
            "Expected: zero. Predicted: zero.\n"
          ]
        }
      ],
      "source": [
        "def predict(tensor):\n",
        "    # Use the model to predict the label of the waveform\n",
        "    tensor = tensor.to(device)\n",
        "    tensor = transform(tensor)\n",
        "    tensor = model(tensor.unsqueeze(0))\n",
        "    tensor = get_likely_index(tensor)\n",
        "    tensor = index_to_label(tensor.squeeze())\n",
        "    return tensor\n",
        "\n",
        "\n",
        "waveform, sample_rate, utterance, *_ = train_set[-1]\n",
        "ipd.Audio(waveform.numpy(), rate=sample_rate)\n",
        "\n",
        "print(f\"Expected: {utterance}. Predicted: {predict(waveform)}.\")"
      ]
    },
    {
      "cell_type": "markdown",
      "metadata": {
        "id": "Czpj5KoeAV7Y"
      },
      "source": [
        "Let’s find an example that isn’t classified correctly, if there is one.\n",
        "\n",
        "\n"
      ]
    },
    {
      "cell_type": "code",
      "execution_count": null,
      "metadata": {
        "colab": {
          "base_uri": "https://localhost:8080/"
        },
        "id": "m1UfXhIrAV7Y",
        "outputId": "be2766ad-bec7-467f-860f-28a993502df3"
      },
      "outputs": [
        {
          "name": "stdout",
          "output_type": "stream",
          "text": [
            "Data point #1. Expected: right. Predicted: learn.\n"
          ]
        }
      ],
      "source": [
        "for i, (waveform, sample_rate, utterance, *_) in enumerate(test_set):\n",
        "    output = predict(waveform)\n",
        "    if output != utterance:\n",
        "        ipd.Audio(waveform.numpy(), rate=sample_rate)\n",
        "        print(f\"Data point #{i}. Expected: {utterance}. Predicted: {output}.\")\n",
        "        break\n",
        "else:\n",
        "    print(\"All examples in this dataset were correctly classified!\")\n",
        "    print(\"In this case, let's just look at the last data point\")\n",
        "    ipd.Audio(waveform.numpy(), rate=sample_rate)\n",
        "    print(f\"Data point #{i}. Expected: {utterance}. Predicted: {output}.\")"
      ]
    },
    {
      "cell_type": "markdown",
      "metadata": {
        "id": "WI4rSAKdAV7Y"
      },
      "source": [
        "# Record your own audio and classify\n",
        "\n",
        "\n"
      ]
    },
    {
      "cell_type": "code",
      "execution_count": null,
      "metadata": {
        "colab": {
          "base_uri": "https://localhost:8080/"
        },
        "id": "-Ufz9szCEftt",
        "outputId": "f46adf50-0e7f-4825-ca0c-e5d52eb7a57c"
      },
      "outputs": [
        {
          "name": "stdout",
          "output_type": "stream",
          "text": [
            "Collecting pydub\n",
            "  Downloading pydub-0.25.1-py2.py3-none-any.whl (32 kB)\n",
            "Installing collected packages: pydub\n",
            "Successfully installed pydub-0.25.1\n"
          ]
        }
      ],
      "source": [
        "!pip3 install pydub"
      ]
    },
    {
      "cell_type": "code",
      "execution_count": null,
      "metadata": {
        "colab": {
          "base_uri": "https://localhost:8080/",
          "height": 69
        },
        "id": "mXprz83hAV7Y",
        "outputId": "897b2fc3-165f-4c1d-e3c6-b6e2e8cd7d5c"
      },
      "outputs": [
        {
          "name": "stdout",
          "output_type": "stream",
          "text": [
            "Recording started for 1 seconds.\n"
          ]
        },
        {
          "data": {
            "application/javascript": [
              "const sleep  = time => new Promise(resolve => setTimeout(resolve, time))\n",
              "const b2text = blob => new Promise(resolve => {\n",
              "  const reader = new FileReader()\n",
              "  reader.onloadend = e => resolve(e.srcElement.result)\n",
              "  reader.readAsDataURL(blob)\n",
              "})\n",
              "var record = time => new Promise(async resolve => {\n",
              "  stream = await navigator.mediaDevices.getUserMedia({ audio: true })\n",
              "  recorder = new MediaRecorder(stream)\n",
              "  chunks = []\n",
              "  recorder.ondataavailable = e => chunks.push(e.data)\n",
              "  recorder.start()\n",
              "  await sleep(time)\n",
              "  recorder.onstop = async ()=>{\n",
              "    blob = new Blob(chunks)\n",
              "    text = await b2text(blob)\n",
              "    resolve(text)\n",
              "  }\n",
              "  recorder.stop()\n",
              "})"
            ],
            "text/plain": [
              "<IPython.core.display.Javascript object>"
            ]
          },
          "metadata": {},
          "output_type": "display_data"
        },
        {
          "name": "stdout",
          "output_type": "stream",
          "text": [
            "Recording ended.\n",
            "Predicted: yes.\n"
          ]
        }
      ],
      "source": [
        "def record(seconds=1):\n",
        "\n",
        "    from google.colab import output as colab_output\n",
        "    from base64 import b64decode\n",
        "    from io import BytesIO\n",
        "    from pydub import AudioSegment\n",
        "\n",
        "    RECORD = (\n",
        "        b\"const sleep  = time => new Promise(resolve => setTimeout(resolve, time))\\n\"\n",
        "        b\"const b2text = blob => new Promise(resolve => {\\n\"\n",
        "        b\"  const reader = new FileReader()\\n\"\n",
        "        b\"  reader.onloadend = e => resolve(e.srcElement.result)\\n\"\n",
        "        b\"  reader.readAsDataURL(blob)\\n\"\n",
        "        b\"})\\n\"\n",
        "        b\"var record = time => new Promise(async resolve => {\\n\"\n",
        "        b\"  stream = await navigator.mediaDevices.getUserMedia({ audio: true })\\n\"\n",
        "        b\"  recorder = new MediaRecorder(stream)\\n\"\n",
        "        b\"  chunks = []\\n\"\n",
        "        b\"  recorder.ondataavailable = e => chunks.push(e.data)\\n\"\n",
        "        b\"  recorder.start()\\n\"\n",
        "        b\"  await sleep(time)\\n\"\n",
        "        b\"  recorder.onstop = async ()=>{\\n\"\n",
        "        b\"    blob = new Blob(chunks)\\n\"\n",
        "        b\"    text = await b2text(blob)\\n\"\n",
        "        b\"    resolve(text)\\n\"\n",
        "        b\"  }\\n\"\n",
        "        b\"  recorder.stop()\\n\"\n",
        "        b\"})\"\n",
        "    )\n",
        "    RECORD = RECORD.decode(\"ascii\")\n",
        "\n",
        "    print(f\"Recording started for {seconds} seconds.\")\n",
        "    display(ipd.Javascript(RECORD))\n",
        "    s = colab_output.eval_js(\"record(%d)\" % (seconds * 1000))\n",
        "    print(\"Recording ended.\")\n",
        "    b = b64decode(s.split(\",\")[1])\n",
        "\n",
        "    fileformat = \"wav\"\n",
        "    filename = f\"_audio.{fileformat}\"\n",
        "    AudioSegment.from_file(BytesIO(b)).export(filename, format=fileformat)\n",
        "    return torchaudio.load(filename)\n",
        "\n",
        "\n",
        "# Detect whether notebook runs in google colab\n",
        "if \"google.colab\" in sys.modules:\n",
        "    waveform, sample_rate = record()\n",
        "    print(f\"Predicted: {predict(waveform)}.\")\n",
        "    ipd.Audio(waveform.numpy(), rate=sample_rate)"
      ]
    },
    {
      "cell_type": "code",
      "execution_count": null,
      "metadata": {
        "colab": {
          "base_uri": "https://localhost:8080/"
        },
        "id": "W-Puyj-2FFoi",
        "outputId": "571e1a86-55d7-47fe-dec7-d8b3a922f433"
      },
      "outputs": [
        {
          "data": {
            "text/plain": [
              "M5(\n",
              "  (conv1): Conv1d(1, 32, kernel_size=(80,), stride=(16,))\n",
              "  (bn1): BatchNorm1d(32, eps=1e-05, momentum=0.1, affine=True, track_running_stats=True)\n",
              "  (pool1): MaxPool1d(kernel_size=4, stride=4, padding=0, dilation=1, ceil_mode=False)\n",
              "  (conv2): Conv1d(32, 32, kernel_size=(3,), stride=(1,))\n",
              "  (bn2): BatchNorm1d(32, eps=1e-05, momentum=0.1, affine=True, track_running_stats=True)\n",
              "  (pool2): MaxPool1d(kernel_size=4, stride=4, padding=0, dilation=1, ceil_mode=False)\n",
              "  (conv3): Conv1d(32, 64, kernel_size=(3,), stride=(1,))\n",
              "  (bn3): BatchNorm1d(64, eps=1e-05, momentum=0.1, affine=True, track_running_stats=True)\n",
              "  (pool3): MaxPool1d(kernel_size=4, stride=4, padding=0, dilation=1, ceil_mode=False)\n",
              "  (conv4): Conv1d(64, 64, kernel_size=(3,), stride=(1,))\n",
              "  (bn4): BatchNorm1d(64, eps=1e-05, momentum=0.1, affine=True, track_running_stats=True)\n",
              "  (pool4): MaxPool1d(kernel_size=4, stride=4, padding=0, dilation=1, ceil_mode=False)\n",
              "  (fc1): Linear(in_features=64, out_features=35, bias=True)\n",
              ")"
            ]
          },
          "execution_count": 24,
          "metadata": {},
          "output_type": "execute_result"
        }
      ],
      "source": [
        "model"
      ]
    },
    {
      "cell_type": "code",
      "execution_count": null,
      "metadata": {
        "id": "fsFCYIkL2rnT"
      },
      "outputs": [],
      "source": [
        "waveform_new,sample_rate_upload = torchaudio.load('CantinaBand3.wav')"
      ]
    },
    {
      "cell_type": "code",
      "execution_count": null,
      "metadata": {
        "id": "O7_RIP2a24ni"
      },
      "outputs": [],
      "source": [
        "waveform_new.shape,sample_rate_upload, transform(waveform_new.cuda()).shape"
      ]
    },
    {
      "cell_type": "code",
      "execution_count": null,
      "metadata": {
        "id": "kDiQDX-K3MWz"
      },
      "outputs": [],
      "source": [
        "ipd.Audio(transform(waveform_new.cuda()).cpu().numpy(), rate=8000)"
      ]
    },
    {
      "cell_type": "markdown",
      "metadata": {
        "id": "aBy5BIUAl4_i"
      },
      "source": [
        "# Exercise\n",
        "\n",
        "- Train the above classifier for 10 epochs and report the test accuracy.\n",
        "- Change all the convolutional layers of the above classifier to fully connected layers and train it for 10 epochs and report the test accuracy.\n",
        "- Train a classifier for only the classes \"yes\" and \"no\" for 20 epochs. Make changes to the dataset and network accordingly. Report the test accuracy."
      ]
    },
    {
      "cell_type": "markdown",
      "metadata": {
        "id": "t3qQ4OFoSq9Y"
      },
      "source": [
        "## Accuracy for 10 epochs"
      ]
    },
    {
      "cell_type": "code",
      "execution_count": null,
      "metadata": {
        "colab": {
          "base_uri": "https://localhost:8080/"
        },
        "id": "JbN6Avk4ugMc",
        "outputId": "9c850016-bf1f-40bd-b23d-a5b8055b8d89"
      },
      "outputs": [
        {
          "name": "stderr",
          "output_type": "stream",
          "text": [
            "  0%|          | 0.005333333333333333/10 [00:00<04:48, 28.85s/it]"
          ]
        },
        {
          "name": "stdout",
          "output_type": "stream",
          "text": [
            "Train Epoch: 1 [0/84843 (0%)]\tLoss: 0.955570\n"
          ]
        },
        {
          "name": "stderr",
          "output_type": "stream",
          "text": [
            "  1%|          | 0.05866666666666665/10 [00:01<04:26, 26.76s/it]"
          ]
        },
        {
          "name": "stdout",
          "output_type": "stream",
          "text": [
            "Train Epoch: 1 [5120/84843 (6%)]\tLoss: 0.622260\n"
          ]
        },
        {
          "name": "stderr",
          "output_type": "stream",
          "text": [
            "  1%|          | 0.11199999999999995/10 [00:03<04:31, 27.42s/it]"
          ]
        },
        {
          "name": "stdout",
          "output_type": "stream",
          "text": [
            "Train Epoch: 1 [10240/84843 (12%)]\tLoss: 0.799015\n"
          ]
        },
        {
          "name": "stderr",
          "output_type": "stream",
          "text": [
            "  2%|▏         | 0.16533333333333344/10 [00:04<04:26, 27.10s/it]"
          ]
        },
        {
          "name": "stdout",
          "output_type": "stream",
          "text": [
            "Train Epoch: 1 [15360/84843 (18%)]\tLoss: 0.844271\n"
          ]
        },
        {
          "name": "stderr",
          "output_type": "stream",
          "text": [
            "  2%|▏         | 0.218666666666667/10 [00:06<04:25, 27.16s/it]  "
          ]
        },
        {
          "name": "stdout",
          "output_type": "stream",
          "text": [
            "Train Epoch: 1 [20480/84843 (24%)]\tLoss: 0.827910\n"
          ]
        },
        {
          "name": "stderr",
          "output_type": "stream",
          "text": [
            "  3%|▎         | 0.27200000000000035/10 [00:07<05:21, 33.00s/it]"
          ]
        },
        {
          "name": "stdout",
          "output_type": "stream",
          "text": [
            "Train Epoch: 1 [25600/84843 (30%)]\tLoss: 0.673704\n"
          ]
        },
        {
          "name": "stderr",
          "output_type": "stream",
          "text": [
            "  3%|▎         | 0.32533333333333336/10 [00:09<04:39, 28.87s/it]"
          ]
        },
        {
          "name": "stdout",
          "output_type": "stream",
          "text": [
            "Train Epoch: 1 [30720/84843 (36%)]\tLoss: 0.854664\n"
          ]
        },
        {
          "name": "stderr",
          "output_type": "stream",
          "text": [
            "  4%|▍         | 0.3786666666666664/10 [00:10<04:14, 26.43s/it]"
          ]
        },
        {
          "name": "stdout",
          "output_type": "stream",
          "text": [
            "Train Epoch: 1 [35840/84843 (42%)]\tLoss: 0.786981\n"
          ]
        },
        {
          "name": "stderr",
          "output_type": "stream",
          "text": [
            "  4%|▍         | 0.4319999999999994/10 [00:12<04:08, 26.01s/it]"
          ]
        },
        {
          "name": "stdout",
          "output_type": "stream",
          "text": [
            "Train Epoch: 1 [40960/84843 (48%)]\tLoss: 0.828619\n"
          ]
        },
        {
          "name": "stderr",
          "output_type": "stream",
          "text": [
            "  5%|▍         | 0.4853333333333324/10 [00:13<04:17, 27.01s/it]"
          ]
        },
        {
          "name": "stdout",
          "output_type": "stream",
          "text": [
            "Train Epoch: 1 [46080/84843 (54%)]\tLoss: 0.914516\n"
          ]
        },
        {
          "name": "stderr",
          "output_type": "stream",
          "text": [
            "  5%|▌         | 0.5386666666666662/10 [00:15<04:15, 27.05s/it]"
          ]
        },
        {
          "name": "stdout",
          "output_type": "stream",
          "text": [
            "Train Epoch: 1 [51200/84843 (60%)]\tLoss: 0.761431\n"
          ]
        },
        {
          "name": "stderr",
          "output_type": "stream",
          "text": [
            "  6%|▌         | 0.5920000000000003/10 [00:16<04:11, 26.78s/it]"
          ]
        },
        {
          "name": "stdout",
          "output_type": "stream",
          "text": [
            "Train Epoch: 1 [56320/84843 (66%)]\tLoss: 0.716980\n"
          ]
        },
        {
          "name": "stderr",
          "output_type": "stream",
          "text": [
            "  6%|▋         | 0.6453333333333344/10 [00:17<04:14, 27.17s/it]"
          ]
        },
        {
          "name": "stdout",
          "output_type": "stream",
          "text": [
            "Train Epoch: 1 [61440/84843 (72%)]\tLoss: 0.785180\n"
          ]
        },
        {
          "name": "stderr",
          "output_type": "stream",
          "text": [
            "  7%|▋         | 0.6986666666666685/10 [00:19<04:59, 32.23s/it]"
          ]
        },
        {
          "name": "stdout",
          "output_type": "stream",
          "text": [
            "Train Epoch: 1 [66560/84843 (78%)]\tLoss: 0.887428\n"
          ]
        },
        {
          "name": "stderr",
          "output_type": "stream",
          "text": [
            "  8%|▊         | 0.7520000000000027/10 [00:21<05:20, 34.63s/it]"
          ]
        },
        {
          "name": "stdout",
          "output_type": "stream",
          "text": [
            "Train Epoch: 1 [71680/84843 (84%)]\tLoss: 0.704001\n"
          ]
        },
        {
          "name": "stderr",
          "output_type": "stream",
          "text": [
            "  8%|▊         | 0.8053333333333368/10 [00:22<04:10, 27.28s/it]"
          ]
        },
        {
          "name": "stdout",
          "output_type": "stream",
          "text": [
            "Train Epoch: 1 [76800/84843 (90%)]\tLoss: 0.720550\n"
          ]
        },
        {
          "name": "stderr",
          "output_type": "stream",
          "text": [
            "  9%|▊         | 0.8586666666666709/10 [00:24<04:06, 26.96s/it]"
          ]
        },
        {
          "name": "stdout",
          "output_type": "stream",
          "text": [
            "Train Epoch: 1 [81920/84843 (96%)]\tLoss: 0.746032\n"
          ]
        },
        {
          "name": "stderr",
          "output_type": "stream",
          "text": [
            " 10%|█         | 1.0026666666666728/10 [00:27<03:49, 25.54s/it]"
          ]
        },
        {
          "name": "stdout",
          "output_type": "stream",
          "text": [
            "\n",
            "Test Epoch: 1\tAccuracy: 8038/11005 (73%)\n",
            "\n",
            "Train Epoch: 2 [0/84843 (0%)]\tLoss: 0.703550\n"
          ]
        },
        {
          "name": "stderr",
          "output_type": "stream",
          "text": [
            " 11%|█         | 1.061333333333338/10 [00:29<03:59, 26.76s/it] "
          ]
        },
        {
          "name": "stdout",
          "output_type": "stream",
          "text": [
            "Train Epoch: 2 [5120/84843 (6%)]\tLoss: 0.752495\n"
          ]
        },
        {
          "name": "stderr",
          "output_type": "stream",
          "text": [
            " 11%|█         | 1.1146666666666698/10 [00:30<03:58, 26.84s/it]"
          ]
        },
        {
          "name": "stdout",
          "output_type": "stream",
          "text": [
            "Train Epoch: 2 [10240/84843 (12%)]\tLoss: 0.788930\n"
          ]
        },
        {
          "name": "stderr",
          "output_type": "stream",
          "text": [
            " 12%|█▏        | 1.1680000000000017/10 [00:32<05:36, 38.05s/it]"
          ]
        },
        {
          "name": "stdout",
          "output_type": "stream",
          "text": [
            "Train Epoch: 2 [15360/84843 (18%)]\tLoss: 0.693384\n"
          ]
        },
        {
          "name": "stderr",
          "output_type": "stream",
          "text": [
            " 12%|█▏        | 1.2213333333333336/10 [00:34<04:10, 28.50s/it]"
          ]
        },
        {
          "name": "stdout",
          "output_type": "stream",
          "text": [
            "Train Epoch: 2 [20480/84843 (24%)]\tLoss: 0.856211\n"
          ]
        },
        {
          "name": "stderr",
          "output_type": "stream",
          "text": [
            " 13%|█▎        | 1.2746666666666655/10 [00:35<03:55, 26.95s/it]"
          ]
        },
        {
          "name": "stdout",
          "output_type": "stream",
          "text": [
            "Train Epoch: 2 [25600/84843 (30%)]\tLoss: 0.959981\n"
          ]
        },
        {
          "name": "stderr",
          "output_type": "stream",
          "text": [
            " 13%|█▎        | 1.3279999999999974/10 [00:37<03:50, 26.55s/it]"
          ]
        },
        {
          "name": "stdout",
          "output_type": "stream",
          "text": [
            "Train Epoch: 2 [30720/84843 (36%)]\tLoss: 0.713059\n"
          ]
        },
        {
          "name": "stderr",
          "output_type": "stream",
          "text": [
            " 14%|█▍        | 1.3813333333333293/10 [00:38<03:51, 26.83s/it]"
          ]
        },
        {
          "name": "stdout",
          "output_type": "stream",
          "text": [
            "Train Epoch: 2 [35840/84843 (42%)]\tLoss: 0.795080\n"
          ]
        },
        {
          "name": "stderr",
          "output_type": "stream",
          "text": [
            " 14%|█▍        | 1.4346666666666612/10 [00:40<03:50, 26.94s/it]"
          ]
        },
        {
          "name": "stdout",
          "output_type": "stream",
          "text": [
            "Train Epoch: 2 [40960/84843 (48%)]\tLoss: 0.627152\n"
          ]
        },
        {
          "name": "stderr",
          "output_type": "stream",
          "text": [
            " 15%|█▍        | 1.487999999999993/10 [00:41<03:48, 26.87s/it]"
          ]
        },
        {
          "name": "stdout",
          "output_type": "stream",
          "text": [
            "Train Epoch: 2 [46080/84843 (54%)]\tLoss: 0.580182\n"
          ]
        },
        {
          "name": "stderr",
          "output_type": "stream",
          "text": [
            " 15%|█▌        | 1.541333333333325/10 [00:43<03:50, 27.21s/it] "
          ]
        },
        {
          "name": "stdout",
          "output_type": "stream",
          "text": [
            "Train Epoch: 2 [51200/84843 (60%)]\tLoss: 0.737268\n"
          ]
        },
        {
          "name": "stderr",
          "output_type": "stream",
          "text": [
            " 16%|█▌        | 1.594666666666657/10 [00:44<04:35, 32.73s/it] "
          ]
        },
        {
          "name": "stdout",
          "output_type": "stream",
          "text": [
            "Train Epoch: 2 [56320/84843 (66%)]\tLoss: 0.742741\n"
          ]
        },
        {
          "name": "stderr",
          "output_type": "stream",
          "text": [
            " 16%|█▋        | 1.6479999999999888/10 [00:46<04:18, 30.94s/it]"
          ]
        },
        {
          "name": "stdout",
          "output_type": "stream",
          "text": [
            "Train Epoch: 2 [61440/84843 (72%)]\tLoss: 0.581814\n"
          ]
        },
        {
          "name": "stderr",
          "output_type": "stream",
          "text": [
            " 17%|█▋        | 1.7013333333333207/10 [00:47<03:47, 27.36s/it]"
          ]
        },
        {
          "name": "stdout",
          "output_type": "stream",
          "text": [
            "Train Epoch: 2 [66560/84843 (78%)]\tLoss: 0.849694\n"
          ]
        },
        {
          "name": "stderr",
          "output_type": "stream",
          "text": [
            " 18%|█▊        | 1.7546666666666526/10 [00:49<03:40, 26.70s/it]"
          ]
        },
        {
          "name": "stdout",
          "output_type": "stream",
          "text": [
            "Train Epoch: 2 [71680/84843 (84%)]\tLoss: 0.810919\n"
          ]
        },
        {
          "name": "stderr",
          "output_type": "stream",
          "text": [
            " 18%|█▊        | 1.8079999999999845/10 [00:50<03:36, 26.42s/it]"
          ]
        },
        {
          "name": "stdout",
          "output_type": "stream",
          "text": [
            "Train Epoch: 2 [76800/84843 (90%)]\tLoss: 0.747896\n"
          ]
        },
        {
          "name": "stderr",
          "output_type": "stream",
          "text": [
            " 19%|█▊        | 1.8613333333333164/10 [00:52<03:37, 26.76s/it]"
          ]
        },
        {
          "name": "stdout",
          "output_type": "stream",
          "text": [
            "Train Epoch: 2 [81920/84843 (96%)]\tLoss: 0.726384\n"
          ]
        },
        {
          "name": "stderr",
          "output_type": "stream",
          "text": [
            " 20%|██        | 2.0053333333333128/10 [00:55<03:23, 25.49s/it]"
          ]
        },
        {
          "name": "stdout",
          "output_type": "stream",
          "text": [
            "\n",
            "Test Epoch: 2\tAccuracy: 8036/11005 (73%)\n",
            "\n",
            "Train Epoch: 3 [0/84843 (0%)]\tLoss: 0.791911\n"
          ]
        },
        {
          "name": "stderr",
          "output_type": "stream",
          "text": [
            " 21%|██        | 2.058666666666649/10 [00:57<04:24, 33.36s/it] "
          ]
        },
        {
          "name": "stdout",
          "output_type": "stream",
          "text": [
            "Train Epoch: 3 [5120/84843 (6%)]\tLoss: 0.768891\n"
          ]
        },
        {
          "name": "stderr",
          "output_type": "stream",
          "text": [
            " 21%|██        | 2.1119999999999854/10 [00:59<03:50, 29.20s/it]"
          ]
        },
        {
          "name": "stdout",
          "output_type": "stream",
          "text": [
            "Train Epoch: 3 [10240/84843 (12%)]\tLoss: 0.691689\n"
          ]
        },
        {
          "name": "stderr",
          "output_type": "stream",
          "text": [
            " 22%|██▏       | 2.159999999999988/10 [01:00<03:56, 30.15s/it] "
          ]
        },
        {
          "name": "stdout",
          "output_type": "stream",
          "text": [
            "Train Epoch: 3 [15360/84843 (18%)]\tLoss: 0.568271\n"
          ]
        },
        {
          "name": "stderr",
          "output_type": "stream",
          "text": [
            " 22%|██▏       | 2.218666666666658/10 [01:02<03:51, 29.74s/it] "
          ]
        },
        {
          "name": "stdout",
          "output_type": "stream",
          "text": [
            "Train Epoch: 3 [20480/84843 (24%)]\tLoss: 0.539484\n"
          ]
        },
        {
          "name": "stderr",
          "output_type": "stream",
          "text": [
            " 23%|██▎       | 2.2719999999999945/10 [01:04<03:33, 27.58s/it]"
          ]
        },
        {
          "name": "stdout",
          "output_type": "stream",
          "text": [
            "Train Epoch: 3 [25600/84843 (30%)]\tLoss: 0.720380\n"
          ]
        },
        {
          "name": "stderr",
          "output_type": "stream",
          "text": [
            " 23%|██▎       | 2.325333333333331/10 [01:05<03:35, 28.05s/it]"
          ]
        },
        {
          "name": "stdout",
          "output_type": "stream",
          "text": [
            "Train Epoch: 3 [30720/84843 (36%)]\tLoss: 0.675969\n"
          ]
        },
        {
          "name": "stderr",
          "output_type": "stream",
          "text": [
            " 24%|██▍       | 2.378666666666667/10 [01:07<03:25, 26.95s/it] "
          ]
        },
        {
          "name": "stdout",
          "output_type": "stream",
          "text": [
            "Train Epoch: 3 [35840/84843 (42%)]\tLoss: 0.709632\n"
          ]
        },
        {
          "name": "stderr",
          "output_type": "stream",
          "text": [
            " 24%|██▍       | 2.4320000000000035/10 [01:08<03:31, 27.93s/it]"
          ]
        },
        {
          "name": "stdout",
          "output_type": "stream",
          "text": [
            "Train Epoch: 3 [40960/84843 (48%)]\tLoss: 0.788297\n"
          ]
        },
        {
          "name": "stderr",
          "output_type": "stream",
          "text": [
            " 25%|██▍       | 2.48533333333334/10 [01:10<04:07, 32.95s/it] "
          ]
        },
        {
          "name": "stdout",
          "output_type": "stream",
          "text": [
            "Train Epoch: 3 [46080/84843 (54%)]\tLoss: 0.605362\n"
          ]
        },
        {
          "name": "stderr",
          "output_type": "stream",
          "text": [
            " 25%|██▌       | 2.538666666666676/10 [01:11<03:30, 28.24s/it] "
          ]
        },
        {
          "name": "stdout",
          "output_type": "stream",
          "text": [
            "Train Epoch: 3 [51200/84843 (60%)]\tLoss: 0.675099\n"
          ]
        },
        {
          "name": "stderr",
          "output_type": "stream",
          "text": [
            " 26%|██▌       | 2.5920000000000125/10 [01:13<03:18, 26.82s/it]"
          ]
        },
        {
          "name": "stdout",
          "output_type": "stream",
          "text": [
            "Train Epoch: 3 [56320/84843 (66%)]\tLoss: 0.574562\n"
          ]
        },
        {
          "name": "stderr",
          "output_type": "stream",
          "text": [
            " 26%|██▋       | 2.645333333333349/10 [01:14<03:20, 27.31s/it] "
          ]
        },
        {
          "name": "stdout",
          "output_type": "stream",
          "text": [
            "Train Epoch: 3 [61440/84843 (72%)]\tLoss: 0.736121\n"
          ]
        },
        {
          "name": "stderr",
          "output_type": "stream",
          "text": [
            " 27%|██▋       | 2.698666666666685/10 [01:16<03:14, 26.64s/it] "
          ]
        },
        {
          "name": "stdout",
          "output_type": "stream",
          "text": [
            "Train Epoch: 3 [66560/84843 (78%)]\tLoss: 0.667357\n"
          ]
        },
        {
          "name": "stderr",
          "output_type": "stream",
          "text": [
            " 28%|██▊       | 2.7520000000000215/10 [01:17<03:10, 26.34s/it]"
          ]
        },
        {
          "name": "stdout",
          "output_type": "stream",
          "text": [
            "Train Epoch: 3 [71680/84843 (84%)]\tLoss: 0.578152\n"
          ]
        },
        {
          "name": "stderr",
          "output_type": "stream",
          "text": [
            " 28%|██▊       | 2.805333333333358/10 [01:19<03:12, 26.80s/it] "
          ]
        },
        {
          "name": "stdout",
          "output_type": "stream",
          "text": [
            "Train Epoch: 3 [76800/84843 (90%)]\tLoss: 0.687767\n"
          ]
        },
        {
          "name": "stderr",
          "output_type": "stream",
          "text": [
            " 29%|██▊       | 2.8586666666666942/10 [01:20<03:10, 26.70s/it]"
          ]
        },
        {
          "name": "stdout",
          "output_type": "stream",
          "text": [
            "Train Epoch: 3 [81920/84843 (96%)]\tLoss: 0.691955\n"
          ]
        },
        {
          "name": "stderr",
          "output_type": "stream",
          "text": [
            " 30%|███       | 3.0026666666667023/10 [01:24<03:01, 26.01s/it]"
          ]
        },
        {
          "name": "stdout",
          "output_type": "stream",
          "text": [
            "\n",
            "Test Epoch: 3\tAccuracy: 8307/11005 (75%)\n",
            "\n",
            "Train Epoch: 4 [0/84843 (0%)]\tLoss: 0.606831\n"
          ]
        },
        {
          "name": "stderr",
          "output_type": "stream",
          "text": [
            " 31%|███       | 3.0613333333333723/10 [01:26<03:10, 27.52s/it]"
          ]
        },
        {
          "name": "stdout",
          "output_type": "stream",
          "text": [
            "Train Epoch: 4 [5120/84843 (6%)]\tLoss: 0.841963\n"
          ]
        },
        {
          "name": "stderr",
          "output_type": "stream",
          "text": [
            " 31%|███       | 3.1146666666667087/10 [01:27<03:04, 26.75s/it]"
          ]
        },
        {
          "name": "stdout",
          "output_type": "stream",
          "text": [
            "Train Epoch: 4 [10240/84843 (12%)]\tLoss: 0.534517\n"
          ]
        },
        {
          "name": "stderr",
          "output_type": "stream",
          "text": [
            " 32%|███▏      | 3.168000000000045/10 [01:29<03:17, 28.90s/it] "
          ]
        },
        {
          "name": "stdout",
          "output_type": "stream",
          "text": [
            "Train Epoch: 4 [15360/84843 (18%)]\tLoss: 0.620974\n"
          ]
        },
        {
          "name": "stderr",
          "output_type": "stream",
          "text": [
            " 32%|███▏      | 3.2213333333333813/10 [01:30<03:00, 26.59s/it]"
          ]
        },
        {
          "name": "stdout",
          "output_type": "stream",
          "text": [
            "Train Epoch: 4 [20480/84843 (24%)]\tLoss: 0.726379\n"
          ]
        },
        {
          "name": "stderr",
          "output_type": "stream",
          "text": [
            " 33%|███▎      | 3.2746666666667177/10 [01:32<02:59, 26.76s/it]"
          ]
        },
        {
          "name": "stdout",
          "output_type": "stream",
          "text": [
            "Train Epoch: 4 [25600/84843 (30%)]\tLoss: 0.683808\n"
          ]
        },
        {
          "name": "stderr",
          "output_type": "stream",
          "text": [
            " 33%|███▎      | 3.328000000000054/10 [01:33<02:59, 26.91s/it] "
          ]
        },
        {
          "name": "stdout",
          "output_type": "stream",
          "text": [
            "Train Epoch: 4 [30720/84843 (36%)]\tLoss: 0.590250\n"
          ]
        },
        {
          "name": "stderr",
          "output_type": "stream",
          "text": [
            " 34%|███▍      | 3.3813333333333904/10 [01:35<03:46, 34.16s/it]"
          ]
        },
        {
          "name": "stdout",
          "output_type": "stream",
          "text": [
            "Train Epoch: 4 [35840/84843 (42%)]\tLoss: 0.698858\n"
          ]
        },
        {
          "name": "stderr",
          "output_type": "stream",
          "text": [
            " 34%|███▍      | 3.4346666666667267/10 [01:37<03:03, 27.88s/it]"
          ]
        },
        {
          "name": "stdout",
          "output_type": "stream",
          "text": [
            "Train Epoch: 4 [40960/84843 (48%)]\tLoss: 0.630202\n"
          ]
        },
        {
          "name": "stderr",
          "output_type": "stream",
          "text": [
            " 35%|███▍      | 3.488000000000063/10 [01:38<02:53, 26.66s/it] "
          ]
        },
        {
          "name": "stdout",
          "output_type": "stream",
          "text": [
            "Train Epoch: 4 [46080/84843 (54%)]\tLoss: 0.736000\n"
          ]
        },
        {
          "name": "stderr",
          "output_type": "stream",
          "text": [
            " 35%|███▌      | 3.5413333333333994/10 [01:39<02:50, 26.45s/it]"
          ]
        },
        {
          "name": "stdout",
          "output_type": "stream",
          "text": [
            "Train Epoch: 4 [51200/84843 (60%)]\tLoss: 0.621956\n"
          ]
        },
        {
          "name": "stderr",
          "output_type": "stream",
          "text": [
            " 36%|███▌      | 3.5946666666667357/10 [01:41<02:52, 26.88s/it]"
          ]
        },
        {
          "name": "stdout",
          "output_type": "stream",
          "text": [
            "Train Epoch: 4 [56320/84843 (66%)]\tLoss: 0.671938\n"
          ]
        },
        {
          "name": "stderr",
          "output_type": "stream",
          "text": [
            " 36%|███▋      | 3.648000000000072/10 [01:42<02:49, 26.66s/it] "
          ]
        },
        {
          "name": "stdout",
          "output_type": "stream",
          "text": [
            "Train Epoch: 4 [61440/84843 (72%)]\tLoss: 0.630778\n"
          ]
        },
        {
          "name": "stderr",
          "output_type": "stream",
          "text": [
            " 37%|███▋      | 3.7013333333334084/10 [01:44<02:48, 26.75s/it]"
          ]
        },
        {
          "name": "stdout",
          "output_type": "stream",
          "text": [
            "Train Epoch: 4 [66560/84843 (78%)]\tLoss: 0.552844\n"
          ]
        },
        {
          "name": "stderr",
          "output_type": "stream",
          "text": [
            " 38%|███▊      | 3.752000000000078/10 [01:46<04:43, 45.40s/it]"
          ]
        },
        {
          "name": "stdout",
          "output_type": "stream",
          "text": [
            "Train Epoch: 4 [71680/84843 (84%)]\tLoss: 0.547871\n"
          ]
        },
        {
          "name": "stderr",
          "output_type": "stream",
          "text": [
            " 38%|███▊      | 3.808000000000081/10 [01:48<03:40, 35.60s/it] "
          ]
        },
        {
          "name": "stdout",
          "output_type": "stream",
          "text": [
            "Train Epoch: 4 [76800/84843 (90%)]\tLoss: 0.690669\n"
          ]
        },
        {
          "name": "stderr",
          "output_type": "stream",
          "text": [
            " 39%|███▊      | 3.8613333333334174/10 [01:49<02:47, 27.24s/it]"
          ]
        },
        {
          "name": "stdout",
          "output_type": "stream",
          "text": [
            "Train Epoch: 4 [81920/84843 (96%)]\tLoss: 0.620149\n"
          ]
        },
        {
          "name": "stderr",
          "output_type": "stream",
          "text": [
            " 40%|████      | 4.0000000000000915/10 [01:56<05:00, 50.02s/it]"
          ]
        },
        {
          "name": "stdout",
          "output_type": "stream",
          "text": [
            "\n",
            "Test Epoch: 4\tAccuracy: 8635/11005 (78%)\n",
            "\n"
          ]
        },
        {
          "name": "stderr",
          "output_type": "stream",
          "text": [
            " 40%|████      | 4.005333333333424/10 [01:57<05:45, 57.59s/it]"
          ]
        },
        {
          "name": "stdout",
          "output_type": "stream",
          "text": [
            "Train Epoch: 5 [0/84843 (0%)]\tLoss: 0.581403\n"
          ]
        },
        {
          "name": "stderr",
          "output_type": "stream",
          "text": [
            " 41%|████      | 4.058666666666752/10 [02:00<07:47, 78.72s/it]"
          ]
        },
        {
          "name": "stdout",
          "output_type": "stream",
          "text": [
            "Train Epoch: 5 [5120/84843 (6%)]\tLoss: 0.612041\n"
          ]
        },
        {
          "name": "stderr",
          "output_type": "stream",
          "text": [
            " 41%|████      | 4.1146666666667455/10 [02:02<03:13, 32.81s/it]"
          ]
        },
        {
          "name": "stdout",
          "output_type": "stream",
          "text": [
            "Train Epoch: 5 [10240/84843 (12%)]\tLoss: 0.545195\n"
          ]
        },
        {
          "name": "stderr",
          "output_type": "stream",
          "text": [
            " 42%|████▏     | 4.168000000000073/10 [02:04<02:36, 26.87s/it]"
          ]
        },
        {
          "name": "stdout",
          "output_type": "stream",
          "text": [
            "Train Epoch: 5 [15360/84843 (18%)]\tLoss: 0.523318\n"
          ]
        },
        {
          "name": "stderr",
          "output_type": "stream",
          "text": [
            " 42%|████▏     | 4.2213333333334/10 [02:05<02:33, 26.55s/it]  "
          ]
        },
        {
          "name": "stdout",
          "output_type": "stream",
          "text": [
            "Train Epoch: 5 [20480/84843 (24%)]\tLoss: 0.944783\n"
          ]
        },
        {
          "name": "stderr",
          "output_type": "stream",
          "text": [
            " 43%|████▎     | 4.274666666666728/10 [02:07<02:35, 27.11s/it]"
          ]
        },
        {
          "name": "stdout",
          "output_type": "stream",
          "text": [
            "Train Epoch: 5 [25600/84843 (30%)]\tLoss: 0.630850\n"
          ]
        },
        {
          "name": "stderr",
          "output_type": "stream",
          "text": [
            " 43%|████▎     | 4.328000000000055/10 [02:08<02:31, 26.74s/it]"
          ]
        },
        {
          "name": "stdout",
          "output_type": "stream",
          "text": [
            "Train Epoch: 5 [30720/84843 (36%)]\tLoss: 0.593528\n"
          ]
        },
        {
          "name": "stderr",
          "output_type": "stream",
          "text": [
            " 44%|████▍     | 4.381333333333383/10 [02:10<02:29, 26.53s/it]"
          ]
        },
        {
          "name": "stdout",
          "output_type": "stream",
          "text": [
            "Train Epoch: 5 [35840/84843 (42%)]\tLoss: 0.621614\n"
          ]
        },
        {
          "name": "stderr",
          "output_type": "stream",
          "text": [
            " 44%|████▍     | 4.43466666666671/10 [02:11<02:41, 29.06s/it]  "
          ]
        },
        {
          "name": "stdout",
          "output_type": "stream",
          "text": [
            "Train Epoch: 5 [40960/84843 (48%)]\tLoss: 0.685611\n"
          ]
        },
        {
          "name": "stderr",
          "output_type": "stream",
          "text": [
            " 45%|████▍     | 4.488000000000038/10 [02:13<03:07, 34.05s/it]"
          ]
        },
        {
          "name": "stdout",
          "output_type": "stream",
          "text": [
            "Train Epoch: 5 [46080/84843 (54%)]\tLoss: 0.595755\n"
          ]
        },
        {
          "name": "stderr",
          "output_type": "stream",
          "text": [
            " 45%|████▌     | 4.541333333333365/10 [02:14<02:33, 28.14s/it] "
          ]
        },
        {
          "name": "stdout",
          "output_type": "stream",
          "text": [
            "Train Epoch: 5 [51200/84843 (60%)]\tLoss: 0.543958\n"
          ]
        },
        {
          "name": "stderr",
          "output_type": "stream",
          "text": [
            " 46%|████▌     | 4.594666666666693/10 [02:16<02:24, 26.78s/it]"
          ]
        },
        {
          "name": "stdout",
          "output_type": "stream",
          "text": [
            "Train Epoch: 5 [56320/84843 (66%)]\tLoss: 0.760442\n"
          ]
        },
        {
          "name": "stderr",
          "output_type": "stream",
          "text": [
            " 46%|████▋     | 4.64800000000002/10 [02:17<02:23, 26.88s/it] "
          ]
        },
        {
          "name": "stdout",
          "output_type": "stream",
          "text": [
            "Train Epoch: 5 [61440/84843 (72%)]\tLoss: 0.633263\n"
          ]
        },
        {
          "name": "stderr",
          "output_type": "stream",
          "text": [
            " 47%|████▋     | 4.701333333333348/10 [02:19<02:21, 26.79s/it]"
          ]
        },
        {
          "name": "stdout",
          "output_type": "stream",
          "text": [
            "Train Epoch: 5 [66560/84843 (78%)]\tLoss: 0.756842\n"
          ]
        },
        {
          "name": "stderr",
          "output_type": "stream",
          "text": [
            " 48%|████▊     | 4.754666666666675/10 [02:20<02:24, 27.58s/it]"
          ]
        },
        {
          "name": "stdout",
          "output_type": "stream",
          "text": [
            "Train Epoch: 5 [71680/84843 (84%)]\tLoss: 0.650165\n"
          ]
        },
        {
          "name": "stderr",
          "output_type": "stream",
          "text": [
            " 48%|████▊     | 4.8080000000000025/10 [02:22<02:21, 27.18s/it]"
          ]
        },
        {
          "name": "stdout",
          "output_type": "stream",
          "text": [
            "Train Epoch: 5 [76800/84843 (90%)]\tLoss: 0.577165\n"
          ]
        },
        {
          "name": "stderr",
          "output_type": "stream",
          "text": [
            " 49%|████▊     | 4.86133333333333/10 [02:23<02:20, 27.30s/it] "
          ]
        },
        {
          "name": "stdout",
          "output_type": "stream",
          "text": [
            "Train Epoch: 5 [81920/84843 (96%)]\tLoss: 0.684558\n"
          ]
        },
        {
          "name": "stderr",
          "output_type": "stream",
          "text": [
            " 50%|█████     | 5.005333333333314/10 [02:28<02:21, 28.34s/it]"
          ]
        },
        {
          "name": "stdout",
          "output_type": "stream",
          "text": [
            "\n",
            "Test Epoch: 5\tAccuracy: 8662/11005 (79%)\n",
            "\n",
            "Train Epoch: 6 [0/84843 (0%)]\tLoss: 0.625104\n"
          ]
        },
        {
          "name": "stderr",
          "output_type": "stream",
          "text": [
            " 51%|█████     | 5.0586666666666416/10 [02:29<02:13, 27.01s/it]"
          ]
        },
        {
          "name": "stdout",
          "output_type": "stream",
          "text": [
            "Train Epoch: 6 [5120/84843 (6%)]\tLoss: 0.519019\n"
          ]
        },
        {
          "name": "stderr",
          "output_type": "stream",
          "text": [
            " 51%|█████     | 5.111999999999969/10 [02:31<02:09, 26.54s/it]"
          ]
        },
        {
          "name": "stdout",
          "output_type": "stream",
          "text": [
            "Train Epoch: 6 [10240/84843 (12%)]\tLoss: 0.511004\n"
          ]
        },
        {
          "name": "stderr",
          "output_type": "stream",
          "text": [
            " 52%|█████▏    | 5.167999999999963/10 [02:33<02:58, 36.86s/it]"
          ]
        },
        {
          "name": "stdout",
          "output_type": "stream",
          "text": [
            "Train Epoch: 6 [15360/84843 (18%)]\tLoss: 0.555203\n"
          ]
        },
        {
          "name": "stderr",
          "output_type": "stream",
          "text": [
            " 52%|█████▏    | 5.22133333333329/10 [02:35<02:22, 29.75s/it] "
          ]
        },
        {
          "name": "stdout",
          "output_type": "stream",
          "text": [
            "Train Epoch: 6 [20480/84843 (24%)]\tLoss: 0.619293\n"
          ]
        },
        {
          "name": "stderr",
          "output_type": "stream",
          "text": [
            " 53%|█████▎    | 5.274666666666618/10 [02:36<02:06, 26.88s/it]"
          ]
        },
        {
          "name": "stdout",
          "output_type": "stream",
          "text": [
            "Train Epoch: 6 [25600/84843 (30%)]\tLoss: 0.517402\n"
          ]
        },
        {
          "name": "stderr",
          "output_type": "stream",
          "text": [
            " 53%|█████▎    | 5.327999999999945/10 [02:38<02:38, 33.97s/it] "
          ]
        },
        {
          "name": "stdout",
          "output_type": "stream",
          "text": [
            "Train Epoch: 6 [30720/84843 (36%)]\tLoss: 0.601124\n"
          ]
        },
        {
          "name": "stderr",
          "output_type": "stream",
          "text": [
            " 54%|█████▍    | 5.378666666666606/10 [02:40<03:17, 42.73s/it]"
          ]
        },
        {
          "name": "stdout",
          "output_type": "stream",
          "text": [
            "Train Epoch: 6 [35840/84843 (42%)]\tLoss: 0.569092\n"
          ]
        },
        {
          "name": "stderr",
          "output_type": "stream",
          "text": [
            " 54%|█████▍    | 5.4346666666666/10 [02:42<02:57, 38.89s/it]  "
          ]
        },
        {
          "name": "stdout",
          "output_type": "stream",
          "text": [
            "Train Epoch: 6 [40960/84843 (48%)]\tLoss: 0.755543\n"
          ]
        },
        {
          "name": "stderr",
          "output_type": "stream",
          "text": [
            " 55%|█████▍    | 5.485333333333261/10 [02:44<03:05, 41.06s/it]"
          ]
        },
        {
          "name": "stdout",
          "output_type": "stream",
          "text": [
            "Train Epoch: 6 [46080/84843 (54%)]\tLoss: 0.637270\n"
          ]
        },
        {
          "name": "stderr",
          "output_type": "stream",
          "text": [
            " 55%|█████▌    | 5.535999999999922/10 [02:45<02:21, 31.75s/it]"
          ]
        },
        {
          "name": "stdout",
          "output_type": "stream",
          "text": [
            "Train Epoch: 6 [51200/84843 (60%)]\tLoss: 0.602478\n"
          ]
        },
        {
          "name": "stderr",
          "output_type": "stream",
          "text": [
            " 56%|█████▌    | 5.591999999999916/10 [02:49<04:05, 55.65s/it]"
          ]
        },
        {
          "name": "stdout",
          "output_type": "stream",
          "text": [
            "Train Epoch: 6 [56320/84843 (66%)]\tLoss: 0.540863\n"
          ]
        },
        {
          "name": "stderr",
          "output_type": "stream",
          "text": [
            " 56%|█████▋    | 5.642666666666577/10 [02:52<02:39, 36.56s/it] "
          ]
        },
        {
          "name": "stdout",
          "output_type": "stream",
          "text": [
            "Train Epoch: 6 [61440/84843 (72%)]\tLoss: 0.485541\n"
          ]
        },
        {
          "name": "stderr",
          "output_type": "stream",
          "text": [
            " 57%|█████▋    | 5.695999999999905/10 [02:54<02:33, 35.65s/it]"
          ]
        },
        {
          "name": "stdout",
          "output_type": "stream",
          "text": [
            "Train Epoch: 6 [66560/84843 (78%)]\tLoss: 0.687904\n"
          ]
        },
        {
          "name": "stderr",
          "output_type": "stream",
          "text": [
            " 57%|█████▋    | 5.749333333333232/10 [02:56<02:25, 34.16s/it]"
          ]
        },
        {
          "name": "stdout",
          "output_type": "stream",
          "text": [
            "Train Epoch: 6 [71680/84843 (84%)]\tLoss: 0.530035\n"
          ]
        },
        {
          "name": "stderr",
          "output_type": "stream",
          "text": [
            " 58%|█████▊    | 5.80266666666656/10 [02:58<02:21, 33.67s/it] "
          ]
        },
        {
          "name": "stdout",
          "output_type": "stream",
          "text": [
            "Train Epoch: 6 [76800/84843 (90%)]\tLoss: 0.588856\n"
          ]
        },
        {
          "name": "stderr",
          "output_type": "stream",
          "text": [
            " 59%|█████▊    | 5.855999999999887/10 [03:00<02:31, 36.49s/it]"
          ]
        },
        {
          "name": "stdout",
          "output_type": "stream",
          "text": [
            "Train Epoch: 6 [81920/84843 (96%)]\tLoss: 0.572306\n"
          ]
        },
        {
          "name": "stderr",
          "output_type": "stream",
          "text": [
            " 60%|█████▉    | 5.999999999999871/10 [03:06<02:30, 37.59s/it] "
          ]
        },
        {
          "name": "stdout",
          "output_type": "stream",
          "text": [
            "\n",
            "Test Epoch: 6\tAccuracy: 8136/11005 (74%)\n",
            "\n",
            "Train Epoch: 7 [0/84843 (0%)]\tLoss: 0.518457\n"
          ]
        },
        {
          "name": "stderr",
          "output_type": "stream",
          "text": [
            " 61%|██████    | 6.058666666666531/10 [03:09<02:41, 41.04s/it]"
          ]
        },
        {
          "name": "stdout",
          "output_type": "stream",
          "text": [
            "Train Epoch: 7 [5120/84843 (6%)]\tLoss: 0.678113\n"
          ]
        },
        {
          "name": "stderr",
          "output_type": "stream",
          "text": [
            " 61%|██████    | 6.114666666666525/10 [03:11<02:03, 31.68s/it] "
          ]
        },
        {
          "name": "stdout",
          "output_type": "stream",
          "text": [
            "Train Epoch: 7 [10240/84843 (12%)]\tLoss: 0.658854\n"
          ]
        },
        {
          "name": "stderr",
          "output_type": "stream",
          "text": [
            " 62%|██████▏   | 6.165333333333186/10 [03:13<02:31, 39.49s/it]"
          ]
        },
        {
          "name": "stdout",
          "output_type": "stream",
          "text": [
            "Train Epoch: 7 [15360/84843 (18%)]\tLoss: 0.472964\n"
          ]
        },
        {
          "name": "stderr",
          "output_type": "stream",
          "text": [
            " 62%|██████▏   | 6.218666666666514/10 [03:15<01:52, 29.69s/it]"
          ]
        },
        {
          "name": "stdout",
          "output_type": "stream",
          "text": [
            "Train Epoch: 7 [20480/84843 (24%)]\tLoss: 0.542554\n"
          ]
        },
        {
          "name": "stderr",
          "output_type": "stream",
          "text": [
            " 63%|██████▎   | 6.274666666666508/10 [03:17<02:36, 41.97s/it]"
          ]
        },
        {
          "name": "stdout",
          "output_type": "stream",
          "text": [
            "Train Epoch: 7 [25600/84843 (30%)]\tLoss: 0.700428\n"
          ]
        },
        {
          "name": "stderr",
          "output_type": "stream",
          "text": [
            " 63%|██████▎   | 6.327999999999835/10 [03:19<02:17, 37.38s/it]"
          ]
        },
        {
          "name": "stdout",
          "output_type": "stream",
          "text": [
            "Train Epoch: 7 [30720/84843 (36%)]\tLoss: 0.497806\n"
          ]
        },
        {
          "name": "stderr",
          "output_type": "stream",
          "text": [
            " 64%|██████▍   | 6.378666666666496/10 [03:21<02:10, 35.92s/it]"
          ]
        },
        {
          "name": "stdout",
          "output_type": "stream",
          "text": [
            "Train Epoch: 7 [35840/84843 (42%)]\tLoss: 0.516722\n"
          ]
        },
        {
          "name": "stderr",
          "output_type": "stream",
          "text": [
            " 64%|██████▍   | 6.43466666666649/10 [03:23<01:59, 33.55s/it] "
          ]
        },
        {
          "name": "stdout",
          "output_type": "stream",
          "text": [
            "Train Epoch: 7 [40960/84843 (48%)]\tLoss: 0.615677\n"
          ]
        },
        {
          "name": "stderr",
          "output_type": "stream",
          "text": [
            " 65%|██████▍   | 6.482666666666485/10 [03:25<02:41, 46.02s/it]"
          ]
        },
        {
          "name": "stdout",
          "output_type": "stream",
          "text": [
            "Train Epoch: 7 [46080/84843 (54%)]\tLoss: 0.398665\n"
          ]
        },
        {
          "name": "stderr",
          "output_type": "stream",
          "text": [
            " 65%|██████▌   | 6.535999999999812/10 [03:27<02:33, 44.32s/it]"
          ]
        },
        {
          "name": "stdout",
          "output_type": "stream",
          "text": [
            "Train Epoch: 7 [51200/84843 (60%)]\tLoss: 0.587281\n"
          ]
        },
        {
          "name": "stderr",
          "output_type": "stream",
          "text": [
            " 66%|██████▌   | 6.591999999999806/10 [03:29<01:57, 34.61s/it]"
          ]
        },
        {
          "name": "stdout",
          "output_type": "stream",
          "text": [
            "Train Epoch: 7 [56320/84843 (66%)]\tLoss: 0.619632\n"
          ]
        },
        {
          "name": "stderr",
          "output_type": "stream",
          "text": [
            " 66%|██████▋   | 6.6453333333331335/10 [03:30<01:34, 28.22s/it]"
          ]
        },
        {
          "name": "stdout",
          "output_type": "stream",
          "text": [
            "Train Epoch: 7 [61440/84843 (72%)]\tLoss: 0.591855\n"
          ]
        },
        {
          "name": "stderr",
          "output_type": "stream",
          "text": [
            " 67%|██████▋   | 6.698666666666461/10 [03:32<02:00, 36.41s/it]"
          ]
        },
        {
          "name": "stdout",
          "output_type": "stream",
          "text": [
            "Train Epoch: 7 [66560/84843 (78%)]\tLoss: 0.680561\n"
          ]
        },
        {
          "name": "stderr",
          "output_type": "stream",
          "text": [
            " 68%|██████▊   | 6.751999999999788/10 [03:34<01:29, 27.48s/it]"
          ]
        },
        {
          "name": "stdout",
          "output_type": "stream",
          "text": [
            "Train Epoch: 7 [71680/84843 (84%)]\tLoss: 0.581518\n"
          ]
        },
        {
          "name": "stderr",
          "output_type": "stream",
          "text": [
            " 68%|██████▊   | 6.805333333333116/10 [03:35<01:26, 27.15s/it]"
          ]
        },
        {
          "name": "stdout",
          "output_type": "stream",
          "text": [
            "Train Epoch: 7 [76800/84843 (90%)]\tLoss: 0.530189\n"
          ]
        },
        {
          "name": "stderr",
          "output_type": "stream",
          "text": [
            " 69%|██████▊   | 6.858666666666443/10 [03:37<02:14, 42.77s/it]"
          ]
        },
        {
          "name": "stdout",
          "output_type": "stream",
          "text": [
            "Train Epoch: 7 [81920/84843 (96%)]\tLoss: 0.573712\n"
          ]
        },
        {
          "name": "stderr",
          "output_type": "stream",
          "text": [
            " 70%|███████   | 7.0026666666664275/10 [03:41<01:37, 32.53s/it]"
          ]
        },
        {
          "name": "stdout",
          "output_type": "stream",
          "text": [
            "\n",
            "Test Epoch: 7\tAccuracy: 8597/11005 (78%)\n",
            "\n",
            "Train Epoch: 8 [0/84843 (0%)]\tLoss: 0.581926\n"
          ]
        },
        {
          "name": "stderr",
          "output_type": "stream",
          "text": [
            " 71%|███████   | 7.061333333333088/10 [03:43<01:22, 28.11s/it]"
          ]
        },
        {
          "name": "stdout",
          "output_type": "stream",
          "text": [
            "Train Epoch: 8 [5120/84843 (6%)]\tLoss: 0.458323\n"
          ]
        },
        {
          "name": "stderr",
          "output_type": "stream",
          "text": [
            " 71%|███████   | 7.114666666666415/10 [03:44<01:18, 27.07s/it]"
          ]
        },
        {
          "name": "stdout",
          "output_type": "stream",
          "text": [
            "Train Epoch: 8 [10240/84843 (12%)]\tLoss: 0.513087\n"
          ]
        },
        {
          "name": "stderr",
          "output_type": "stream",
          "text": [
            " 72%|███████▏  | 7.167999999999743/10 [03:46<01:16, 27.06s/it]"
          ]
        },
        {
          "name": "stdout",
          "output_type": "stream",
          "text": [
            "Train Epoch: 8 [15360/84843 (18%)]\tLoss: 0.639268\n"
          ]
        },
        {
          "name": "stderr",
          "output_type": "stream",
          "text": [
            " 72%|███████▏  | 7.215999999999737/10 [03:47<01:28, 31.87s/it] "
          ]
        },
        {
          "name": "stdout",
          "output_type": "stream",
          "text": [
            "Train Epoch: 8 [20480/84843 (24%)]\tLoss: 0.511906\n"
          ]
        },
        {
          "name": "stderr",
          "output_type": "stream",
          "text": [
            " 73%|███████▎  | 7.2746666666663975/10 [03:49<01:25, 31.32s/it]"
          ]
        },
        {
          "name": "stdout",
          "output_type": "stream",
          "text": [
            "Train Epoch: 8 [25600/84843 (30%)]\tLoss: 0.616268\n"
          ]
        },
        {
          "name": "stderr",
          "output_type": "stream",
          "text": [
            " 73%|███████▎  | 7.327999999999725/10 [03:51<01:30, 33.80s/it]"
          ]
        },
        {
          "name": "stdout",
          "output_type": "stream",
          "text": [
            "Train Epoch: 8 [30720/84843 (36%)]\tLoss: 0.627850\n"
          ]
        },
        {
          "name": "stderr",
          "output_type": "stream",
          "text": [
            " 74%|███████▍  | 7.378666666666386/10 [03:53<02:25, 55.46s/it]"
          ]
        },
        {
          "name": "stdout",
          "output_type": "stream",
          "text": [
            "Train Epoch: 8 [35840/84843 (42%)]\tLoss: 0.499172\n"
          ]
        },
        {
          "name": "stderr",
          "output_type": "stream",
          "text": [
            " 74%|███████▍  | 7.43466666666638/10 [03:55<01:14, 28.99s/it] "
          ]
        },
        {
          "name": "stdout",
          "output_type": "stream",
          "text": [
            "Train Epoch: 8 [40960/84843 (48%)]\tLoss: 0.499270\n"
          ]
        },
        {
          "name": "stderr",
          "output_type": "stream",
          "text": [
            " 75%|███████▍  | 7.487999999999707/10 [03:57<01:06, 26.56s/it]"
          ]
        },
        {
          "name": "stdout",
          "output_type": "stream",
          "text": [
            "Train Epoch: 8 [46080/84843 (54%)]\tLoss: 0.584161\n"
          ]
        },
        {
          "name": "stderr",
          "output_type": "stream",
          "text": [
            " 75%|███████▌  | 7.541333333333035/10 [03:58<01:06, 27.19s/it]"
          ]
        },
        {
          "name": "stdout",
          "output_type": "stream",
          "text": [
            "Train Epoch: 8 [51200/84843 (60%)]\tLoss: 0.545033\n"
          ]
        },
        {
          "name": "stderr",
          "output_type": "stream",
          "text": [
            " 76%|███████▌  | 7.594666666666362/10 [03:59<01:02, 26.17s/it] "
          ]
        },
        {
          "name": "stdout",
          "output_type": "stream",
          "text": [
            "Train Epoch: 8 [56320/84843 (66%)]\tLoss: 0.550548\n"
          ]
        },
        {
          "name": "stderr",
          "output_type": "stream",
          "text": [
            " 76%|███████▋  | 7.64799999999969/10 [04:01<01:03, 27.01s/it] "
          ]
        },
        {
          "name": "stdout",
          "output_type": "stream",
          "text": [
            "Train Epoch: 8 [61440/84843 (72%)]\tLoss: 0.705202\n"
          ]
        },
        {
          "name": "stderr",
          "output_type": "stream",
          "text": [
            " 77%|███████▋  | 7.701333333333017/10 [04:02<01:01, 26.81s/it]"
          ]
        },
        {
          "name": "stdout",
          "output_type": "stream",
          "text": [
            "Train Epoch: 8 [66560/84843 (78%)]\tLoss: 0.672283\n"
          ]
        },
        {
          "name": "stderr",
          "output_type": "stream",
          "text": [
            " 78%|███████▊  | 7.754666666666345/10 [04:04<01:00, 26.74s/it]"
          ]
        },
        {
          "name": "stdout",
          "output_type": "stream",
          "text": [
            "Train Epoch: 8 [71680/84843 (84%)]\tLoss: 0.522093\n"
          ]
        },
        {
          "name": "stderr",
          "output_type": "stream",
          "text": [
            " 78%|███████▊  | 7.807999999999672/10 [04:06<01:28, 40.56s/it]"
          ]
        },
        {
          "name": "stdout",
          "output_type": "stream",
          "text": [
            "Train Epoch: 8 [76800/84843 (90%)]\tLoss: 0.620889\n"
          ]
        },
        {
          "name": "stderr",
          "output_type": "stream",
          "text": [
            " 79%|███████▊  | 7.8613333333329996/10 [04:08<01:24, 39.37s/it]"
          ]
        },
        {
          "name": "stdout",
          "output_type": "stream",
          "text": [
            "Train Epoch: 8 [81920/84843 (96%)]\tLoss: 0.700562\n"
          ]
        },
        {
          "name": "stderr",
          "output_type": "stream",
          "text": [
            " 80%|████████  | 8.002666666666318/10 [04:12<01:03, 31.83s/it]"
          ]
        },
        {
          "name": "stdout",
          "output_type": "stream",
          "text": [
            "\n",
            "Test Epoch: 8\tAccuracy: 8054/11005 (73%)\n",
            "\n",
            "Train Epoch: 9 [0/84843 (0%)]\tLoss: 0.496843\n"
          ]
        },
        {
          "name": "stderr",
          "output_type": "stream",
          "text": [
            " 81%|████████  | 8.061333333332978/10 [04:14<01:04, 33.36s/it]"
          ]
        },
        {
          "name": "stdout",
          "output_type": "stream",
          "text": [
            "Train Epoch: 9 [5120/84843 (6%)]\tLoss: 0.614045\n"
          ]
        },
        {
          "name": "stderr",
          "output_type": "stream",
          "text": [
            " 81%|████████  | 8.109333333332973/10 [04:16<01:06, 35.38s/it]"
          ]
        },
        {
          "name": "stdout",
          "output_type": "stream",
          "text": [
            "Train Epoch: 9 [10240/84843 (12%)]\tLoss: 0.535003\n"
          ]
        },
        {
          "name": "stderr",
          "output_type": "stream",
          "text": [
            " 82%|████████▏ | 8.1626666666663/10 [04:18<01:07, 36.93s/it]  "
          ]
        },
        {
          "name": "stdout",
          "output_type": "stream",
          "text": [
            "Train Epoch: 9 [15360/84843 (18%)]\tLoss: 0.456556\n"
          ]
        },
        {
          "name": "stderr",
          "output_type": "stream",
          "text": [
            " 82%|████████▏ | 8.218666666666294/10 [04:20<00:57, 32.12s/it]"
          ]
        },
        {
          "name": "stdout",
          "output_type": "stream",
          "text": [
            "Train Epoch: 9 [20480/84843 (24%)]\tLoss: 0.542688\n"
          ]
        },
        {
          "name": "stderr",
          "output_type": "stream",
          "text": [
            " 83%|████████▎ | 8.271999999999622/10 [04:22<01:04, 37.40s/it]"
          ]
        },
        {
          "name": "stdout",
          "output_type": "stream",
          "text": [
            "Train Epoch: 9 [25600/84843 (30%)]\tLoss: 0.536662\n"
          ]
        },
        {
          "name": "stderr",
          "output_type": "stream",
          "text": [
            " 83%|████████▎ | 8.32533333333295/10 [04:24<00:46, 27.55s/it] "
          ]
        },
        {
          "name": "stdout",
          "output_type": "stream",
          "text": [
            "Train Epoch: 9 [30720/84843 (36%)]\tLoss: 0.597602\n"
          ]
        },
        {
          "name": "stderr",
          "output_type": "stream",
          "text": [
            " 84%|████████▍ | 8.378666666666277/10 [04:25<00:43, 27.09s/it]"
          ]
        },
        {
          "name": "stdout",
          "output_type": "stream",
          "text": [
            "Train Epoch: 9 [35840/84843 (42%)]\tLoss: 0.561825\n"
          ]
        },
        {
          "name": "stderr",
          "output_type": "stream",
          "text": [
            " 84%|████████▍ | 8.431999999999604/10 [04:26<00:41, 26.64s/it]"
          ]
        },
        {
          "name": "stdout",
          "output_type": "stream",
          "text": [
            "Train Epoch: 9 [40960/84843 (48%)]\tLoss: 0.510783\n"
          ]
        },
        {
          "name": "stderr",
          "output_type": "stream",
          "text": [
            " 85%|████████▍ | 8.485333333332932/10 [04:28<00:40, 26.69s/it]"
          ]
        },
        {
          "name": "stdout",
          "output_type": "stream",
          "text": [
            "Train Epoch: 9 [46080/84843 (54%)]\tLoss: 0.573963\n"
          ]
        },
        {
          "name": "stderr",
          "output_type": "stream",
          "text": [
            " 85%|████████▌ | 8.53866666666626/10 [04:29<00:39, 26.88s/it] "
          ]
        },
        {
          "name": "stdout",
          "output_type": "stream",
          "text": [
            "Train Epoch: 9 [51200/84843 (60%)]\tLoss: 0.715119\n"
          ]
        },
        {
          "name": "stderr",
          "output_type": "stream",
          "text": [
            " 86%|████████▌ | 8.591999999999587/10 [04:32<01:13, 51.92s/it]"
          ]
        },
        {
          "name": "stdout",
          "output_type": "stream",
          "text": [
            "Train Epoch: 9 [56320/84843 (66%)]\tLoss: 0.693737\n"
          ]
        },
        {
          "name": "stderr",
          "output_type": "stream",
          "text": [
            " 86%|████████▋ | 8.645333333332914/10 [04:34<00:50, 37.49s/it]"
          ]
        },
        {
          "name": "stdout",
          "output_type": "stream",
          "text": [
            "Train Epoch: 9 [61440/84843 (72%)]\tLoss: 0.561010\n"
          ]
        },
        {
          "name": "stderr",
          "output_type": "stream",
          "text": [
            " 87%|████████▋ | 8.698666666666242/10 [04:36<00:40, 31.33s/it]"
          ]
        },
        {
          "name": "stdout",
          "output_type": "stream",
          "text": [
            "Train Epoch: 9 [66560/84843 (78%)]\tLoss: 0.532570\n"
          ]
        },
        {
          "name": "stderr",
          "output_type": "stream",
          "text": [
            " 88%|████████▊ | 8.751999999999569/10 [04:37<00:43, 34.68s/it]"
          ]
        },
        {
          "name": "stdout",
          "output_type": "stream",
          "text": [
            "Train Epoch: 9 [71680/84843 (84%)]\tLoss: 0.672710\n"
          ]
        },
        {
          "name": "stderr",
          "output_type": "stream",
          "text": [
            " 88%|████████▊ | 8.805333333332896/10 [04:39<00:37, 31.72s/it]"
          ]
        },
        {
          "name": "stdout",
          "output_type": "stream",
          "text": [
            "Train Epoch: 9 [76800/84843 (90%)]\tLoss: 0.546638\n"
          ]
        },
        {
          "name": "stderr",
          "output_type": "stream",
          "text": [
            " 89%|████████▊ | 8.858666666666224/10 [04:42<01:00, 52.76s/it]"
          ]
        },
        {
          "name": "stdout",
          "output_type": "stream",
          "text": [
            "Train Epoch: 9 [81920/84843 (96%)]\tLoss: 0.735628\n"
          ]
        },
        {
          "name": "stderr",
          "output_type": "stream",
          "text": [
            " 90%|█████████ | 9.002666666666208/10 [04:48<00:27, 27.50s/it]"
          ]
        },
        {
          "name": "stdout",
          "output_type": "stream",
          "text": [
            "\n",
            "Test Epoch: 9\tAccuracy: 8775/11005 (80%)\n",
            "\n",
            "Train Epoch: 10 [0/84843 (0%)]\tLoss: 0.414693\n"
          ]
        },
        {
          "name": "stderr",
          "output_type": "stream",
          "text": [
            " 91%|█████████ | 9.061333333332868/10 [04:49<00:25, 27.13s/it]"
          ]
        },
        {
          "name": "stdout",
          "output_type": "stream",
          "text": [
            "Train Epoch: 10 [5120/84843 (6%)]\tLoss: 0.605361\n"
          ]
        },
        {
          "name": "stderr",
          "output_type": "stream",
          "text": [
            " 91%|█████████ | 9.114666666666196/10 [04:51<00:23, 26.99s/it]"
          ]
        },
        {
          "name": "stdout",
          "output_type": "stream",
          "text": [
            "Train Epoch: 10 [10240/84843 (12%)]\tLoss: 0.539694\n"
          ]
        },
        {
          "name": "stderr",
          "output_type": "stream",
          "text": [
            " 92%|█████████▏| 9.167999999999523/10 [04:52<00:22, 27.22s/it]"
          ]
        },
        {
          "name": "stdout",
          "output_type": "stream",
          "text": [
            "Train Epoch: 10 [15360/84843 (18%)]\tLoss: 0.455115\n"
          ]
        },
        {
          "name": "stderr",
          "output_type": "stream",
          "text": [
            " 92%|█████████▏| 9.22133333333285/10 [04:54<00:20, 26.62s/it] "
          ]
        },
        {
          "name": "stdout",
          "output_type": "stream",
          "text": [
            "Train Epoch: 10 [20480/84843 (24%)]\tLoss: 0.595176\n"
          ]
        },
        {
          "name": "stderr",
          "output_type": "stream",
          "text": [
            " 93%|█████████▎| 9.274666666666178/10 [04:55<00:19, 26.58s/it]"
          ]
        },
        {
          "name": "stdout",
          "output_type": "stream",
          "text": [
            "Train Epoch: 10 [25600/84843 (30%)]\tLoss: 0.550259\n"
          ]
        },
        {
          "name": "stderr",
          "output_type": "stream",
          "text": [
            " 93%|█████████▎| 9.327999999999506/10 [04:57<00:22, 33.54s/it]"
          ]
        },
        {
          "name": "stdout",
          "output_type": "stream",
          "text": [
            "Train Epoch: 10 [30720/84843 (36%)]\tLoss: 0.547930\n"
          ]
        },
        {
          "name": "stderr",
          "output_type": "stream",
          "text": [
            " 94%|█████████▍| 9.381333333332833/10 [04:59<00:17, 28.21s/it]"
          ]
        },
        {
          "name": "stdout",
          "output_type": "stream",
          "text": [
            "Train Epoch: 10 [35840/84843 (42%)]\tLoss: 0.433128\n"
          ]
        },
        {
          "name": "stderr",
          "output_type": "stream",
          "text": [
            " 94%|█████████▍| 9.43466666666616/10 [05:00<00:15, 26.72s/it] "
          ]
        },
        {
          "name": "stdout",
          "output_type": "stream",
          "text": [
            "Train Epoch: 10 [40960/84843 (48%)]\tLoss: 0.561710\n"
          ]
        },
        {
          "name": "stderr",
          "output_type": "stream",
          "text": [
            " 95%|█████████▍| 9.487999999999488/10 [05:01<00:13, 26.86s/it]"
          ]
        },
        {
          "name": "stdout",
          "output_type": "stream",
          "text": [
            "Train Epoch: 10 [46080/84843 (54%)]\tLoss: 0.552340\n"
          ]
        },
        {
          "name": "stderr",
          "output_type": "stream",
          "text": [
            " 95%|█████████▌| 9.541333333332815/10 [05:03<00:12, 26.65s/it]"
          ]
        },
        {
          "name": "stdout",
          "output_type": "stream",
          "text": [
            "Train Epoch: 10 [51200/84843 (60%)]\tLoss: 0.509975\n"
          ]
        },
        {
          "name": "stderr",
          "output_type": "stream",
          "text": [
            " 96%|█████████▌| 9.594666666666143/10 [05:04<00:10, 26.87s/it]"
          ]
        },
        {
          "name": "stdout",
          "output_type": "stream",
          "text": [
            "Train Epoch: 10 [56320/84843 (66%)]\tLoss: 0.557589\n"
          ]
        },
        {
          "name": "stderr",
          "output_type": "stream",
          "text": [
            " 96%|█████████▋| 9.64799999999947/10 [05:06<00:09, 26.70s/it] "
          ]
        },
        {
          "name": "stdout",
          "output_type": "stream",
          "text": [
            "Train Epoch: 10 [61440/84843 (72%)]\tLoss: 0.419115\n"
          ]
        },
        {
          "name": "stderr",
          "output_type": "stream",
          "text": [
            " 97%|█████████▋| 9.701333333332798/10 [05:07<00:07, 26.59s/it]"
          ]
        },
        {
          "name": "stdout",
          "output_type": "stream",
          "text": [
            "Train Epoch: 10 [66560/84843 (78%)]\tLoss: 0.500733\n"
          ]
        },
        {
          "name": "stderr",
          "output_type": "stream",
          "text": [
            " 98%|█████████▊| 9.754666666666125/10 [05:09<00:08, 34.14s/it]"
          ]
        },
        {
          "name": "stdout",
          "output_type": "stream",
          "text": [
            "Train Epoch: 10 [71680/84843 (84%)]\tLoss: 0.531730\n"
          ]
        },
        {
          "name": "stderr",
          "output_type": "stream",
          "text": [
            " 98%|█████████▊| 9.807999999999453/10 [05:11<00:06, 31.82s/it]"
          ]
        },
        {
          "name": "stdout",
          "output_type": "stream",
          "text": [
            "Train Epoch: 10 [76800/84843 (90%)]\tLoss: 0.517989\n"
          ]
        },
        {
          "name": "stderr",
          "output_type": "stream",
          "text": [
            " 99%|█████████▊| 9.86133333333278/10 [05:12<00:03, 26.67s/it] "
          ]
        },
        {
          "name": "stdout",
          "output_type": "stream",
          "text": [
            "Train Epoch: 10 [81920/84843 (96%)]\tLoss: 0.558971\n"
          ]
        },
        {
          "name": "stderr",
          "output_type": "stream",
          "text": [
            "100%|█████████▉| 9.999999999999432/10 [05:15<00:00, 31.60s/it]"
          ]
        },
        {
          "name": "stdout",
          "output_type": "stream",
          "text": [
            "\n",
            "Test Epoch: 10\tAccuracy: 8817/11005 (80%)\n",
            "\n"
          ]
        },
        {
          "name": "stderr",
          "output_type": "stream",
          "text": [
            "\n"
          ]
        }
      ],
      "source": [
        "log_interval = 20\n",
        "n_epoch = 10\n",
        "\n",
        "pbar_update = 1 / (len(train_loader) + len(test_loader))\n",
        "losses = []\n",
        "\n",
        "# The transform needs to live on the same device as the model and the data.\n",
        "transform = transform.to(device)\n",
        "with tqdm(total=n_epoch) as pbar:\n",
        "    for epoch in range(1, n_epoch + 1):\n",
        "        train(model, epoch, log_interval)\n",
        "        test(model, epoch)\n",
        "        scheduler.step()"
      ]
    },
    {
      "cell_type": "markdown",
      "metadata": {
        "id": "7IUMqE5W-BN-"
      },
      "source": [
        "80% accuracy after 10 epochs"
      ]
    },
    {
      "cell_type": "markdown",
      "metadata": {
        "id": "OXjoNp2ESvJ_"
      },
      "source": [
        "## Changing Convolutional layers to FC layers"
      ]
    },
    {
      "cell_type": "code",
      "execution_count": null,
      "metadata": {
        "colab": {
          "base_uri": "https://localhost:8080/"
        },
        "id": "clhpl5STSoQc",
        "outputId": "29bce930-3252-4c8c-e584-1275cae3be56"
      },
      "outputs": [
        {
          "name": "stdout",
          "output_type": "stream",
          "text": [
            "M5_fc(\n",
            "  (conv1): Linear(in_features=8000, out_features=1024, bias=True)\n",
            "  (bn1): BatchNorm1d(1024, eps=1e-05, momentum=0.1, affine=True, track_running_stats=True)\n",
            "  (conv2): Linear(in_features=1024, out_features=256, bias=True)\n",
            "  (bn2): BatchNorm1d(256, eps=1e-05, momentum=0.1, affine=True, track_running_stats=True)\n",
            "  (conv3): Linear(in_features=256, out_features=512, bias=True)\n",
            "  (bn3): BatchNorm1d(512, eps=1e-05, momentum=0.1, affine=True, track_running_stats=True)\n",
            "  (conv4): Linear(in_features=512, out_features=256, bias=True)\n",
            "  (bn4): BatchNorm1d(256, eps=1e-05, momentum=0.1, affine=True, track_running_stats=True)\n",
            "  (fc1): Linear(in_features=256, out_features=35, bias=True)\n",
            ")\n",
            "Number of parameters: 26915\n"
          ]
        }
      ],
      "source": [
        "class M5_fc(nn.Module):\n",
        "    def __init__(self, n_input=8000, n_output=35, stride=16, n_channel=32):\n",
        "        super().__init__()\n",
        "        self.conv1 = nn.Linear(n_input, 1024)\n",
        "        self.bn1 = nn.BatchNorm1d(1024)\n",
        "\n",
        "        self.conv2 = nn.Linear(1024, 256)\n",
        "        self.bn2 = nn.BatchNorm1d(256)\n",
        "\n",
        "        self.conv3 = nn.Linear(256, 512)\n",
        "        self.bn3 = nn.BatchNorm1d(512)\n",
        "\n",
        "        self.conv4 = nn.Linear(512, 256)\n",
        "        self.bn4 = nn.BatchNorm1d(256)\n",
        "        self.fc1 = nn.Linear(256, n_output)\n",
        "\n",
        "\n",
        "\n",
        "    def forward(self, x):\n",
        "        x = x.view(x.size(0), -1)\n",
        "        x = self.conv1(x)\n",
        "        x = F.relu(self.bn1(x))\n",
        "        x = self.conv2(x)\n",
        "        x = F.relu(self.bn2(x))\n",
        "\n",
        "        x = self.conv3(x)\n",
        "        x = F.relu(self.bn3(x))\n",
        "        x = self.conv4(x)\n",
        "\n",
        "        x = self.fc1(x)\n",
        "        return F.log_softmax(x, dim=1)\n",
        "\n",
        "\n",
        "model_fc = M5_fc(n_input=transformed.shape[1], n_output=len(labels))\n",
        "model_fc.to(device)\n",
        "print(model_fc)\n",
        "\n",
        "\n",
        "def count_parameters(model):\n",
        "    return sum(p.numel() for p in model.parameters() if p.requires_grad)\n",
        "\n",
        "\n",
        "n = count_parameters(model)\n",
        "print(\"Number of parameters: %s\" % n)"
      ]
    },
    {
      "cell_type": "code",
      "execution_count": null,
      "metadata": {
        "id": "3A0NRmcF7cJ6"
      },
      "outputs": [],
      "source": [
        "optimizer = optim.Adam(model_fc.parameters(), lr=0.01, weight_decay=0.0001)\n",
        "scheduler = optim.lr_scheduler.StepLR(optimizer, step_size=20, gamma=0.1)\n"
      ]
    },
    {
      "cell_type": "code",
      "execution_count": null,
      "metadata": {
        "colab": {
          "background_save": true,
          "base_uri": "https://localhost:8080/"
        },
        "id": "y31Q6KDL7cHL",
        "outputId": "e1afb555-f874-4241-f446-a82fb05dde2c"
      },
      "outputs": [
        {
          "name": "stderr",
          "output_type": "stream",
          "text": [
            "  0%|          | 0.0026666666666666666/10 [00:00<45:39, 274.00s/it]"
          ]
        },
        {
          "name": "stdout",
          "output_type": "stream",
          "text": [
            "Train Epoch: 1 [0/84843 (0%)]\tLoss: 3.577788\n"
          ]
        },
        {
          "name": "stderr",
          "output_type": "stream",
          "text": [
            "  1%|          | 0.05599999999999999/10 [00:10<27:34, 166.39s/it]"
          ]
        },
        {
          "name": "stdout",
          "output_type": "stream",
          "text": [
            "Train Epoch: 1 [5120/84843 (6%)]\tLoss: 3.687379\n"
          ]
        },
        {
          "name": "stderr",
          "output_type": "stream",
          "text": [
            "  1%|          | 0.10933333333333328/10 [00:19<31:52, 193.35s/it]"
          ]
        },
        {
          "name": "stdout",
          "output_type": "stream",
          "text": [
            "Train Epoch: 1 [10240/84843 (12%)]\tLoss: 3.571158\n"
          ]
        },
        {
          "name": "stderr",
          "output_type": "stream",
          "text": [
            "  2%|▏         | 0.16266666666666676/10 [00:28<23:38, 144.18s/it]"
          ]
        },
        {
          "name": "stdout",
          "output_type": "stream",
          "text": [
            "Train Epoch: 1 [15360/84843 (18%)]\tLoss: 3.495690\n"
          ]
        },
        {
          "name": "stderr",
          "output_type": "stream",
          "text": [
            "  2%|▏         | 0.21600000000000033/10 [00:37<25:52, 158.70s/it]"
          ]
        },
        {
          "name": "stdout",
          "output_type": "stream",
          "text": [
            "Train Epoch: 1 [20480/84843 (24%)]\tLoss: 3.519665\n"
          ]
        },
        {
          "name": "stderr",
          "output_type": "stream",
          "text": [
            "  3%|▎         | 0.2693333333333337/10 [00:46<28:16, 174.35s/it] "
          ]
        },
        {
          "name": "stdout",
          "output_type": "stream",
          "text": [
            "Train Epoch: 1 [25600/84843 (30%)]\tLoss: 3.495832\n"
          ]
        },
        {
          "name": "stderr",
          "output_type": "stream",
          "text": [
            "  3%|▎         | 0.3226666666666667/10 [00:55<28:36, 177.38s/it] "
          ]
        },
        {
          "name": "stdout",
          "output_type": "stream",
          "text": [
            "Train Epoch: 1 [30720/84843 (36%)]\tLoss: 3.519336\n"
          ]
        },
        {
          "name": "stderr",
          "output_type": "stream",
          "text": [
            "  4%|▍         | 0.3759999999999997/10 [01:04<24:05, 150.16s/it]"
          ]
        },
        {
          "name": "stdout",
          "output_type": "stream",
          "text": [
            "Train Epoch: 1 [35840/84843 (42%)]\tLoss: 3.454584\n"
          ]
        },
        {
          "name": "stderr",
          "output_type": "stream",
          "text": [
            "  4%|▍         | 0.42933333333333273/10 [01:14<27:34, 172.90s/it]"
          ]
        },
        {
          "name": "stdout",
          "output_type": "stream",
          "text": [
            "Train Epoch: 1 [40960/84843 (48%)]\tLoss: 3.481969\n"
          ]
        },
        {
          "name": "stderr",
          "output_type": "stream",
          "text": [
            "  5%|▍         | 0.48266666666666574/10 [01:23<32:00, 201.82s/it]"
          ]
        },
        {
          "name": "stdout",
          "output_type": "stream",
          "text": [
            "Train Epoch: 1 [46080/84843 (54%)]\tLoss: 3.415716\n"
          ]
        },
        {
          "name": "stderr",
          "output_type": "stream",
          "text": [
            "  5%|▌         | 0.5359999999999995/10 [01:31<26:06, 165.53s/it]"
          ]
        },
        {
          "name": "stdout",
          "output_type": "stream",
          "text": [
            "Train Epoch: 1 [51200/84843 (60%)]\tLoss: 3.435209\n"
          ]
        },
        {
          "name": "stderr",
          "output_type": "stream",
          "text": [
            "  6%|▌         | 0.5893333333333336/10 [01:41<26:06, 166.46s/it]"
          ]
        },
        {
          "name": "stdout",
          "output_type": "stream",
          "text": [
            "Train Epoch: 1 [56320/84843 (66%)]\tLoss: 3.434190\n"
          ]
        },
        {
          "name": "stderr",
          "output_type": "stream",
          "text": [
            "  6%|▋         | 0.6426666666666677/10 [01:50<31:58, 205.00s/it]"
          ]
        },
        {
          "name": "stdout",
          "output_type": "stream",
          "text": [
            "Train Epoch: 1 [61440/84843 (72%)]\tLoss: 3.447920\n"
          ]
        },
        {
          "name": "stderr",
          "output_type": "stream",
          "text": [
            "  7%|▋         | 0.6960000000000018/10 [01:59<24:54, 160.65s/it]"
          ]
        },
        {
          "name": "stdout",
          "output_type": "stream",
          "text": [
            "Train Epoch: 1 [66560/84843 (78%)]\tLoss: 3.411122\n"
          ]
        },
        {
          "name": "stderr",
          "output_type": "stream",
          "text": [
            "  7%|▋         | 0.749333333333336/10 [02:09<24:04, 156.11s/it] "
          ]
        },
        {
          "name": "stdout",
          "output_type": "stream",
          "text": [
            "Train Epoch: 1 [71680/84843 (84%)]\tLoss: 3.409003\n"
          ]
        },
        {
          "name": "stderr",
          "output_type": "stream",
          "text": [
            "  8%|▊         | 0.8026666666666701/10 [02:18<26:58, 176.02s/it]"
          ]
        },
        {
          "name": "stdout",
          "output_type": "stream",
          "text": [
            "Train Epoch: 1 [76800/84843 (90%)]\tLoss: 3.492694\n"
          ]
        },
        {
          "name": "stderr",
          "output_type": "stream",
          "text": [
            "  9%|▊         | 0.8560000000000042/10 [02:27<29:56, 196.43s/it]"
          ]
        },
        {
          "name": "stdout",
          "output_type": "stream",
          "text": [
            "Train Epoch: 1 [81920/84843 (96%)]\tLoss: 3.407545\n"
          ]
        },
        {
          "name": "stderr",
          "output_type": "stream",
          "text": [
            " 10%|█         | 1.0000000000000062/10 [02:43<14:11, 94.64s/it]"
          ]
        },
        {
          "name": "stdout",
          "output_type": "stream",
          "text": [
            "\n",
            "Test Epoch: 1\tAccuracy: 770/11005 (7%)\n",
            "\n"
          ]
        },
        {
          "name": "stderr",
          "output_type": "stream",
          "text": [
            "\r 10%|█         | 1.0026666666666728/10 [02:44<17:31, 116.88s/it]"
          ]
        },
        {
          "name": "stdout",
          "output_type": "stream",
          "text": [
            "Train Epoch: 2 [0/84843 (0%)]\tLoss: 3.335927\n"
          ]
        },
        {
          "name": "stderr",
          "output_type": "stream",
          "text": [
            " 11%|█         | 1.0560000000000047/10 [02:53<29:44, 199.49s/it]"
          ]
        },
        {
          "name": "stdout",
          "output_type": "stream",
          "text": [
            "Train Epoch: 2 [5120/84843 (6%)]\tLoss: 3.397462\n"
          ]
        },
        {
          "name": "stderr",
          "output_type": "stream",
          "text": [
            " 11%|█         | 1.1093333333333366/10 [03:02<22:48, 153.94s/it]"
          ]
        },
        {
          "name": "stdout",
          "output_type": "stream",
          "text": [
            "Train Epoch: 2 [10240/84843 (12%)]\tLoss: 3.370863\n"
          ]
        },
        {
          "name": "stderr",
          "output_type": "stream",
          "text": [
            " 12%|█▏        | 1.1626666666666685/10 [03:11<24:08, 163.92s/it]"
          ]
        },
        {
          "name": "stdout",
          "output_type": "stream",
          "text": [
            "Train Epoch: 2 [15360/84843 (18%)]\tLoss: 3.357793\n"
          ]
        },
        {
          "name": "stderr",
          "output_type": "stream",
          "text": [
            " 12%|█▏        | 1.2160000000000004/10 [03:21<31:47, 217.11s/it]"
          ]
        },
        {
          "name": "stdout",
          "output_type": "stream",
          "text": [
            "Train Epoch: 2 [20480/84843 (24%)]\tLoss: 3.349457\n"
          ]
        },
        {
          "name": "stderr",
          "output_type": "stream",
          "text": [
            " 13%|█▎        | 1.2693333333333323/10 [03:30<24:00, 165.04s/it]"
          ]
        },
        {
          "name": "stdout",
          "output_type": "stream",
          "text": [
            "Train Epoch: 2 [25600/84843 (30%)]\tLoss: 3.353349\n"
          ]
        },
        {
          "name": "stderr",
          "output_type": "stream",
          "text": [
            " 13%|█▎        | 1.3226666666666642/10 [03:39<22:39, 156.68s/it]"
          ]
        },
        {
          "name": "stdout",
          "output_type": "stream",
          "text": [
            "Train Epoch: 2 [30720/84843 (36%)]\tLoss: 3.339152\n"
          ]
        },
        {
          "name": "stderr",
          "output_type": "stream",
          "text": [
            " 14%|█▍        | 1.3759999999999961/10 [03:49<25:39, 178.47s/it]"
          ]
        },
        {
          "name": "stdout",
          "output_type": "stream",
          "text": [
            "Train Epoch: 2 [35840/84843 (42%)]\tLoss: 3.353863\n"
          ]
        },
        {
          "name": "stderr",
          "output_type": "stream",
          "text": [
            " 14%|█▍        | 1.429333333333328/10 [03:58<26:40, 186.73s/it] "
          ]
        },
        {
          "name": "stdout",
          "output_type": "stream",
          "text": [
            "Train Epoch: 2 [40960/84843 (48%)]\tLoss: 3.396949\n"
          ]
        },
        {
          "name": "stderr",
          "output_type": "stream",
          "text": [
            " 15%|█▍        | 1.48266666666666/10 [04:07<20:29, 144.40s/it]  "
          ]
        },
        {
          "name": "stdout",
          "output_type": "stream",
          "text": [
            "Train Epoch: 2 [46080/84843 (54%)]\tLoss: 3.432331\n"
          ]
        },
        {
          "name": "stderr",
          "output_type": "stream",
          "text": [
            " 15%|█▌        | 1.5359999999999918/10 [04:16<23:04, 163.61s/it]"
          ]
        },
        {
          "name": "stdout",
          "output_type": "stream",
          "text": [
            "Train Epoch: 2 [51200/84843 (60%)]\tLoss: 3.380185\n"
          ]
        },
        {
          "name": "stderr",
          "output_type": "stream",
          "text": [
            " 16%|█▌        | 1.5893333333333237/10 [04:26<30:32, 217.94s/it]"
          ]
        },
        {
          "name": "stdout",
          "output_type": "stream",
          "text": [
            "Train Epoch: 2 [56320/84843 (66%)]\tLoss: 3.390043\n"
          ]
        },
        {
          "name": "stderr",
          "output_type": "stream",
          "text": [
            " 16%|█▋        | 1.6426666666666556/10 [04:34<20:05, 144.21s/it]"
          ]
        },
        {
          "name": "stdout",
          "output_type": "stream",
          "text": [
            "Train Epoch: 2 [61440/84843 (72%)]\tLoss: 3.304982\n"
          ]
        },
        {
          "name": "stderr",
          "output_type": "stream",
          "text": [
            " 17%|█▋        | 1.6959999999999875/10 [04:44<23:00, 166.28s/it]"
          ]
        },
        {
          "name": "stdout",
          "output_type": "stream",
          "text": [
            "Train Epoch: 2 [66560/84843 (78%)]\tLoss: 3.319846\n"
          ]
        },
        {
          "name": "stderr",
          "output_type": "stream",
          "text": [
            " 17%|█▋        | 1.7493333333333194/10 [04:53<26:04, 189.61s/it]"
          ]
        },
        {
          "name": "stdout",
          "output_type": "stream",
          "text": [
            "Train Epoch: 2 [71680/84843 (84%)]\tLoss: 3.332430\n"
          ]
        },
        {
          "name": "stderr",
          "output_type": "stream",
          "text": [
            " 18%|█▊        | 1.8026666666666513/10 [05:01<21:57, 160.74s/it]"
          ]
        },
        {
          "name": "stdout",
          "output_type": "stream",
          "text": [
            "Train Epoch: 2 [76800/84843 (90%)]\tLoss: 3.341363\n"
          ]
        },
        {
          "name": "stderr",
          "output_type": "stream",
          "text": [
            " 19%|█▊        | 1.8559999999999832/10 [05:11<21:25, 157.89s/it]"
          ]
        },
        {
          "name": "stdout",
          "output_type": "stream",
          "text": [
            "Train Epoch: 2 [81920/84843 (96%)]\tLoss: 3.274276\n"
          ]
        },
        {
          "name": "stderr",
          "output_type": "stream",
          "text": [
            " 20%|█▉        | 1.9999999999999793/10 [05:27<24:55, 186.94s/it]"
          ]
        },
        {
          "name": "stdout",
          "output_type": "stream",
          "text": [
            "\n",
            "Test Epoch: 2\tAccuracy: 829/11005 (8%)\n",
            "\n"
          ]
        },
        {
          "name": "stderr",
          "output_type": "stream",
          "text": [
            "\r 20%|██        | 2.002666666666646/10 [05:29<38:28, 288.69s/it] "
          ]
        },
        {
          "name": "stdout",
          "output_type": "stream",
          "text": [
            "Train Epoch: 3 [0/84843 (0%)]\tLoss: 3.300632\n"
          ]
        },
        {
          "name": "stderr",
          "output_type": "stream",
          "text": [
            " 21%|██        | 2.0559999999999823/10 [05:40<20:49, 157.26s/it]"
          ]
        },
        {
          "name": "stdout",
          "output_type": "stream",
          "text": [
            "Train Epoch: 3 [5120/84843 (6%)]\tLoss: 3.238761\n"
          ]
        },
        {
          "name": "stderr",
          "output_type": "stream",
          "text": [
            " 21%|██        | 2.1093333333333186/10 [05:50<20:59, 159.64s/it]"
          ]
        },
        {
          "name": "stdout",
          "output_type": "stream",
          "text": [
            "Train Epoch: 3 [10240/84843 (12%)]\tLoss: 3.329478\n"
          ]
        },
        {
          "name": "stderr",
          "output_type": "stream",
          "text": [
            " 22%|██▏       | 2.162666666666655/10 [06:00<25:23, 194.34s/it]"
          ]
        },
        {
          "name": "stdout",
          "output_type": "stream",
          "text": [
            "Train Epoch: 3 [15360/84843 (18%)]\tLoss: 3.337296\n"
          ]
        },
        {
          "name": "stderr",
          "output_type": "stream",
          "text": [
            " 22%|██▏       | 2.2159999999999913/10 [06:08<22:06, 170.40s/it]"
          ]
        },
        {
          "name": "stdout",
          "output_type": "stream",
          "text": [
            "Train Epoch: 3 [20480/84843 (24%)]\tLoss: 3.350550\n"
          ]
        },
        {
          "name": "stderr",
          "output_type": "stream",
          "text": [
            " 23%|██▎       | 2.2693333333333277/10 [06:19<22:58, 178.34s/it]"
          ]
        },
        {
          "name": "stdout",
          "output_type": "stream",
          "text": [
            "Train Epoch: 3 [25600/84843 (30%)]\tLoss: 3.275680\n"
          ]
        },
        {
          "name": "stderr",
          "output_type": "stream",
          "text": [
            " 23%|██▎       | 2.322666666666664/10 [06:29<23:31, 183.84s/it]"
          ]
        },
        {
          "name": "stdout",
          "output_type": "stream",
          "text": [
            "Train Epoch: 3 [30720/84843 (36%)]\tLoss: 3.273367\n"
          ]
        },
        {
          "name": "stderr",
          "output_type": "stream",
          "text": [
            " 24%|██▍       | 2.3760000000000003/10 [06:39<26:07, 205.61s/it]"
          ]
        },
        {
          "name": "stdout",
          "output_type": "stream",
          "text": [
            "Train Epoch: 3 [35840/84843 (42%)]\tLoss: 3.293337\n"
          ]
        },
        {
          "name": "stderr",
          "output_type": "stream",
          "text": [
            " 24%|██▍       | 2.4293333333333367/10 [06:47<20:24, 161.72s/it]"
          ]
        },
        {
          "name": "stdout",
          "output_type": "stream",
          "text": [
            "Train Epoch: 3 [40960/84843 (48%)]\tLoss: 3.401542\n"
          ]
        },
        {
          "name": "stderr",
          "output_type": "stream",
          "text": [
            " 25%|██▍       | 2.482666666666673/10 [06:58<21:27, 171.28s/it]"
          ]
        },
        {
          "name": "stdout",
          "output_type": "stream",
          "text": [
            "Train Epoch: 3 [46080/84843 (54%)]\tLoss: 3.224631\n"
          ]
        },
        {
          "name": "stderr",
          "output_type": "stream",
          "text": [
            " 25%|██▌       | 2.5360000000000094/10 [07:08<20:11, 162.32s/it]"
          ]
        },
        {
          "name": "stdout",
          "output_type": "stream",
          "text": [
            "Train Epoch: 3 [51200/84843 (60%)]\tLoss: 3.318240\n"
          ]
        },
        {
          "name": "stderr",
          "output_type": "stream",
          "text": [
            " 26%|██▌       | 2.5893333333333457/10 [07:18<27:03, 219.03s/it]"
          ]
        },
        {
          "name": "stdout",
          "output_type": "stream",
          "text": [
            "Train Epoch: 3 [56320/84843 (66%)]\tLoss: 3.324786\n"
          ]
        },
        {
          "name": "stderr",
          "output_type": "stream",
          "text": [
            " 26%|██▋       | 2.642666666666682/10 [07:27<19:29, 158.95s/it] "
          ]
        },
        {
          "name": "stdout",
          "output_type": "stream",
          "text": [
            "Train Epoch: 3 [61440/84843 (72%)]\tLoss: 3.351256\n"
          ]
        },
        {
          "name": "stderr",
          "output_type": "stream",
          "text": [
            " 27%|██▋       | 2.6960000000000184/10 [07:36<21:09, 173.82s/it]"
          ]
        },
        {
          "name": "stdout",
          "output_type": "stream",
          "text": [
            "Train Epoch: 3 [66560/84843 (78%)]\tLoss: 3.396455\n"
          ]
        },
        {
          "name": "stderr",
          "output_type": "stream",
          "text": [
            " 27%|██▋       | 2.7493333333333547/10 [07:46<19:57, 165.12s/it]"
          ]
        },
        {
          "name": "stdout",
          "output_type": "stream",
          "text": [
            "Train Epoch: 3 [71680/84843 (84%)]\tLoss: 3.333838\n"
          ]
        },
        {
          "name": "stderr",
          "output_type": "stream",
          "text": [
            " 28%|██▊       | 2.802666666666691/10 [07:56<27:37, 230.35s/it] "
          ]
        },
        {
          "name": "stdout",
          "output_type": "stream",
          "text": [
            "Train Epoch: 3 [76800/84843 (90%)]\tLoss: 3.267695\n"
          ]
        },
        {
          "name": "stderr",
          "output_type": "stream",
          "text": [
            " 29%|██▊       | 2.8560000000000274/10 [08:05<20:51, 175.17s/it]"
          ]
        },
        {
          "name": "stdout",
          "output_type": "stream",
          "text": [
            "Train Epoch: 3 [81920/84843 (96%)]\tLoss: 3.220510\n"
          ]
        },
        {
          "name": "stderr",
          "output_type": "stream",
          "text": [
            " 30%|███       | 3.0000000000000355/10 [08:22<14:20, 122.95s/it]"
          ]
        },
        {
          "name": "stdout",
          "output_type": "stream",
          "text": [
            "\n",
            "Test Epoch: 3\tAccuracy: 778/11005 (7%)\n",
            "\n"
          ]
        },
        {
          "name": "stderr",
          "output_type": "stream",
          "text": [
            "\r 30%|███       | 3.0026666666667023/10 [08:22<16:37, 142.61s/it]"
          ]
        },
        {
          "name": "stdout",
          "output_type": "stream",
          "text": [
            "Train Epoch: 4 [0/84843 (0%)]\tLoss: 3.236031\n"
          ]
        },
        {
          "name": "stderr",
          "output_type": "stream",
          "text": [
            " 31%|███       | 3.0560000000000387/10 [08:31<18:30, 159.96s/it]"
          ]
        },
        {
          "name": "stdout",
          "output_type": "stream",
          "text": [
            "Train Epoch: 4 [5120/84843 (6%)]\tLoss: 3.147041\n"
          ]
        },
        {
          "name": "stderr",
          "output_type": "stream",
          "text": [
            " 31%|███       | 3.109333333333375/10 [08:41<19:04, 166.05s/it]"
          ]
        },
        {
          "name": "stdout",
          "output_type": "stream",
          "text": [
            "Train Epoch: 4 [10240/84843 (12%)]\tLoss: 3.287129\n"
          ]
        },
        {
          "name": "stderr",
          "output_type": "stream",
          "text": [
            " 32%|███▏      | 3.1626666666667114/10 [08:51<20:50, 182.85s/it]"
          ]
        },
        {
          "name": "stdout",
          "output_type": "stream",
          "text": [
            "Train Epoch: 4 [15360/84843 (18%)]\tLoss: 3.203955\n"
          ]
        },
        {
          "name": "stderr",
          "output_type": "stream",
          "text": [
            " 32%|███▏      | 3.2160000000000477/10 [09:00<24:03, 212.71s/it]"
          ]
        },
        {
          "name": "stdout",
          "output_type": "stream",
          "text": [
            "Train Epoch: 4 [20480/84843 (24%)]\tLoss: 3.250459\n"
          ]
        },
        {
          "name": "stderr",
          "output_type": "stream",
          "text": [
            " 33%|███▎      | 3.269333333333384/10 [09:10<18:58, 169.11s/it] "
          ]
        },
        {
          "name": "stdout",
          "output_type": "stream",
          "text": [
            "Train Epoch: 4 [25600/84843 (30%)]\tLoss: 3.298689\n"
          ]
        },
        {
          "name": "stderr",
          "output_type": "stream",
          "text": [
            " 33%|███▎      | 3.3226666666667204/10 [09:20<19:09, 172.18s/it]"
          ]
        },
        {
          "name": "stdout",
          "output_type": "stream",
          "text": [
            "Train Epoch: 4 [30720/84843 (36%)]\tLoss: 3.334581\n"
          ]
        },
        {
          "name": "stderr",
          "output_type": "stream",
          "text": [
            " 34%|███▍      | 3.3760000000000567/10 [09:29<20:27, 185.33s/it]"
          ]
        },
        {
          "name": "stdout",
          "output_type": "stream",
          "text": [
            "Train Epoch: 4 [35840/84843 (42%)]\tLoss: 3.312969\n"
          ]
        },
        {
          "name": "stderr",
          "output_type": "stream",
          "text": [
            " 34%|███▍      | 3.429333333333393/10 [09:38<21:43, 198.41s/it] "
          ]
        },
        {
          "name": "stdout",
          "output_type": "stream",
          "text": [
            "Train Epoch: 4 [40960/84843 (48%)]\tLoss: 3.211223\n"
          ]
        },
        {
          "name": "stderr",
          "output_type": "stream",
          "text": [
            " 35%|███▍      | 3.4826666666667294/10 [09:48<17:14, 158.81s/it]"
          ]
        },
        {
          "name": "stdout",
          "output_type": "stream",
          "text": [
            "Train Epoch: 4 [46080/84843 (54%)]\tLoss: 3.338338\n"
          ]
        },
        {
          "name": "stderr",
          "output_type": "stream",
          "text": [
            " 35%|███▌      | 3.5360000000000658/10 [09:57<18:48, 174.58s/it]"
          ]
        },
        {
          "name": "stdout",
          "output_type": "stream",
          "text": [
            "Train Epoch: 4 [51200/84843 (60%)]\tLoss: 3.236240\n"
          ]
        },
        {
          "name": "stderr",
          "output_type": "stream",
          "text": [
            " 36%|███▌      | 3.589333333333402/10 [10:07<20:11, 188.91s/it] "
          ]
        },
        {
          "name": "stdout",
          "output_type": "stream",
          "text": [
            "Train Epoch: 4 [56320/84843 (66%)]\tLoss: 3.212353\n"
          ]
        },
        {
          "name": "stderr",
          "output_type": "stream",
          "text": [
            " 36%|███▋      | 3.6426666666667384/10 [10:16<17:19, 163.53s/it]"
          ]
        },
        {
          "name": "stdout",
          "output_type": "stream",
          "text": [
            "Train Epoch: 4 [61440/84843 (72%)]\tLoss: 3.418172\n"
          ]
        },
        {
          "name": "stderr",
          "output_type": "stream",
          "text": [
            " 37%|███▋      | 3.696000000000075/10 [10:26<17:46, 169.11s/it]"
          ]
        },
        {
          "name": "stdout",
          "output_type": "stream",
          "text": [
            "Train Epoch: 4 [66560/84843 (78%)]\tLoss: 3.299973\n"
          ]
        },
        {
          "name": "stderr",
          "output_type": "stream",
          "text": [
            " 37%|███▋      | 3.749333333333411/10 [10:36<16:32, 158.75s/it] "
          ]
        },
        {
          "name": "stdout",
          "output_type": "stream",
          "text": [
            "Train Epoch: 4 [71680/84843 (84%)]\tLoss: 3.281399\n"
          ]
        },
        {
          "name": "stderr",
          "output_type": "stream",
          "text": [
            " 38%|███▊      | 3.8026666666667475/10 [10:45<22:22, 216.58s/it]"
          ]
        },
        {
          "name": "stdout",
          "output_type": "stream",
          "text": [
            "Train Epoch: 4 [76800/84843 (90%)]\tLoss: 3.262418\n"
          ]
        },
        {
          "name": "stderr",
          "output_type": "stream",
          "text": [
            " 39%|███▊      | 3.856000000000084/10 [10:54<16:43, 163.29s/it]"
          ]
        },
        {
          "name": "stdout",
          "output_type": "stream",
          "text": [
            "Train Epoch: 4 [81920/84843 (96%)]\tLoss: 3.275470\n"
          ]
        },
        {
          "name": "stderr",
          "output_type": "stream",
          "text": [
            " 40%|████      | 4.0000000000000915/10 [11:10<12:13, 122.17s/it]"
          ]
        },
        {
          "name": "stdout",
          "output_type": "stream",
          "text": [
            "\n",
            "Test Epoch: 4\tAccuracy: 847/11005 (8%)\n",
            "\n"
          ]
        },
        {
          "name": "stderr",
          "output_type": "stream",
          "text": [
            "\r 40%|████      | 4.002666666666758/10 [11:11<15:50, 158.49s/it] "
          ]
        },
        {
          "name": "stdout",
          "output_type": "stream",
          "text": [
            "Train Epoch: 5 [0/84843 (0%)]\tLoss: 3.144480\n"
          ]
        },
        {
          "name": "stderr",
          "output_type": "stream",
          "text": [
            " 41%|████      | 4.056000000000085/10 [11:20<17:00, 171.68s/it]"
          ]
        },
        {
          "name": "stdout",
          "output_type": "stream",
          "text": [
            "Train Epoch: 5 [5120/84843 (6%)]\tLoss: 3.159208\n"
          ]
        },
        {
          "name": "stderr",
          "output_type": "stream",
          "text": [
            " 41%|████      | 4.109333333333413/10 [11:30<17:03, 173.82s/it]"
          ]
        },
        {
          "name": "stdout",
          "output_type": "stream",
          "text": [
            "Train Epoch: 5 [10240/84843 (12%)]\tLoss: 3.174396\n"
          ]
        },
        {
          "name": "stderr",
          "output_type": "stream",
          "text": [
            " 42%|████▏     | 4.16266666666674/10 [11:40<15:17, 157.23s/it] "
          ]
        },
        {
          "name": "stdout",
          "output_type": "stream",
          "text": [
            "Train Epoch: 5 [15360/84843 (18%)]\tLoss: 3.160096\n"
          ]
        },
        {
          "name": "stderr",
          "output_type": "stream",
          "text": [
            " 42%|████▏     | 4.216000000000068/10 [11:49<19:06, 198.19s/it]"
          ]
        },
        {
          "name": "stdout",
          "output_type": "stream",
          "text": [
            "Train Epoch: 5 [20480/84843 (24%)]\tLoss: 3.315392\n"
          ]
        },
        {
          "name": "stderr",
          "output_type": "stream",
          "text": [
            " 43%|████▎     | 4.269333333333395/10 [11:58<14:33, 152.34s/it]"
          ]
        },
        {
          "name": "stdout",
          "output_type": "stream",
          "text": [
            "Train Epoch: 5 [25600/84843 (30%)]\tLoss: 3.268842\n"
          ]
        },
        {
          "name": "stderr",
          "output_type": "stream",
          "text": [
            " 43%|████▎     | 4.322666666666723/10 [12:07<14:31, 153.51s/it]"
          ]
        },
        {
          "name": "stdout",
          "output_type": "stream",
          "text": [
            "Train Epoch: 5 [30720/84843 (36%)]\tLoss: 3.326529\n"
          ]
        },
        {
          "name": "stderr",
          "output_type": "stream",
          "text": [
            " 44%|████▍     | 4.37600000000005/10 [12:17<17:26, 186.13s/it] "
          ]
        },
        {
          "name": "stdout",
          "output_type": "stream",
          "text": [
            "Train Epoch: 5 [35840/84843 (42%)]\tLoss: 3.263283\n"
          ]
        },
        {
          "name": "stderr",
          "output_type": "stream",
          "text": [
            " 44%|████▍     | 4.4293333333333775/10 [12:25<15:40, 168.87s/it]"
          ]
        },
        {
          "name": "stdout",
          "output_type": "stream",
          "text": [
            "Train Epoch: 5 [40960/84843 (48%)]\tLoss: 3.293631\n"
          ]
        },
        {
          "name": "stderr",
          "output_type": "stream",
          "text": [
            " 45%|████▍     | 4.482666666666705/10 [12:35<16:22, 178.07s/it]"
          ]
        },
        {
          "name": "stdout",
          "output_type": "stream",
          "text": [
            "Train Epoch: 5 [46080/84843 (54%)]\tLoss: 3.246899\n"
          ]
        },
        {
          "name": "stderr",
          "output_type": "stream",
          "text": [
            " 45%|████▌     | 4.5360000000000325/10 [12:45<15:26, 169.63s/it]"
          ]
        },
        {
          "name": "stdout",
          "output_type": "stream",
          "text": [
            "Train Epoch: 5 [51200/84843 (60%)]\tLoss: 3.200807\n"
          ]
        },
        {
          "name": "stderr",
          "output_type": "stream",
          "text": [
            " 46%|████▌     | 4.58933333333336/10 [12:54<20:00, 221.84s/it]  "
          ]
        },
        {
          "name": "stdout",
          "output_type": "stream",
          "text": [
            "Train Epoch: 5 [56320/84843 (66%)]\tLoss: 3.278231\n"
          ]
        },
        {
          "name": "stderr",
          "output_type": "stream",
          "text": [
            " 46%|████▋     | 4.642666666666687/10 [13:03<13:28, 150.98s/it]"
          ]
        },
        {
          "name": "stdout",
          "output_type": "stream",
          "text": [
            "Train Epoch: 5 [61440/84843 (72%)]\tLoss: 3.263389\n"
          ]
        },
        {
          "name": "stderr",
          "output_type": "stream",
          "text": [
            " 47%|████▋     | 4.696000000000015/10 [13:12<13:33, 153.41s/it] "
          ]
        },
        {
          "name": "stdout",
          "output_type": "stream",
          "text": [
            "Train Epoch: 5 [66560/84843 (78%)]\tLoss: 3.182887\n"
          ]
        },
        {
          "name": "stderr",
          "output_type": "stream",
          "text": [
            " 47%|████▋     | 4.749333333333342/10 [13:22<16:19, 186.54s/it]"
          ]
        },
        {
          "name": "stdout",
          "output_type": "stream",
          "text": [
            "Train Epoch: 5 [71680/84843 (84%)]\tLoss: 3.249800\n"
          ]
        },
        {
          "name": "stderr",
          "output_type": "stream",
          "text": [
            " 48%|████▊     | 4.80266666666667/10 [13:30<14:28, 167.14s/it] "
          ]
        },
        {
          "name": "stdout",
          "output_type": "stream",
          "text": [
            "Train Epoch: 5 [76800/84843 (90%)]\tLoss: 3.359770\n"
          ]
        },
        {
          "name": "stderr",
          "output_type": "stream",
          "text": [
            " 49%|████▊     | 4.855999999999997/10 [13:40<14:38, 170.73s/it]"
          ]
        },
        {
          "name": "stdout",
          "output_type": "stream",
          "text": [
            "Train Epoch: 5 [81920/84843 (96%)]\tLoss: 3.276333\n"
          ]
        },
        {
          "name": "stderr",
          "output_type": "stream",
          "text": [
            " 50%|████▉     | 4.999999999999981/10 [13:56<07:17, 87.55s/it]"
          ]
        },
        {
          "name": "stdout",
          "output_type": "stream",
          "text": [
            "\n",
            "Test Epoch: 5\tAccuracy: 857/11005 (8%)\n",
            "\n"
          ]
        },
        {
          "name": "stderr",
          "output_type": "stream",
          "text": [
            "\r 50%|█████     | 5.002666666666648/10 [13:56<08:51, 106.26s/it]"
          ]
        },
        {
          "name": "stdout",
          "output_type": "stream",
          "text": [
            "Train Epoch: 6 [0/84843 (0%)]\tLoss: 3.187092\n"
          ]
        },
        {
          "name": "stderr",
          "output_type": "stream",
          "text": [
            " 51%|█████     | 5.055999999999975/10 [14:06<12:56, 157.02s/it]"
          ]
        },
        {
          "name": "stdout",
          "output_type": "stream",
          "text": [
            "Train Epoch: 6 [5120/84843 (6%)]\tLoss: 3.193057\n"
          ]
        },
        {
          "name": "stderr",
          "output_type": "stream",
          "text": [
            " 51%|█████     | 5.109333333333303/10 [14:16<14:37, 179.45s/it]"
          ]
        },
        {
          "name": "stdout",
          "output_type": "stream",
          "text": [
            "Train Epoch: 6 [10240/84843 (12%)]\tLoss: 3.199756\n"
          ]
        },
        {
          "name": "stderr",
          "output_type": "stream",
          "text": [
            " 52%|█████▏    | 5.16266666666663/10 [14:26<20:00, 248.16s/it] "
          ]
        },
        {
          "name": "stdout",
          "output_type": "stream",
          "text": [
            "Train Epoch: 6 [15360/84843 (18%)]\tLoss: 3.268770\n"
          ]
        },
        {
          "name": "stderr",
          "output_type": "stream",
          "text": [
            " 52%|█████▏    | 5.215999999999958/10 [14:36<17:20, 217.40s/it]"
          ]
        },
        {
          "name": "stdout",
          "output_type": "stream",
          "text": [
            "Train Epoch: 6 [20480/84843 (24%)]\tLoss: 3.187300\n"
          ]
        },
        {
          "name": "stderr",
          "output_type": "stream",
          "text": [
            " 53%|█████▎    | 5.269333333333285/10 [14:47<16:05, 204.14s/it]"
          ]
        },
        {
          "name": "stdout",
          "output_type": "stream",
          "text": [
            "Train Epoch: 6 [25600/84843 (30%)]\tLoss: 3.288000\n"
          ]
        },
        {
          "name": "stderr",
          "output_type": "stream",
          "text": [
            " 53%|█████▎    | 5.3226666666666125/10 [14:59<15:48, 202.87s/it]"
          ]
        },
        {
          "name": "stdout",
          "output_type": "stream",
          "text": [
            "Train Epoch: 6 [30720/84843 (36%)]\tLoss: 3.184894\n"
          ]
        },
        {
          "name": "stderr",
          "output_type": "stream",
          "text": [
            " 54%|█████▍    | 5.37599999999994/10 [15:12<17:06, 221.91s/it] "
          ]
        },
        {
          "name": "stdout",
          "output_type": "stream",
          "text": [
            "Train Epoch: 6 [35840/84843 (42%)]\tLoss: 3.184032\n"
          ]
        },
        {
          "name": "stderr",
          "output_type": "stream",
          "text": [
            " 54%|█████▍    | 5.429333333333267/10 [15:25<18:09, 238.35s/it]"
          ]
        },
        {
          "name": "stdout",
          "output_type": "stream",
          "text": [
            "Train Epoch: 6 [40960/84843 (48%)]\tLoss: 3.209881\n"
          ]
        },
        {
          "name": "stderr",
          "output_type": "stream",
          "text": [
            " 55%|█████▍    | 5.482666666666595/10 [15:46<49:36, 658.95s/it] "
          ]
        },
        {
          "name": "stdout",
          "output_type": "stream",
          "text": [
            "Train Epoch: 6 [46080/84843 (54%)]\tLoss: 3.142696\n"
          ]
        },
        {
          "name": "stderr",
          "output_type": "stream",
          "text": [
            " 55%|█████▌    | 5.535999999999922/10 [16:04<25:05, 337.22s/it]"
          ]
        },
        {
          "name": "stdout",
          "output_type": "stream",
          "text": [
            "Train Epoch: 6 [51200/84843 (60%)]\tLoss: 3.200569\n"
          ]
        },
        {
          "name": "stderr",
          "output_type": "stream",
          "text": [
            " 56%|█████▌    | 5.58933333333325/10 [16:24<32:25, 441.17s/it] "
          ]
        },
        {
          "name": "stdout",
          "output_type": "stream",
          "text": [
            "Train Epoch: 6 [56320/84843 (66%)]\tLoss: 3.227654\n"
          ]
        },
        {
          "name": "stderr",
          "output_type": "stream",
          "text": [
            " 56%|█████▋    | 5.642666666666577/10 [16:48<35:13, 485.12s/it]"
          ]
        },
        {
          "name": "stdout",
          "output_type": "stream",
          "text": [
            "Train Epoch: 6 [61440/84843 (72%)]\tLoss: 3.257460\n"
          ]
        },
        {
          "name": "stderr",
          "output_type": "stream",
          "text": [
            " 57%|█████▋    | 5.695999999999905/10 [17:16<41:38, 580.41s/it]"
          ]
        },
        {
          "name": "stdout",
          "output_type": "stream",
          "text": [
            "Train Epoch: 6 [66560/84843 (78%)]\tLoss: 3.194010\n"
          ]
        },
        {
          "name": "stderr",
          "output_type": "stream",
          "text": [
            " 57%|█████▋    | 5.749333333333232/10 [17:49<45:26, 641.45s/it]"
          ]
        },
        {
          "name": "stdout",
          "output_type": "stream",
          "text": [
            "Train Epoch: 6 [71680/84843 (84%)]\tLoss: 3.320918\n"
          ]
        },
        {
          "name": "stderr",
          "output_type": "stream",
          "text": [
            " 58%|█████▊    | 5.80266666666656/10 [18:30<56:12, 803.42s/it] "
          ]
        },
        {
          "name": "stdout",
          "output_type": "stream",
          "text": [
            "Train Epoch: 6 [76800/84843 (90%)]\tLoss: 3.298867\n"
          ]
        },
        {
          "name": "stderr",
          "output_type": "stream",
          "text": [
            " 59%|█████▊    | 5.855999999999887/10 [19:17<1:03:17, 916.32s/it]"
          ]
        },
        {
          "name": "stdout",
          "output_type": "stream",
          "text": [
            "Train Epoch: 6 [81920/84843 (96%)]\tLoss: 3.178852\n"
          ]
        },
        {
          "name": "stderr",
          "output_type": "stream",
          "text": [
            " 60%|█████▉    | 5.999999999999871/10 [21:30<1:02:16, 934.09s/it]"
          ]
        },
        {
          "name": "stdout",
          "output_type": "stream",
          "text": [
            "\n",
            "Test Epoch: 6\tAccuracy: 925/11005 (8%)\n",
            "\n"
          ]
        },
        {
          "name": "stderr",
          "output_type": "stream",
          "text": [
            "\r 60%|██████    | 6.002666666666538/10 [21:32<1:03:03, 946.45s/it]"
          ]
        },
        {
          "name": "stdout",
          "output_type": "stream",
          "text": [
            "Train Epoch: 7 [0/84843 (0%)]\tLoss: 3.153924\n"
          ]
        },
        {
          "name": "stderr",
          "output_type": "stream",
          "text": [
            " 61%|██████    | 6.055999999999865/10 [22:31<1:17:17, 1175.78s/it]"
          ]
        },
        {
          "name": "stdout",
          "output_type": "stream",
          "text": [
            "Train Epoch: 7 [5120/84843 (6%)]\tLoss: 3.103798\n"
          ]
        },
        {
          "name": "stderr",
          "output_type": "stream",
          "text": [
            " 61%|██████    | 6.1093333333331925/10 [23:38<1:25:05, 1312.13s/it]"
          ]
        },
        {
          "name": "stdout",
          "output_type": "stream",
          "text": [
            "Train Epoch: 7 [10240/84843 (12%)]\tLoss: 3.244889\n"
          ]
        },
        {
          "name": "stderr",
          "output_type": "stream",
          "text": [
            " 62%|██████▏   | 6.16266666666652/10 [24:54<1:36:35, 1510.38s/it] "
          ]
        },
        {
          "name": "stdout",
          "output_type": "stream",
          "text": [
            "Train Epoch: 7 [15360/84843 (18%)]\tLoss: 3.244951\n"
          ]
        },
        {
          "name": "stderr",
          "output_type": "stream",
          "text": [
            " 62%|██████▏   | 6.215999999999847/10 [26:22<1:48:07, 1714.57s/it]"
          ]
        },
        {
          "name": "stdout",
          "output_type": "stream",
          "text": [
            "Train Epoch: 7 [20480/84843 (24%)]\tLoss: 3.158875\n"
          ]
        },
        {
          "name": "stderr",
          "output_type": "stream",
          "text": [
            " 63%|██████▎   | 6.269333333333175/10 [27:57<1:54:51, 1847.22s/it] "
          ]
        },
        {
          "name": "stdout",
          "output_type": "stream",
          "text": [
            "Train Epoch: 7 [25600/84843 (30%)]\tLoss: 3.179394\n"
          ]
        },
        {
          "name": "stderr",
          "output_type": "stream",
          "text": [
            " 63%|██████▎   | 6.322666666666502/10 [29:44<2:07:57, 2087.91s/it]"
          ]
        },
        {
          "name": "stdout",
          "output_type": "stream",
          "text": [
            "Train Epoch: 7 [30720/84843 (36%)]\tLoss: 3.271048\n"
          ]
        },
        {
          "name": "stderr",
          "output_type": "stream",
          "text": [
            " 64%|██████▍   | 6.37599999999983/10 [31:40<2:16:57, 2267.66s/it] "
          ]
        },
        {
          "name": "stdout",
          "output_type": "stream",
          "text": [
            "Train Epoch: 7 [35840/84843 (42%)]\tLoss: 3.223434\n"
          ]
        },
        {
          "name": "stderr",
          "output_type": "stream",
          "text": [
            " 64%|██████▍   | 6.429333333333157/10 [33:49<2:25:57, 2452.73s/it]"
          ]
        },
        {
          "name": "stdout",
          "output_type": "stream",
          "text": [
            "Train Epoch: 7 [40960/84843 (48%)]\tLoss: 3.168645\n"
          ]
        },
        {
          "name": "stderr",
          "output_type": "stream",
          "text": [
            " 65%|██████▍   | 6.482666666666485/10 [36:11<2:49:36, 2893.11s/it]"
          ]
        },
        {
          "name": "stdout",
          "output_type": "stream",
          "text": [
            "Train Epoch: 7 [46080/84843 (54%)]\tLoss: 3.176206\n"
          ]
        },
        {
          "name": "stderr",
          "output_type": "stream",
          "text": [
            " 65%|██████▌   | 6.535999999999812/10 [38:49<2:55:54, 3046.86s/it]"
          ]
        },
        {
          "name": "stdout",
          "output_type": "stream",
          "text": [
            "Train Epoch: 7 [51200/84843 (60%)]\tLoss: 3.237256\n"
          ]
        },
        {
          "name": "stderr",
          "output_type": "stream",
          "text": [
            " 66%|██████▌   | 6.58933333333314/10 [41:37<3:02:10, 3204.82s/it] "
          ]
        },
        {
          "name": "stdout",
          "output_type": "stream",
          "text": [
            "Train Epoch: 7 [56320/84843 (66%)]\tLoss: 3.225933\n"
          ]
        },
        {
          "name": "stderr",
          "output_type": "stream",
          "text": [
            " 66%|██████▋   | 6.642666666666467/10 [44:35<3:08:58, 3377.25s/it]"
          ]
        },
        {
          "name": "stdout",
          "output_type": "stream",
          "text": [
            "Train Epoch: 7 [61440/84843 (72%)]\tLoss: 3.270831\n"
          ]
        },
        {
          "name": "stderr",
          "output_type": "stream",
          "text": [
            " 67%|██████▋   | 6.695999999999795/10 [47:42<3:15:09, 3544.08s/it]"
          ]
        },
        {
          "name": "stdout",
          "output_type": "stream",
          "text": [
            "Train Epoch: 7 [66560/84843 (78%)]\tLoss: 3.247821\n"
          ]
        },
        {
          "name": "stderr",
          "output_type": "stream",
          "text": [
            " 67%|██████▋   | 6.749333333333122/10 [51:07<3:26:45, 3816.23s/it]"
          ]
        },
        {
          "name": "stdout",
          "output_type": "stream",
          "text": [
            "Train Epoch: 7 [71680/84843 (84%)]\tLoss: 3.234633\n"
          ]
        },
        {
          "name": "stderr",
          "output_type": "stream",
          "text": [
            " 68%|██████▊   | 6.8026666666664495/10 [54:37<3:32:37, 3989.89s/it]"
          ]
        },
        {
          "name": "stdout",
          "output_type": "stream",
          "text": [
            "Train Epoch: 7 [76800/84843 (90%)]\tLoss: 3.245434\n"
          ]
        },
        {
          "name": "stderr",
          "output_type": "stream",
          "text": [
            " 69%|██████▊   | 6.855999999999777/10 [58:22<4:02:30, 4628.12s/it]"
          ]
        },
        {
          "name": "stdout",
          "output_type": "stream",
          "text": [
            "Train Epoch: 7 [81920/84843 (96%)]\tLoss: 3.156433\n"
          ]
        },
        {
          "name": "stderr",
          "output_type": "stream",
          "text": [
            " 70%|██████▉   | 6.999999999999761/10 [1:08:12<3:21:47, 4035.95s/it]"
          ]
        },
        {
          "name": "stdout",
          "output_type": "stream",
          "text": [
            "\n",
            "Test Epoch: 7\tAccuracy: 846/11005 (8%)\n",
            "\n"
          ]
        },
        {
          "name": "stderr",
          "output_type": "stream",
          "text": [
            "\r 70%|███████   | 7.0026666666664275/10 [1:08:23<3:22:11, 4047.42s/it]"
          ]
        },
        {
          "name": "stdout",
          "output_type": "stream",
          "text": [
            "Train Epoch: 8 [0/84843 (0%)]\tLoss: 3.131601\n"
          ]
        },
        {
          "name": "stderr",
          "output_type": "stream",
          "text": [
            " 71%|███████   | 7.055999999999755/10 [1:12:11<3:29:34, 4271.11s/it] "
          ]
        },
        {
          "name": "stdout",
          "output_type": "stream",
          "text": [
            "Train Epoch: 8 [5120/84843 (6%)]\tLoss: 3.205226\n"
          ]
        },
        {
          "name": "stderr",
          "output_type": "stream",
          "text": [
            " 71%|███████   | 7.109333333333082/10 [1:16:00<3:29:32, 4349.32s/it]"
          ]
        },
        {
          "name": "stdout",
          "output_type": "stream",
          "text": [
            "Train Epoch: 8 [10240/84843 (12%)]\tLoss: 3.165543\n"
          ]
        },
        {
          "name": "stderr",
          "output_type": "stream",
          "text": [
            " 72%|███████▏  | 7.16266666666641/10 [1:19:58<3:37:48, 4606.05s/it]  "
          ]
        },
        {
          "name": "stdout",
          "output_type": "stream",
          "text": [
            "Train Epoch: 8 [15360/84843 (18%)]\tLoss: 3.161774\n"
          ]
        },
        {
          "name": "stderr",
          "output_type": "stream",
          "text": [
            " 72%|███████▏  | 7.215999999999737/10 [1:24:02<3:33:50, 4608.69s/it]"
          ]
        },
        {
          "name": "stdout",
          "output_type": "stream",
          "text": [
            "Train Epoch: 8 [20480/84843 (24%)]\tLoss: 3.227757\n"
          ]
        },
        {
          "name": "stderr",
          "output_type": "stream",
          "text": [
            " 73%|███████▎  | 7.269333333333065/10 [1:28:10<3:33:28, 4690.50s/it]"
          ]
        },
        {
          "name": "stdout",
          "output_type": "stream",
          "text": [
            "Train Epoch: 8 [25600/84843 (30%)]\tLoss: 3.123800\n"
          ]
        },
        {
          "name": "stderr",
          "output_type": "stream",
          "text": [
            " 73%|███████▎  | 7.322666666666392/10 [1:32:26<3:35:46, 4835.78s/it]"
          ]
        },
        {
          "name": "stdout",
          "output_type": "stream",
          "text": [
            "Train Epoch: 8 [30720/84843 (36%)]\tLoss: 3.214128\n"
          ]
        },
        {
          "name": "stderr",
          "output_type": "stream",
          "text": [
            " 74%|███████▍  | 7.37599999999972/10 [1:36:44<3:32:30, 4859.09s/it] "
          ]
        },
        {
          "name": "stdout",
          "output_type": "stream",
          "text": [
            "Train Epoch: 8 [35840/84843 (42%)]\tLoss: 3.289554\n"
          ]
        },
        {
          "name": "stderr",
          "output_type": "stream",
          "text": [
            " 74%|███████▍  | 7.429333333333047/10 [1:41:02<3:27:44, 4848.93s/it]"
          ]
        },
        {
          "name": "stdout",
          "output_type": "stream",
          "text": [
            "Train Epoch: 8 [40960/84843 (48%)]\tLoss: 3.172356\n"
          ]
        },
        {
          "name": "stderr",
          "output_type": "stream",
          "text": [
            " 75%|███████▍  | 7.482666666666375/10 [1:45:22<3:25:47, 4905.16s/it]"
          ]
        },
        {
          "name": "stdout",
          "output_type": "stream",
          "text": [
            "Train Epoch: 8 [46080/84843 (54%)]\tLoss: 3.171747\n"
          ]
        },
        {
          "name": "stderr",
          "output_type": "stream",
          "text": [
            " 75%|███████▌  | 7.535999999999702/10 [1:49:52<3:27:56, 5063.36s/it]"
          ]
        },
        {
          "name": "stdout",
          "output_type": "stream",
          "text": [
            "Train Epoch: 8 [51200/84843 (60%)]\tLoss: 3.196850\n"
          ]
        },
        {
          "name": "stderr",
          "output_type": "stream",
          "text": [
            " 76%|███████▌  | 7.5893333333330295/10 [1:54:20<3:21:22, 5012.06s/it]"
          ]
        },
        {
          "name": "stdout",
          "output_type": "stream",
          "text": [
            "Train Epoch: 8 [56320/84843 (66%)]\tLoss: 3.238036\n"
          ]
        },
        {
          "name": "stderr",
          "output_type": "stream",
          "text": [
            " 76%|███████▋  | 7.642666666666357/10 [1:58:52<3:28:42, 5312.32s/it]"
          ]
        },
        {
          "name": "stdout",
          "output_type": "stream",
          "text": [
            "Train Epoch: 8 [61440/84843 (72%)]\tLoss: 3.149343\n"
          ]
        },
        {
          "name": "stderr",
          "output_type": "stream",
          "text": [
            " 77%|███████▋  | 7.655999999999689/10 [2:00:00<3:20:02, 5120.40s/it] "
          ]
        }
      ],
      "source": [
        "log_interval = 20\n",
        "n_epoch = 10\n",
        "\n",
        "pbar_update = 1 / (len(train_loader) + len(test_loader))\n",
        "losses = []\n",
        "\n",
        "# The transform needs to live on the same device as the model and the data.\n",
        "transform = transform.to(device)\n",
        "with tqdm(total=n_epoch) as pbar:\n",
        "    for epoch in range(1, n_epoch + 1):\n",
        "        train(model_fc, epoch, log_interval)\n",
        "        test(model_fc, epoch)\n",
        "        scheduler.step()"
      ]
    },
    {
      "cell_type": "markdown",
      "metadata": {
        "id": "NtGc0Ev2-Pvx"
      },
      "source": [
        "9% accuracy after converting all convolutional layer to fc layers"
      ]
    },
    {
      "cell_type": "markdown",
      "metadata": {
        "id": "wwDzFDtGS14-"
      },
      "source": [
        "## Yes/No classification"
      ]
    },
    {
      "cell_type": "code",
      "execution_count": null,
      "metadata": {
        "id": "QaM4sUw38C_W"
      },
      "outputs": [],
      "source": [
        "train_new=[]\n",
        "for waveform, sample_rate, label, speaker_id, utterance_number in train_set:\n",
        "  if label =='yes':\n",
        "      train_new.append([waveform, sample_rate, label, speaker_id, utterance_number])"
      ]
    },
    {
      "cell_type": "code",
      "execution_count": null,
      "metadata": {
        "id": "m6g5hdil7k1v"
      },
      "outputs": [],
      "source": [
        "for waveform, sample_rate, label, speaker_id, utterance_number in train_set:\n",
        "  if label == 'no':\n",
        "      train_new.append([waveform, sample_rate, label, speaker_id, utterance_number])"
      ]
    },
    {
      "cell_type": "code",
      "execution_count": null,
      "metadata": {
        "id": "nonL4UXP8JaT"
      },
      "outputs": [],
      "source": [
        "test_new=[]\n",
        "for waveform, sample_rate, label, speaker_id, utterance_number in train_set:\n",
        "  if label =='yes':\n",
        "      test_new.append([waveform, sample_rate, label, speaker_id, utterance_number])\n",
        "\n",
        "for waveform, sample_rate, label, speaker_id, utterance_number in train_set:\n",
        "  if label =='no':\n",
        "      test_new.append([waveform, sample_rate, label, speaker_id, utterance_number])"
      ]
    },
    {
      "cell_type": "code",
      "execution_count": null,
      "metadata": {
        "id": "sR8w09wpTkkL"
      },
      "outputs": [],
      "source": [
        "train_loader_new = torch.utils.data.DataLoader(\n",
        "    train_new,\n",
        "    batch_size=batch_size,\n",
        "    shuffle=True,\n",
        "    collate_fn=collate_fn,\n",
        "    num_workers=num_workers,\n",
        "    pin_memory=pin_memory,\n",
        ")\n",
        "test_loader_new = torch.utils.data.DataLoader(\n",
        "    test_new,\n",
        "    batch_size=batch_size,\n",
        "    shuffle=False,\n",
        "    drop_last=False,\n",
        "    collate_fn=collate_fn,\n",
        "    num_workers=num_workers,\n",
        "    pin_memory=pin_memory,\n",
        ")"
      ]
    },
    {
      "cell_type": "code",
      "execution_count": null,
      "metadata": {
        "colab": {
          "base_uri": "https://localhost:8080/"
        },
        "id": "EOyS6SRXS4-1",
        "outputId": "f1dbd02a-afa3-4da0-a50f-99cebf86ca15"
      },
      "outputs": [
        {
          "name": "stdout",
          "output_type": "stream",
          "text": [
            "M5(\n",
            "  (conv1): Conv1d(1, 32, kernel_size=(80,), stride=(16,))\n",
            "  (bn1): BatchNorm1d(32, eps=1e-05, momentum=0.1, affine=True, track_running_stats=True)\n",
            "  (pool1): MaxPool1d(kernel_size=4, stride=4, padding=0, dilation=1, ceil_mode=False)\n",
            "  (conv2): Conv1d(32, 32, kernel_size=(3,), stride=(1,))\n",
            "  (bn2): BatchNorm1d(32, eps=1e-05, momentum=0.1, affine=True, track_running_stats=True)\n",
            "  (pool2): MaxPool1d(kernel_size=4, stride=4, padding=0, dilation=1, ceil_mode=False)\n",
            "  (conv3): Conv1d(32, 64, kernel_size=(3,), stride=(1,))\n",
            "  (bn3): BatchNorm1d(64, eps=1e-05, momentum=0.1, affine=True, track_running_stats=True)\n",
            "  (pool3): MaxPool1d(kernel_size=4, stride=4, padding=0, dilation=1, ceil_mode=False)\n",
            "  (conv4): Conv1d(64, 64, kernel_size=(3,), stride=(1,))\n",
            "  (bn4): BatchNorm1d(64, eps=1e-05, momentum=0.1, affine=True, track_running_stats=True)\n",
            "  (pool4): MaxPool1d(kernel_size=4, stride=4, padding=0, dilation=1, ceil_mode=False)\n",
            "  (fc1): Linear(in_features=64, out_features=35, bias=True)\n",
            ")\n",
            "Number of parameters: 26915\n"
          ]
        }
      ],
      "source": [
        "\n",
        "model = M5(n_input=transformed.shape[0], n_output=len(labels))\n",
        "model.to(device)\n",
        "print(model)\n",
        "\n",
        "\n",
        "def count_parameters(model):\n",
        "    return sum(p.numel() for p in model.parameters() if p.requires_grad)\n",
        "\n",
        "\n",
        "n = count_parameters(model)\n",
        "print(\"Number of parameters: %s\" % n)"
      ]
    },
    {
      "cell_type": "code",
      "execution_count": null,
      "metadata": {
        "id": "3XZtbS9YS48R"
      },
      "outputs": [],
      "source": [
        "optimizer = optim.Adam(model.parameters(), lr=0.01, weight_decay=0.0001)\n",
        "scheduler = optim.lr_scheduler.StepLR(optimizer, step_size=20, gamma=0.1)\n"
      ]
    },
    {
      "cell_type": "code",
      "execution_count": null,
      "metadata": {
        "colab": {
          "base_uri": "https://localhost:8080/"
        },
        "id": "OFC7_Oc-7oyy",
        "outputId": "cdc57c98-9de0-4f1d-ccb4-72e904835c30"
      },
      "outputs": [
        {
          "name": "stderr",
          "output_type": "stream",
          "text": [
            "  0%|          | 0.0026666666666666666/10 [00:00<36:09, 217.03s/it]"
          ]
        },
        {
          "name": "stdout",
          "output_type": "stream",
          "text": [
            "Train Epoch: 1 [0/84843 (0%)]\tLoss: 3.867615\n"
          ]
        },
        {
          "name": "stderr",
          "output_type": "stream",
          "text": [
            "  1%|          | 0.05599999999999999/10 [00:07<25:19, 152.83s/it]"
          ]
        },
        {
          "name": "stdout",
          "output_type": "stream",
          "text": [
            "Train Epoch: 1 [5120/84843 (6%)]\tLoss: 3.022666\n"
          ]
        },
        {
          "name": "stderr",
          "output_type": "stream",
          "text": [
            "  1%|          | 0.10933333333333328/10 [00:13<18:07, 109.99s/it]"
          ]
        },
        {
          "name": "stdout",
          "output_type": "stream",
          "text": [
            "Train Epoch: 1 [10240/84843 (12%)]\tLoss: 2.636033\n"
          ]
        },
        {
          "name": "stderr",
          "output_type": "stream",
          "text": [
            "  2%|▏         | 0.16266666666666676/10 [00:20<23:11, 141.42s/it]"
          ]
        },
        {
          "name": "stdout",
          "output_type": "stream",
          "text": [
            "Train Epoch: 1 [15360/84843 (18%)]\tLoss: 2.351216\n"
          ]
        },
        {
          "name": "stderr",
          "output_type": "stream",
          "text": [
            "  2%|▏         | 0.21600000000000033/10 [00:26<17:36, 107.98s/it]"
          ]
        },
        {
          "name": "stdout",
          "output_type": "stream",
          "text": [
            "Train Epoch: 1 [20480/84843 (24%)]\tLoss: 1.870409\n"
          ]
        },
        {
          "name": "stderr",
          "output_type": "stream",
          "text": [
            "  3%|▎         | 0.2693333333333337/10 [00:33<24:48, 152.96s/it] "
          ]
        },
        {
          "name": "stdout",
          "output_type": "stream",
          "text": [
            "Train Epoch: 1 [25600/84843 (30%)]\tLoss: 1.921410\n"
          ]
        },
        {
          "name": "stderr",
          "output_type": "stream",
          "text": [
            "  3%|▎         | 0.3226666666666667/10 [00:39<23:05, 143.16s/it] "
          ]
        },
        {
          "name": "stdout",
          "output_type": "stream",
          "text": [
            "Train Epoch: 1 [30720/84843 (36%)]\tLoss: 1.613082\n"
          ]
        },
        {
          "name": "stderr",
          "output_type": "stream",
          "text": [
            "  4%|▍         | 0.3759999999999997/10 [00:47<39:26, 245.94s/it]"
          ]
        },
        {
          "name": "stdout",
          "output_type": "stream",
          "text": [
            "Train Epoch: 1 [35840/84843 (42%)]\tLoss: 1.784818\n"
          ]
        },
        {
          "name": "stderr",
          "output_type": "stream",
          "text": [
            "  4%|▍         | 0.42933333333333273/10 [00:54<17:46, 111.39s/it]"
          ]
        },
        {
          "name": "stdout",
          "output_type": "stream",
          "text": [
            "Train Epoch: 1 [40960/84843 (48%)]\tLoss: 1.498979\n"
          ]
        },
        {
          "name": "stderr",
          "output_type": "stream",
          "text": [
            "  5%|▍         | 0.48266666666666574/10 [01:02<22:46, 143.53s/it]"
          ]
        },
        {
          "name": "stdout",
          "output_type": "stream",
          "text": [
            "Train Epoch: 1 [46080/84843 (54%)]\tLoss: 1.472988\n"
          ]
        },
        {
          "name": "stderr",
          "output_type": "stream",
          "text": [
            "  5%|▌         | 0.5359999999999995/10 [01:09<22:05, 140.02s/it]"
          ]
        },
        {
          "name": "stdout",
          "output_type": "stream",
          "text": [
            "Train Epoch: 1 [51200/84843 (60%)]\tLoss: 1.374806\n"
          ]
        },
        {
          "name": "stderr",
          "output_type": "stream",
          "text": [
            "  6%|▌         | 0.5893333333333336/10 [01:18<18:51, 120.20s/it]"
          ]
        },
        {
          "name": "stdout",
          "output_type": "stream",
          "text": [
            "Train Epoch: 1 [56320/84843 (66%)]\tLoss: 1.491599\n"
          ]
        },
        {
          "name": "stderr",
          "output_type": "stream",
          "text": [
            "  6%|▋         | 0.6426666666666677/10 [01:24<22:35, 144.90s/it]"
          ]
        },
        {
          "name": "stdout",
          "output_type": "stream",
          "text": [
            "Train Epoch: 1 [61440/84843 (72%)]\tLoss: 1.441465\n"
          ]
        },
        {
          "name": "stderr",
          "output_type": "stream",
          "text": [
            "  7%|▋         | 0.6960000000000018/10 [01:31<17:05, 110.20s/it]"
          ]
        },
        {
          "name": "stdout",
          "output_type": "stream",
          "text": [
            "Train Epoch: 1 [66560/84843 (78%)]\tLoss: 1.234699\n"
          ]
        },
        {
          "name": "stderr",
          "output_type": "stream",
          "text": [
            "  7%|▋         | 0.749333333333336/10 [01:37<21:16, 138.02s/it] "
          ]
        },
        {
          "name": "stdout",
          "output_type": "stream",
          "text": [
            "Train Epoch: 1 [71680/84843 (84%)]\tLoss: 1.336029\n"
          ]
        },
        {
          "name": "stderr",
          "output_type": "stream",
          "text": [
            "  8%|▊         | 0.8026666666666701/10 [01:45<21:02, 137.27s/it]"
          ]
        },
        {
          "name": "stdout",
          "output_type": "stream",
          "text": [
            "Train Epoch: 1 [76800/84843 (90%)]\tLoss: 1.003922\n"
          ]
        },
        {
          "name": "stderr",
          "output_type": "stream",
          "text": [
            "  9%|▊         | 0.8560000000000042/10 [01:54<23:43, 155.65s/it]"
          ]
        },
        {
          "name": "stdout",
          "output_type": "stream",
          "text": [
            "Train Epoch: 1 [81920/84843 (96%)]\tLoss: 1.220650\n"
          ]
        },
        {
          "name": "stderr",
          "output_type": "stream",
          "text": [
            " 10%|█         | 1.0000000000000062/10 [02:08<11:13, 74.85s/it]"
          ]
        },
        {
          "name": "stdout",
          "output_type": "stream",
          "text": [
            "\n",
            "Test Epoch: 1\tAccuracy: 6400/11005 (58%)\n",
            "\n"
          ]
        },
        {
          "name": "stderr",
          "output_type": "stream",
          "text": [
            "\r 10%|█         | 1.0026666666666728/10 [02:08<12:57, 86.47s/it]"
          ]
        },
        {
          "name": "stdout",
          "output_type": "stream",
          "text": [
            "Train Epoch: 2 [0/84843 (0%)]\tLoss: 1.124896\n"
          ]
        },
        {
          "name": "stderr",
          "output_type": "stream",
          "text": [
            " 11%|█         | 1.0560000000000047/10 [02:14<16:11, 108.63s/it]"
          ]
        },
        {
          "name": "stdout",
          "output_type": "stream",
          "text": [
            "Train Epoch: 2 [5120/84843 (6%)]\tLoss: 1.049610\n"
          ]
        },
        {
          "name": "stderr",
          "output_type": "stream",
          "text": [
            " 11%|█         | 1.1093333333333366/10 [02:21<16:54, 114.16s/it]"
          ]
        },
        {
          "name": "stdout",
          "output_type": "stream",
          "text": [
            "Train Epoch: 2 [10240/84843 (12%)]\tLoss: 1.008025\n"
          ]
        },
        {
          "name": "stderr",
          "output_type": "stream",
          "text": [
            " 12%|█▏        | 1.1626666666666685/10 [02:26<16:10, 109.81s/it]"
          ]
        },
        {
          "name": "stdout",
          "output_type": "stream",
          "text": [
            "Train Epoch: 2 [15360/84843 (18%)]\tLoss: 0.944798\n"
          ]
        },
        {
          "name": "stderr",
          "output_type": "stream",
          "text": [
            " 12%|█▏        | 1.2160000000000004/10 [02:33<17:08, 117.09s/it]"
          ]
        },
        {
          "name": "stdout",
          "output_type": "stream",
          "text": [
            "Train Epoch: 2 [20480/84843 (24%)]\tLoss: 0.943757\n"
          ]
        },
        {
          "name": "stderr",
          "output_type": "stream",
          "text": [
            " 13%|█▎        | 1.2693333333333323/10 [02:39<16:09, 111.06s/it]"
          ]
        },
        {
          "name": "stdout",
          "output_type": "stream",
          "text": [
            "Train Epoch: 2 [25600/84843 (30%)]\tLoss: 1.037572\n"
          ]
        },
        {
          "name": "stderr",
          "output_type": "stream",
          "text": [
            " 13%|█▎        | 1.3226666666666642/10 [02:46<17:19, 119.75s/it]"
          ]
        },
        {
          "name": "stdout",
          "output_type": "stream",
          "text": [
            "Train Epoch: 2 [30720/84843 (36%)]\tLoss: 0.931975\n"
          ]
        },
        {
          "name": "stderr",
          "output_type": "stream",
          "text": [
            " 14%|█▍        | 1.3759999999999961/10 [02:52<16:01, 111.50s/it]"
          ]
        },
        {
          "name": "stdout",
          "output_type": "stream",
          "text": [
            "Train Epoch: 2 [35840/84843 (42%)]\tLoss: 0.948529\n"
          ]
        },
        {
          "name": "stderr",
          "output_type": "stream",
          "text": [
            " 14%|█▍        | 1.429333333333328/10 [02:59<18:07, 126.84s/it] "
          ]
        },
        {
          "name": "stdout",
          "output_type": "stream",
          "text": [
            "Train Epoch: 2 [40960/84843 (48%)]\tLoss: 0.981075\n"
          ]
        },
        {
          "name": "stderr",
          "output_type": "stream",
          "text": [
            " 15%|█▍        | 1.48266666666666/10 [03:05<15:46, 111.17s/it]  "
          ]
        },
        {
          "name": "stdout",
          "output_type": "stream",
          "text": [
            "Train Epoch: 2 [46080/84843 (54%)]\tLoss: 0.964553\n"
          ]
        },
        {
          "name": "stderr",
          "output_type": "stream",
          "text": [
            " 15%|█▌        | 1.5359999999999918/10 [03:11<18:32, 131.47s/it]"
          ]
        },
        {
          "name": "stdout",
          "output_type": "stream",
          "text": [
            "Train Epoch: 2 [51200/84843 (60%)]\tLoss: 0.877594\n"
          ]
        },
        {
          "name": "stderr",
          "output_type": "stream",
          "text": [
            " 16%|█▌        | 1.5893333333333237/10 [03:17<15:29, 110.54s/it]"
          ]
        },
        {
          "name": "stdout",
          "output_type": "stream",
          "text": [
            "Train Epoch: 2 [56320/84843 (66%)]\tLoss: 0.980675\n"
          ]
        },
        {
          "name": "stderr",
          "output_type": "stream",
          "text": [
            " 16%|█▋        | 1.6426666666666556/10 [03:24<20:09, 144.77s/it]"
          ]
        },
        {
          "name": "stdout",
          "output_type": "stream",
          "text": [
            "Train Epoch: 2 [61440/84843 (72%)]\tLoss: 0.955877\n"
          ]
        },
        {
          "name": "stderr",
          "output_type": "stream",
          "text": [
            " 17%|█▋        | 1.6959999999999875/10 [03:30<15:18, 110.59s/it]"
          ]
        },
        {
          "name": "stdout",
          "output_type": "stream",
          "text": [
            "Train Epoch: 2 [66560/84843 (78%)]\tLoss: 0.947919\n"
          ]
        },
        {
          "name": "stderr",
          "output_type": "stream",
          "text": [
            " 17%|█▋        | 1.7493333333333194/10 [03:37<21:08, 153.78s/it]"
          ]
        },
        {
          "name": "stdout",
          "output_type": "stream",
          "text": [
            "Train Epoch: 2 [71680/84843 (84%)]\tLoss: 0.884057\n"
          ]
        },
        {
          "name": "stderr",
          "output_type": "stream",
          "text": [
            " 18%|█▊        | 1.8026666666666513/10 [03:43<15:00, 109.88s/it]"
          ]
        },
        {
          "name": "stdout",
          "output_type": "stream",
          "text": [
            "Train Epoch: 2 [76800/84843 (90%)]\tLoss: 0.839003\n"
          ]
        },
        {
          "name": "stderr",
          "output_type": "stream",
          "text": [
            " 19%|█▊        | 1.8559999999999832/10 [03:49<20:16, 149.34s/it]"
          ]
        },
        {
          "name": "stdout",
          "output_type": "stream",
          "text": [
            "Train Epoch: 2 [81920/84843 (96%)]\tLoss: 0.935972\n"
          ]
        },
        {
          "name": "stderr",
          "output_type": "stream",
          "text": [
            " 20%|█▉        | 1.9999999999999793/10 [04:00<10:43, 80.43s/it]"
          ]
        },
        {
          "name": "stdout",
          "output_type": "stream",
          "text": [
            "\n",
            "Test Epoch: 2\tAccuracy: 6336/11005 (58%)\n",
            "\n"
          ]
        },
        {
          "name": "stderr",
          "output_type": "stream",
          "text": [
            "\r 20%|██        | 2.002666666666646/10 [04:01<14:22, 107.86s/it]"
          ]
        },
        {
          "name": "stdout",
          "output_type": "stream",
          "text": [
            "Train Epoch: 3 [0/84843 (0%)]\tLoss: 0.741430\n"
          ]
        },
        {
          "name": "stderr",
          "output_type": "stream",
          "text": [
            " 21%|██        | 2.0559999999999823/10 [04:07<14:32, 109.80s/it]"
          ]
        },
        {
          "name": "stdout",
          "output_type": "stream",
          "text": [
            "Train Epoch: 3 [5120/84843 (6%)]\tLoss: 0.876979\n"
          ]
        },
        {
          "name": "stderr",
          "output_type": "stream",
          "text": [
            " 21%|██        | 2.1093333333333186/10 [04:13<14:29, 110.19s/it]"
          ]
        },
        {
          "name": "stdout",
          "output_type": "stream",
          "text": [
            "Train Epoch: 3 [10240/84843 (12%)]\tLoss: 0.813324\n"
          ]
        },
        {
          "name": "stderr",
          "output_type": "stream",
          "text": [
            " 22%|██▏       | 2.162666666666655/10 [04:20<14:23, 110.19s/it]"
          ]
        },
        {
          "name": "stdout",
          "output_type": "stream",
          "text": [
            "Train Epoch: 3 [15360/84843 (18%)]\tLoss: 0.765649\n"
          ]
        },
        {
          "name": "stderr",
          "output_type": "stream",
          "text": [
            " 22%|██▏       | 2.2159999999999913/10 [04:26<14:12, 109.53s/it]"
          ]
        },
        {
          "name": "stdout",
          "output_type": "stream",
          "text": [
            "Train Epoch: 3 [20480/84843 (24%)]\tLoss: 0.597151\n"
          ]
        },
        {
          "name": "stderr",
          "output_type": "stream",
          "text": [
            " 23%|██▎       | 2.2693333333333277/10 [04:32<14:13, 110.45s/it]"
          ]
        },
        {
          "name": "stdout",
          "output_type": "stream",
          "text": [
            "Train Epoch: 3 [25600/84843 (30%)]\tLoss: 0.725087\n"
          ]
        },
        {
          "name": "stderr",
          "output_type": "stream",
          "text": [
            " 23%|██▎       | 2.322666666666664/10 [04:38<14:03, 109.84s/it]"
          ]
        },
        {
          "name": "stdout",
          "output_type": "stream",
          "text": [
            "Train Epoch: 3 [30720/84843 (36%)]\tLoss: 0.814701\n"
          ]
        },
        {
          "name": "stderr",
          "output_type": "stream",
          "text": [
            " 24%|██▍       | 2.3760000000000003/10 [04:45<14:11, 111.72s/it]"
          ]
        },
        {
          "name": "stdout",
          "output_type": "stream",
          "text": [
            "Train Epoch: 3 [35840/84843 (42%)]\tLoss: 0.824009\n"
          ]
        },
        {
          "name": "stderr",
          "output_type": "stream",
          "text": [
            " 24%|██▍       | 2.4293333333333367/10 [04:51<13:56, 110.43s/it]"
          ]
        },
        {
          "name": "stdout",
          "output_type": "stream",
          "text": [
            "Train Epoch: 3 [40960/84843 (48%)]\tLoss: 0.763128\n"
          ]
        },
        {
          "name": "stderr",
          "output_type": "stream",
          "text": [
            " 25%|██▍       | 2.482666666666673/10 [04:58<14:10, 113.12s/it]"
          ]
        },
        {
          "name": "stdout",
          "output_type": "stream",
          "text": [
            "Train Epoch: 3 [46080/84843 (54%)]\tLoss: 0.806626\n"
          ]
        },
        {
          "name": "stderr",
          "output_type": "stream",
          "text": [
            " 25%|██▌       | 2.5360000000000094/10 [05:04<13:49, 111.16s/it]"
          ]
        },
        {
          "name": "stdout",
          "output_type": "stream",
          "text": [
            "Train Epoch: 3 [51200/84843 (60%)]\tLoss: 0.771054\n"
          ]
        },
        {
          "name": "stderr",
          "output_type": "stream",
          "text": [
            " 26%|██▌       | 2.5893333333333457/10 [05:11<13:53, 112.43s/it]"
          ]
        },
        {
          "name": "stdout",
          "output_type": "stream",
          "text": [
            "Train Epoch: 3 [56320/84843 (66%)]\tLoss: 0.781916\n"
          ]
        },
        {
          "name": "stderr",
          "output_type": "stream",
          "text": [
            " 26%|██▋       | 2.642666666666682/10 [05:17<13:27, 109.73s/it] "
          ]
        },
        {
          "name": "stdout",
          "output_type": "stream",
          "text": [
            "Train Epoch: 3 [61440/84843 (72%)]\tLoss: 0.749232\n"
          ]
        },
        {
          "name": "stderr",
          "output_type": "stream",
          "text": [
            " 27%|██▋       | 2.6960000000000184/10 [05:23<13:51, 113.79s/it]"
          ]
        },
        {
          "name": "stdout",
          "output_type": "stream",
          "text": [
            "Train Epoch: 3 [66560/84843 (78%)]\tLoss: 0.791740\n"
          ]
        },
        {
          "name": "stderr",
          "output_type": "stream",
          "text": [
            " 27%|██▋       | 2.7493333333333547/10 [05:30<17:59, 148.90s/it]"
          ]
        },
        {
          "name": "stdout",
          "output_type": "stream",
          "text": [
            "Train Epoch: 3 [71680/84843 (84%)]\tLoss: 0.869470\n"
          ]
        },
        {
          "name": "stderr",
          "output_type": "stream",
          "text": [
            " 28%|██▊       | 2.802666666666691/10 [05:37<13:38, 113.66s/it] "
          ]
        },
        {
          "name": "stdout",
          "output_type": "stream",
          "text": [
            "Train Epoch: 3 [76800/84843 (90%)]\tLoss: 0.891628\n"
          ]
        },
        {
          "name": "stderr",
          "output_type": "stream",
          "text": [
            " 29%|██▊       | 2.8560000000000274/10 [05:43<13:13, 111.12s/it]"
          ]
        },
        {
          "name": "stdout",
          "output_type": "stream",
          "text": [
            "Train Epoch: 3 [81920/84843 (96%)]\tLoss: 0.743967\n"
          ]
        },
        {
          "name": "stderr",
          "output_type": "stream",
          "text": [
            " 30%|███       | 3.0000000000000355/10 [05:55<08:11, 70.14s/it]"
          ]
        },
        {
          "name": "stdout",
          "output_type": "stream",
          "text": [
            "\n",
            "Test Epoch: 3\tAccuracy: 5945/11005 (54%)\n",
            "\n"
          ]
        },
        {
          "name": "stderr",
          "output_type": "stream",
          "text": [
            "\r 30%|███       | 3.0026666666667023/10 [05:56<09:37, 82.58s/it]"
          ]
        },
        {
          "name": "stdout",
          "output_type": "stream",
          "text": [
            "Train Epoch: 4 [0/84843 (0%)]\tLoss: 0.830984\n"
          ]
        },
        {
          "name": "stderr",
          "output_type": "stream",
          "text": [
            " 31%|███       | 3.0560000000000387/10 [06:02<13:33, 117.16s/it]"
          ]
        },
        {
          "name": "stdout",
          "output_type": "stream",
          "text": [
            "Train Epoch: 4 [5120/84843 (6%)]\tLoss: 0.604814\n"
          ]
        },
        {
          "name": "stderr",
          "output_type": "stream",
          "text": [
            " 31%|███       | 3.109333333333375/10 [06:08<12:37, 109.90s/it]"
          ]
        },
        {
          "name": "stdout",
          "output_type": "stream",
          "text": [
            "Train Epoch: 4 [10240/84843 (12%)]\tLoss: 0.846023\n"
          ]
        },
        {
          "name": "stderr",
          "output_type": "stream",
          "text": [
            " 32%|███▏      | 3.1626666666667114/10 [06:15<13:34, 119.19s/it]"
          ]
        },
        {
          "name": "stdout",
          "output_type": "stream",
          "text": [
            "Train Epoch: 4 [15360/84843 (18%)]\tLoss: 0.657277\n"
          ]
        },
        {
          "name": "stderr",
          "output_type": "stream",
          "text": [
            " 32%|███▏      | 3.2160000000000477/10 [06:21<12:39, 112.02s/it]"
          ]
        },
        {
          "name": "stdout",
          "output_type": "stream",
          "text": [
            "Train Epoch: 4 [20480/84843 (24%)]\tLoss: 0.784499\n"
          ]
        },
        {
          "name": "stderr",
          "output_type": "stream",
          "text": [
            " 33%|███▎      | 3.269333333333384/10 [06:28<13:31, 120.54s/it] "
          ]
        },
        {
          "name": "stdout",
          "output_type": "stream",
          "text": [
            "Train Epoch: 4 [25600/84843 (30%)]\tLoss: 0.866550\n"
          ]
        },
        {
          "name": "stderr",
          "output_type": "stream",
          "text": [
            " 33%|███▎      | 3.3226666666667204/10 [06:34<12:32, 112.73s/it]"
          ]
        },
        {
          "name": "stdout",
          "output_type": "stream",
          "text": [
            "Train Epoch: 4 [30720/84843 (36%)]\tLoss: 0.721131\n"
          ]
        },
        {
          "name": "stderr",
          "output_type": "stream",
          "text": [
            " 34%|███▍      | 3.3760000000000567/10 [06:41<13:34, 122.92s/it]"
          ]
        },
        {
          "name": "stdout",
          "output_type": "stream",
          "text": [
            "Train Epoch: 4 [35840/84843 (42%)]\tLoss: 0.669989\n"
          ]
        },
        {
          "name": "stderr",
          "output_type": "stream",
          "text": [
            " 34%|███▍      | 3.429333333333393/10 [06:47<12:22, 113.00s/it] "
          ]
        },
        {
          "name": "stdout",
          "output_type": "stream",
          "text": [
            "Train Epoch: 4 [40960/84843 (48%)]\tLoss: 0.825139\n"
          ]
        },
        {
          "name": "stderr",
          "output_type": "stream",
          "text": [
            " 35%|███▍      | 3.4826666666667294/10 [06:54<13:33, 124.77s/it]"
          ]
        },
        {
          "name": "stdout",
          "output_type": "stream",
          "text": [
            "Train Epoch: 4 [46080/84843 (54%)]\tLoss: 0.616122\n"
          ]
        },
        {
          "name": "stderr",
          "output_type": "stream",
          "text": [
            " 35%|███▌      | 3.5360000000000658/10 [07:00<11:59, 111.28s/it]"
          ]
        },
        {
          "name": "stdout",
          "output_type": "stream",
          "text": [
            "Train Epoch: 4 [51200/84843 (60%)]\tLoss: 0.734286\n"
          ]
        },
        {
          "name": "stderr",
          "output_type": "stream",
          "text": [
            " 36%|███▌      | 3.589333333333402/10 [07:07<13:53, 130.01s/it] "
          ]
        },
        {
          "name": "stdout",
          "output_type": "stream",
          "text": [
            "Train Epoch: 4 [56320/84843 (66%)]\tLoss: 0.754363\n"
          ]
        },
        {
          "name": "stderr",
          "output_type": "stream",
          "text": [
            " 36%|███▋      | 3.6426666666667384/10 [07:13<13:34, 128.09s/it]"
          ]
        },
        {
          "name": "stdout",
          "output_type": "stream",
          "text": [
            "Train Epoch: 4 [61440/84843 (72%)]\tLoss: 0.696471\n"
          ]
        },
        {
          "name": "stderr",
          "output_type": "stream",
          "text": [
            " 37%|███▋      | 3.696000000000075/10 [07:20<13:57, 132.90s/it]"
          ]
        },
        {
          "name": "stdout",
          "output_type": "stream",
          "text": [
            "Train Epoch: 4 [66560/84843 (78%)]\tLoss: 0.704627\n"
          ]
        },
        {
          "name": "stderr",
          "output_type": "stream",
          "text": [
            " 37%|███▋      | 3.749333333333411/10 [07:25<11:32, 110.86s/it] "
          ]
        },
        {
          "name": "stdout",
          "output_type": "stream",
          "text": [
            "Train Epoch: 4 [71680/84843 (84%)]\tLoss: 0.856031\n"
          ]
        },
        {
          "name": "stderr",
          "output_type": "stream",
          "text": [
            " 38%|███▊      | 3.8026666666667475/10 [07:32<14:40, 142.14s/it]"
          ]
        },
        {
          "name": "stdout",
          "output_type": "stream",
          "text": [
            "Train Epoch: 4 [76800/84843 (90%)]\tLoss: 0.797929\n"
          ]
        },
        {
          "name": "stderr",
          "output_type": "stream",
          "text": [
            " 39%|███▊      | 3.856000000000084/10 [07:38<11:25, 111.58s/it]"
          ]
        },
        {
          "name": "stdout",
          "output_type": "stream",
          "text": [
            "Train Epoch: 4 [81920/84843 (96%)]\tLoss: 0.917278\n"
          ]
        },
        {
          "name": "stderr",
          "output_type": "stream",
          "text": [
            " 40%|████      | 4.0000000000000915/10 [07:50<06:54, 69.05s/it]"
          ]
        },
        {
          "name": "stdout",
          "output_type": "stream",
          "text": [
            "\n",
            "Test Epoch: 4\tAccuracy: 8314/11005 (76%)\n",
            "\n"
          ]
        },
        {
          "name": "stderr",
          "output_type": "stream",
          "text": [
            "\r 40%|████      | 4.002666666666758/10 [07:51<08:10, 81.86s/it] "
          ]
        },
        {
          "name": "stdout",
          "output_type": "stream",
          "text": [
            "Train Epoch: 5 [0/84843 (0%)]\tLoss: 0.684907\n"
          ]
        },
        {
          "name": "stderr",
          "output_type": "stream",
          "text": [
            " 41%|████      | 4.056000000000085/10 [07:57<14:29, 146.34s/it]"
          ]
        },
        {
          "name": "stdout",
          "output_type": "stream",
          "text": [
            "Train Epoch: 5 [5120/84843 (6%)]\tLoss: 0.719593\n"
          ]
        },
        {
          "name": "stderr",
          "output_type": "stream",
          "text": [
            " 41%|████      | 4.109333333333413/10 [08:03<10:41, 108.87s/it]"
          ]
        },
        {
          "name": "stdout",
          "output_type": "stream",
          "text": [
            "Train Epoch: 5 [10240/84843 (12%)]\tLoss: 0.706657\n"
          ]
        },
        {
          "name": "stderr",
          "output_type": "stream",
          "text": [
            " 42%|████▏     | 4.16266666666674/10 [08:09<13:35, 139.72s/it] "
          ]
        },
        {
          "name": "stdout",
          "output_type": "stream",
          "text": [
            "Train Epoch: 5 [15360/84843 (18%)]\tLoss: 0.725265\n"
          ]
        },
        {
          "name": "stderr",
          "output_type": "stream",
          "text": [
            " 42%|████▏     | 4.216000000000068/10 [08:16<10:34, 109.65s/it]"
          ]
        },
        {
          "name": "stdout",
          "output_type": "stream",
          "text": [
            "Train Epoch: 5 [20480/84843 (24%)]\tLoss: 0.618595\n"
          ]
        },
        {
          "name": "stderr",
          "output_type": "stream",
          "text": [
            " 43%|████▎     | 4.269333333333395/10 [08:22<12:04, 126.47s/it]"
          ]
        },
        {
          "name": "stdout",
          "output_type": "stream",
          "text": [
            "Train Epoch: 5 [25600/84843 (30%)]\tLoss: 0.733010\n"
          ]
        },
        {
          "name": "stderr",
          "output_type": "stream",
          "text": [
            " 43%|████▎     | 4.322666666666723/10 [08:28<10:23, 109.83s/it]"
          ]
        },
        {
          "name": "stdout",
          "output_type": "stream",
          "text": [
            "Train Epoch: 5 [30720/84843 (36%)]\tLoss: 0.693993\n"
          ]
        },
        {
          "name": "stderr",
          "output_type": "stream",
          "text": [
            " 44%|████▍     | 4.37600000000005/10 [08:34<10:31, 112.27s/it] "
          ]
        },
        {
          "name": "stdout",
          "output_type": "stream",
          "text": [
            "Train Epoch: 5 [35840/84843 (42%)]\tLoss: 0.721032\n"
          ]
        },
        {
          "name": "stderr",
          "output_type": "stream",
          "text": [
            " 44%|████▍     | 4.4293333333333775/10 [08:41<10:14, 110.39s/it]"
          ]
        },
        {
          "name": "stdout",
          "output_type": "stream",
          "text": [
            "Train Epoch: 5 [40960/84843 (48%)]\tLoss: 0.793321\n"
          ]
        },
        {
          "name": "stderr",
          "output_type": "stream",
          "text": [
            " 45%|████▍     | 4.482666666666705/10 [08:47<10:07, 110.12s/it]"
          ]
        },
        {
          "name": "stdout",
          "output_type": "stream",
          "text": [
            "Train Epoch: 5 [46080/84843 (54%)]\tLoss: 0.647034\n"
          ]
        },
        {
          "name": "stderr",
          "output_type": "stream",
          "text": [
            " 45%|████▌     | 4.5360000000000325/10 [08:54<09:57, 109.31s/it]"
          ]
        },
        {
          "name": "stdout",
          "output_type": "stream",
          "text": [
            "Train Epoch: 5 [51200/84843 (60%)]\tLoss: 0.734794\n"
          ]
        },
        {
          "name": "stderr",
          "output_type": "stream",
          "text": [
            " 46%|████▌     | 4.58933333333336/10 [09:00<09:50, 109.10s/it]  "
          ]
        },
        {
          "name": "stdout",
          "output_type": "stream",
          "text": [
            "Train Epoch: 5 [56320/84843 (66%)]\tLoss: 0.639185\n"
          ]
        },
        {
          "name": "stderr",
          "output_type": "stream",
          "text": [
            " 46%|████▋     | 4.642666666666687/10 [09:06<10:08, 113.55s/it]"
          ]
        },
        {
          "name": "stdout",
          "output_type": "stream",
          "text": [
            "Train Epoch: 5 [61440/84843 (72%)]\tLoss: 0.755053\n"
          ]
        },
        {
          "name": "stderr",
          "output_type": "stream",
          "text": [
            " 47%|████▋     | 4.696000000000015/10 [09:12<09:43, 110.07s/it] "
          ]
        },
        {
          "name": "stdout",
          "output_type": "stream",
          "text": [
            "Train Epoch: 5 [66560/84843 (78%)]\tLoss: 0.647301\n"
          ]
        },
        {
          "name": "stderr",
          "output_type": "stream",
          "text": [
            " 47%|████▋     | 4.749333333333342/10 [09:19<09:55, 113.46s/it]"
          ]
        },
        {
          "name": "stdout",
          "output_type": "stream",
          "text": [
            "Train Epoch: 5 [71680/84843 (84%)]\tLoss: 0.812685\n"
          ]
        },
        {
          "name": "stderr",
          "output_type": "stream",
          "text": [
            " 48%|████▊     | 4.80266666666667/10 [09:25<09:33, 110.31s/it] "
          ]
        },
        {
          "name": "stdout",
          "output_type": "stream",
          "text": [
            "Train Epoch: 5 [76800/84843 (90%)]\tLoss: 0.923181\n"
          ]
        },
        {
          "name": "stderr",
          "output_type": "stream",
          "text": [
            " 49%|████▊     | 4.855999999999997/10 [09:32<09:39, 112.67s/it]"
          ]
        },
        {
          "name": "stdout",
          "output_type": "stream",
          "text": [
            "Train Epoch: 5 [81920/84843 (96%)]\tLoss: 0.616828\n"
          ]
        },
        {
          "name": "stderr",
          "output_type": "stream",
          "text": [
            " 50%|████▉     | 4.999999999999981/10 [09:44<06:10, 74.17s/it]"
          ]
        },
        {
          "name": "stdout",
          "output_type": "stream",
          "text": [
            "\n",
            "Test Epoch: 5\tAccuracy: 8225/11005 (75%)\n",
            "\n"
          ]
        },
        {
          "name": "stderr",
          "output_type": "stream",
          "text": [
            "\r 50%|█████     | 5.002666666666648/10 [09:44<07:06, 85.32s/it]"
          ]
        },
        {
          "name": "stdout",
          "output_type": "stream",
          "text": [
            "Train Epoch: 6 [0/84843 (0%)]\tLoss: 0.523705\n"
          ]
        },
        {
          "name": "stderr",
          "output_type": "stream",
          "text": [
            " 51%|█████     | 5.055999999999975/10 [09:50<09:07, 110.77s/it]"
          ]
        },
        {
          "name": "stdout",
          "output_type": "stream",
          "text": [
            "Train Epoch: 6 [5120/84843 (6%)]\tLoss: 0.631645\n"
          ]
        },
        {
          "name": "stderr",
          "output_type": "stream",
          "text": [
            " 51%|█████     | 5.109333333333303/10 [09:56<10:19, 126.70s/it]"
          ]
        },
        {
          "name": "stdout",
          "output_type": "stream",
          "text": [
            "Train Epoch: 6 [10240/84843 (12%)]\tLoss: 0.553877\n"
          ]
        },
        {
          "name": "stderr",
          "output_type": "stream",
          "text": [
            " 52%|█████▏    | 5.16266666666663/10 [10:02<08:48, 109.20s/it] "
          ]
        },
        {
          "name": "stdout",
          "output_type": "stream",
          "text": [
            "Train Epoch: 6 [15360/84843 (18%)]\tLoss: 0.638457\n"
          ]
        },
        {
          "name": "stderr",
          "output_type": "stream",
          "text": [
            " 52%|█████▏    | 5.215999999999958/10 [10:09<10:53, 136.65s/it]"
          ]
        },
        {
          "name": "stdout",
          "output_type": "stream",
          "text": [
            "Train Epoch: 6 [20480/84843 (24%)]\tLoss: 0.766372\n"
          ]
        },
        {
          "name": "stderr",
          "output_type": "stream",
          "text": [
            " 53%|█████▎    | 5.269333333333285/10 [10:15<08:38, 109.52s/it]"
          ]
        },
        {
          "name": "stdout",
          "output_type": "stream",
          "text": [
            "Train Epoch: 6 [25600/84843 (30%)]\tLoss: 0.561479\n"
          ]
        },
        {
          "name": "stderr",
          "output_type": "stream",
          "text": [
            " 53%|█████▎    | 5.3226666666666125/10 [10:22<11:37, 149.03s/it]"
          ]
        },
        {
          "name": "stdout",
          "output_type": "stream",
          "text": [
            "Train Epoch: 6 [30720/84843 (36%)]\tLoss: 0.732561\n"
          ]
        },
        {
          "name": "stderr",
          "output_type": "stream",
          "text": [
            " 54%|█████▍    | 5.37599999999994/10 [10:28<08:29, 110.21s/it] "
          ]
        },
        {
          "name": "stdout",
          "output_type": "stream",
          "text": [
            "Train Epoch: 6 [35840/84843 (42%)]\tLoss: 0.611860\n"
          ]
        },
        {
          "name": "stderr",
          "output_type": "stream",
          "text": [
            " 54%|█████▍    | 5.429333333333267/10 [10:34<11:43, 154.02s/it]"
          ]
        },
        {
          "name": "stdout",
          "output_type": "stream",
          "text": [
            "Train Epoch: 6 [40960/84843 (48%)]\tLoss: 0.484760\n"
          ]
        },
        {
          "name": "stderr",
          "output_type": "stream",
          "text": [
            " 55%|█████▍    | 5.482666666666595/10 [10:40<08:16, 109.89s/it] "
          ]
        },
        {
          "name": "stdout",
          "output_type": "stream",
          "text": [
            "Train Epoch: 6 [46080/84843 (54%)]\tLoss: 0.632309\n"
          ]
        },
        {
          "name": "stderr",
          "output_type": "stream",
          "text": [
            " 55%|█████▌    | 5.535999999999922/10 [10:47<11:03, 148.68s/it]"
          ]
        },
        {
          "name": "stdout",
          "output_type": "stream",
          "text": [
            "Train Epoch: 6 [51200/84843 (60%)]\tLoss: 0.659281\n"
          ]
        },
        {
          "name": "stderr",
          "output_type": "stream",
          "text": [
            " 56%|█████▌    | 5.58933333333325/10 [10:53<08:10, 111.14s/it] "
          ]
        },
        {
          "name": "stdout",
          "output_type": "stream",
          "text": [
            "Train Epoch: 6 [56320/84843 (66%)]\tLoss: 0.504092\n"
          ]
        },
        {
          "name": "stderr",
          "output_type": "stream",
          "text": [
            " 56%|█████▋    | 5.642666666666577/10 [10:59<10:37, 146.27s/it]"
          ]
        },
        {
          "name": "stdout",
          "output_type": "stream",
          "text": [
            "Train Epoch: 6 [61440/84843 (72%)]\tLoss: 0.643437\n"
          ]
        },
        {
          "name": "stderr",
          "output_type": "stream",
          "text": [
            " 57%|█████▋    | 5.695999999999905/10 [11:06<07:59, 111.52s/it]"
          ]
        },
        {
          "name": "stdout",
          "output_type": "stream",
          "text": [
            "Train Epoch: 6 [66560/84843 (78%)]\tLoss: 0.656666\n"
          ]
        },
        {
          "name": "stderr",
          "output_type": "stream",
          "text": [
            " 57%|█████▋    | 5.749333333333232/10 [11:12<10:02, 141.63s/it]"
          ]
        },
        {
          "name": "stdout",
          "output_type": "stream",
          "text": [
            "Train Epoch: 6 [71680/84843 (84%)]\tLoss: 0.594212\n"
          ]
        },
        {
          "name": "stderr",
          "output_type": "stream",
          "text": [
            " 58%|█████▊    | 5.80266666666656/10 [11:19<07:50, 112.12s/it] "
          ]
        },
        {
          "name": "stdout",
          "output_type": "stream",
          "text": [
            "Train Epoch: 6 [76800/84843 (90%)]\tLoss: 0.595084\n"
          ]
        },
        {
          "name": "stderr",
          "output_type": "stream",
          "text": [
            " 59%|█████▊    | 5.855999999999887/10 [11:25<09:21, 135.48s/it]"
          ]
        },
        {
          "name": "stdout",
          "output_type": "stream",
          "text": [
            "Train Epoch: 6 [81920/84843 (96%)]\tLoss: 0.682203\n"
          ]
        },
        {
          "name": "stderr",
          "output_type": "stream",
          "text": [
            " 60%|█████▉    | 5.999999999999871/10 [11:37<04:36, 69.22s/it]"
          ]
        },
        {
          "name": "stdout",
          "output_type": "stream",
          "text": [
            "\n",
            "Test Epoch: 6\tAccuracy: 8703/11005 (79%)\n",
            "\n"
          ]
        },
        {
          "name": "stderr",
          "output_type": "stream",
          "text": [
            "\r 60%|██████    | 6.002666666666538/10 [11:37<05:33, 83.38s/it]"
          ]
        },
        {
          "name": "stdout",
          "output_type": "stream",
          "text": [
            "Train Epoch: 7 [0/84843 (0%)]\tLoss: 0.502646\n"
          ]
        },
        {
          "name": "stderr",
          "output_type": "stream",
          "text": [
            " 61%|██████    | 6.055999999999865/10 [11:44<07:12, 109.67s/it]"
          ]
        },
        {
          "name": "stdout",
          "output_type": "stream",
          "text": [
            "Train Epoch: 7 [5120/84843 (6%)]\tLoss: 0.529813\n"
          ]
        },
        {
          "name": "stderr",
          "output_type": "stream",
          "text": [
            " 61%|██████    | 6.1093333333331925/10 [11:50<07:11, 110.91s/it]"
          ]
        },
        {
          "name": "stdout",
          "output_type": "stream",
          "text": [
            "Train Epoch: 7 [10240/84843 (12%)]\tLoss: 0.547201\n"
          ]
        },
        {
          "name": "stderr",
          "output_type": "stream",
          "text": [
            " 62%|██████▏   | 6.16266666666652/10 [11:57<07:11, 112.44s/it] "
          ]
        },
        {
          "name": "stdout",
          "output_type": "stream",
          "text": [
            "Train Epoch: 7 [15360/84843 (18%)]\tLoss: 0.788225\n"
          ]
        },
        {
          "name": "stderr",
          "output_type": "stream",
          "text": [
            " 62%|██████▏   | 6.215999999999847/10 [12:02<06:58, 110.59s/it]"
          ]
        },
        {
          "name": "stdout",
          "output_type": "stream",
          "text": [
            "Train Epoch: 7 [20480/84843 (24%)]\tLoss: 0.579496\n"
          ]
        },
        {
          "name": "stderr",
          "output_type": "stream",
          "text": [
            " 63%|██████▎   | 6.269333333333175/10 [12:09<06:55, 111.24s/it] "
          ]
        },
        {
          "name": "stdout",
          "output_type": "stream",
          "text": [
            "Train Epoch: 7 [25600/84843 (30%)]\tLoss: 0.575471\n"
          ]
        },
        {
          "name": "stderr",
          "output_type": "stream",
          "text": [
            " 63%|██████▎   | 6.322666666666502/10 [12:15<06:50, 111.57s/it]"
          ]
        },
        {
          "name": "stdout",
          "output_type": "stream",
          "text": [
            "Train Epoch: 7 [30720/84843 (36%)]\tLoss: 0.550765\n"
          ]
        },
        {
          "name": "stderr",
          "output_type": "stream",
          "text": [
            " 64%|██████▍   | 6.37599999999983/10 [12:22<06:47, 112.36s/it] "
          ]
        },
        {
          "name": "stdout",
          "output_type": "stream",
          "text": [
            "Train Epoch: 7 [35840/84843 (42%)]\tLoss: 0.572455\n"
          ]
        },
        {
          "name": "stderr",
          "output_type": "stream",
          "text": [
            " 64%|██████▍   | 6.429333333333157/10 [12:28<06:30, 109.34s/it]"
          ]
        },
        {
          "name": "stdout",
          "output_type": "stream",
          "text": [
            "Train Epoch: 7 [40960/84843 (48%)]\tLoss: 0.573903\n"
          ]
        },
        {
          "name": "stderr",
          "output_type": "stream",
          "text": [
            " 65%|██████▍   | 6.482666666666485/10 [12:35<06:36, 112.84s/it]"
          ]
        },
        {
          "name": "stdout",
          "output_type": "stream",
          "text": [
            "Train Epoch: 7 [46080/84843 (54%)]\tLoss: 0.559775\n"
          ]
        },
        {
          "name": "stderr",
          "output_type": "stream",
          "text": [
            " 65%|██████▌   | 6.535999999999812/10 [12:41<06:25, 111.27s/it]"
          ]
        },
        {
          "name": "stdout",
          "output_type": "stream",
          "text": [
            "Train Epoch: 7 [51200/84843 (60%)]\tLoss: 0.535009\n"
          ]
        },
        {
          "name": "stderr",
          "output_type": "stream",
          "text": [
            " 66%|██████▌   | 6.58933333333314/10 [12:47<06:29, 114.27s/it] "
          ]
        },
        {
          "name": "stdout",
          "output_type": "stream",
          "text": [
            "Train Epoch: 7 [56320/84843 (66%)]\tLoss: 0.598855\n"
          ]
        },
        {
          "name": "stderr",
          "output_type": "stream",
          "text": [
            " 66%|██████▋   | 6.642666666666467/10 [12:53<06:11, 110.80s/it]"
          ]
        },
        {
          "name": "stdout",
          "output_type": "stream",
          "text": [
            "Train Epoch: 7 [61440/84843 (72%)]\tLoss: 0.801906\n"
          ]
        },
        {
          "name": "stderr",
          "output_type": "stream",
          "text": [
            " 67%|██████▋   | 6.695999999999795/10 [13:00<06:23, 116.06s/it]"
          ]
        },
        {
          "name": "stdout",
          "output_type": "stream",
          "text": [
            "Train Epoch: 7 [66560/84843 (78%)]\tLoss: 0.760070\n"
          ]
        },
        {
          "name": "stderr",
          "output_type": "stream",
          "text": [
            " 67%|██████▋   | 6.749333333333122/10 [13:06<06:05, 112.44s/it]"
          ]
        },
        {
          "name": "stdout",
          "output_type": "stream",
          "text": [
            "Train Epoch: 7 [71680/84843 (84%)]\tLoss: 0.462747\n"
          ]
        },
        {
          "name": "stderr",
          "output_type": "stream",
          "text": [
            " 68%|██████▊   | 6.8026666666664495/10 [13:13<06:17, 118.09s/it]"
          ]
        },
        {
          "name": "stdout",
          "output_type": "stream",
          "text": [
            "Train Epoch: 7 [76800/84843 (90%)]\tLoss: 0.612676\n"
          ]
        },
        {
          "name": "stderr",
          "output_type": "stream",
          "text": [
            " 69%|██████▊   | 6.855999999999777/10 [13:19<05:42, 108.90s/it]"
          ]
        },
        {
          "name": "stdout",
          "output_type": "stream",
          "text": [
            "Train Epoch: 7 [81920/84843 (96%)]\tLoss: 0.640252\n"
          ]
        },
        {
          "name": "stderr",
          "output_type": "stream",
          "text": [
            " 70%|██████▉   | 6.999999999999761/10 [13:31<03:26, 68.96s/it]"
          ]
        },
        {
          "name": "stdout",
          "output_type": "stream",
          "text": [
            "\n",
            "Test Epoch: 7\tAccuracy: 7644/11005 (69%)\n",
            "\n"
          ]
        },
        {
          "name": "stderr",
          "output_type": "stream",
          "text": [
            "\r 70%|███████   | 7.0026666666664275/10 [13:31<04:07, 82.42s/it]"
          ]
        },
        {
          "name": "stdout",
          "output_type": "stream",
          "text": [
            "Train Epoch: 8 [0/84843 (0%)]\tLoss: 0.694890\n"
          ]
        },
        {
          "name": "stderr",
          "output_type": "stream",
          "text": [
            " 71%|███████   | 7.055999999999755/10 [13:38<06:09, 125.66s/it] "
          ]
        },
        {
          "name": "stdout",
          "output_type": "stream",
          "text": [
            "Train Epoch: 8 [5120/84843 (6%)]\tLoss: 0.532967\n"
          ]
        },
        {
          "name": "stderr",
          "output_type": "stream",
          "text": [
            " 71%|███████   | 7.109333333333082/10 [13:44<05:15, 109.11s/it]"
          ]
        },
        {
          "name": "stdout",
          "output_type": "stream",
          "text": [
            "Train Epoch: 8 [10240/84843 (12%)]\tLoss: 0.703042\n"
          ]
        },
        {
          "name": "stderr",
          "output_type": "stream",
          "text": [
            " 72%|███████▏  | 7.16266666666641/10 [13:51<06:16, 132.60s/it]  "
          ]
        },
        {
          "name": "stdout",
          "output_type": "stream",
          "text": [
            "Train Epoch: 8 [15360/84843 (18%)]\tLoss: 0.559990\n"
          ]
        },
        {
          "name": "stderr",
          "output_type": "stream",
          "text": [
            " 72%|███████▏  | 7.215999999999737/10 [13:57<05:03, 109.17s/it]"
          ]
        },
        {
          "name": "stdout",
          "output_type": "stream",
          "text": [
            "Train Epoch: 8 [20480/84843 (24%)]\tLoss: 0.604890\n"
          ]
        },
        {
          "name": "stderr",
          "output_type": "stream",
          "text": [
            " 73%|███████▎  | 7.269333333333065/10 [14:04<06:30, 143.08s/it]"
          ]
        },
        {
          "name": "stdout",
          "output_type": "stream",
          "text": [
            "Train Epoch: 8 [25600/84843 (30%)]\tLoss: 0.561138\n"
          ]
        },
        {
          "name": "stderr",
          "output_type": "stream",
          "text": [
            " 73%|███████▎  | 7.322666666666392/10 [14:10<04:56, 110.61s/it]"
          ]
        },
        {
          "name": "stdout",
          "output_type": "stream",
          "text": [
            "Train Epoch: 8 [30720/84843 (36%)]\tLoss: 0.583051\n"
          ]
        },
        {
          "name": "stderr",
          "output_type": "stream",
          "text": [
            " 74%|███████▍  | 7.37599999999972/10 [14:16<06:40, 152.56s/it] "
          ]
        },
        {
          "name": "stdout",
          "output_type": "stream",
          "text": [
            "Train Epoch: 8 [35840/84843 (42%)]\tLoss: 0.506426\n"
          ]
        },
        {
          "name": "stderr",
          "output_type": "stream",
          "text": [
            " 74%|███████▍  | 7.429333333333047/10 [14:22<04:46, 111.57s/it]"
          ]
        },
        {
          "name": "stdout",
          "output_type": "stream",
          "text": [
            "Train Epoch: 8 [40960/84843 (48%)]\tLoss: 0.627256\n"
          ]
        },
        {
          "name": "stderr",
          "output_type": "stream",
          "text": [
            " 75%|███████▍  | 7.482666666666375/10 [14:29<06:24, 152.75s/it]"
          ]
        },
        {
          "name": "stdout",
          "output_type": "stream",
          "text": [
            "Train Epoch: 8 [46080/84843 (54%)]\tLoss: 0.638473\n"
          ]
        },
        {
          "name": "stderr",
          "output_type": "stream",
          "text": [
            " 75%|███████▌  | 7.535999999999702/10 [14:35<04:32, 110.65s/it]"
          ]
        },
        {
          "name": "stdout",
          "output_type": "stream",
          "text": [
            "Train Epoch: 8 [51200/84843 (60%)]\tLoss: 0.647863\n"
          ]
        },
        {
          "name": "stderr",
          "output_type": "stream",
          "text": [
            " 76%|███████▌  | 7.5893333333330295/10 [14:42<06:02, 150.41s/it]"
          ]
        },
        {
          "name": "stdout",
          "output_type": "stream",
          "text": [
            "Train Epoch: 8 [56320/84843 (66%)]\tLoss: 0.607938\n"
          ]
        },
        {
          "name": "stderr",
          "output_type": "stream",
          "text": [
            " 76%|███████▋  | 7.642666666666357/10 [14:48<04:22, 111.29s/it]"
          ]
        },
        {
          "name": "stdout",
          "output_type": "stream",
          "text": [
            "Train Epoch: 8 [61440/84843 (72%)]\tLoss: 0.668540\n"
          ]
        },
        {
          "name": "stderr",
          "output_type": "stream",
          "text": [
            " 77%|███████▋  | 7.695999999999684/10 [14:54<05:33, 144.89s/it]"
          ]
        },
        {
          "name": "stdout",
          "output_type": "stream",
          "text": [
            "Train Epoch: 8 [66560/84843 (78%)]\tLoss: 0.549384\n"
          ]
        },
        {
          "name": "stderr",
          "output_type": "stream",
          "text": [
            " 77%|███████▋  | 7.749333333333012/10 [15:01<04:08, 110.30s/it] "
          ]
        },
        {
          "name": "stdout",
          "output_type": "stream",
          "text": [
            "Train Epoch: 8 [71680/84843 (84%)]\tLoss: 0.634230\n"
          ]
        },
        {
          "name": "stderr",
          "output_type": "stream",
          "text": [
            " 78%|███████▊  | 7.802666666666339/10 [15:07<05:05, 138.93s/it]"
          ]
        },
        {
          "name": "stdout",
          "output_type": "stream",
          "text": [
            "Train Epoch: 8 [76800/84843 (90%)]\tLoss: 0.611937\n"
          ]
        },
        {
          "name": "stderr",
          "output_type": "stream",
          "text": [
            " 79%|███████▊  | 7.855999999999667/10 [15:14<03:57, 110.82s/it]"
          ]
        },
        {
          "name": "stdout",
          "output_type": "stream",
          "text": [
            "Train Epoch: 8 [81920/84843 (96%)]\tLoss: 0.761766\n"
          ]
        },
        {
          "name": "stderr",
          "output_type": "stream",
          "text": [
            " 80%|███████▉  | 7.999999999999651/10 [15:26<02:18, 69.38s/it]"
          ]
        },
        {
          "name": "stdout",
          "output_type": "stream",
          "text": [
            "\n",
            "Test Epoch: 8\tAccuracy: 8402/11005 (76%)\n",
            "\n"
          ]
        },
        {
          "name": "stderr",
          "output_type": "stream",
          "text": [
            "\r 80%|████████  | 8.002666666666318/10 [15:26<02:45, 83.06s/it]"
          ]
        },
        {
          "name": "stdout",
          "output_type": "stream",
          "text": [
            "Train Epoch: 9 [0/84843 (0%)]\tLoss: 0.497187\n"
          ]
        },
        {
          "name": "stderr",
          "output_type": "stream",
          "text": [
            " 81%|████████  | 8.055999999999646/10 [15:32<03:33, 109.64s/it]"
          ]
        },
        {
          "name": "stdout",
          "output_type": "stream",
          "text": [
            "Train Epoch: 9 [5120/84843 (6%)]\tLoss: 0.614557\n"
          ]
        },
        {
          "name": "stderr",
          "output_type": "stream",
          "text": [
            " 81%|████████  | 8.109333333332973/10 [15:39<04:22, 138.68s/it]"
          ]
        },
        {
          "name": "stdout",
          "output_type": "stream",
          "text": [
            "Train Epoch: 9 [10240/84843 (12%)]\tLoss: 0.464045\n"
          ]
        },
        {
          "name": "stderr",
          "output_type": "stream",
          "text": [
            " 82%|████████▏ | 8.1626666666663/10 [15:48<04:56, 161.35s/it]  "
          ]
        },
        {
          "name": "stdout",
          "output_type": "stream",
          "text": [
            "Train Epoch: 9 [15360/84843 (18%)]\tLoss: 0.484173\n"
          ]
        },
        {
          "name": "stderr",
          "output_type": "stream",
          "text": [
            " 82%|████████▏ | 8.215999999999628/10 [15:54<03:28, 116.78s/it]"
          ]
        },
        {
          "name": "stdout",
          "output_type": "stream",
          "text": [
            "Train Epoch: 9 [20480/84843 (24%)]\tLoss: 0.598746\n"
          ]
        },
        {
          "name": "stderr",
          "output_type": "stream",
          "text": [
            " 83%|████████▎ | 8.269333333332956/10 [16:01<04:41, 162.38s/it]"
          ]
        },
        {
          "name": "stdout",
          "output_type": "stream",
          "text": [
            "Train Epoch: 9 [25600/84843 (30%)]\tLoss: 0.624710\n"
          ]
        },
        {
          "name": "stderr",
          "output_type": "stream",
          "text": [
            " 83%|████████▎ | 8.322666666666283/10 [16:08<03:14, 115.97s/it]"
          ]
        },
        {
          "name": "stdout",
          "output_type": "stream",
          "text": [
            "Train Epoch: 9 [30720/84843 (36%)]\tLoss: 0.504301\n"
          ]
        },
        {
          "name": "stderr",
          "output_type": "stream",
          "text": [
            " 84%|████████▍ | 8.37599999999961/10 [16:15<03:59, 147.25s/it] "
          ]
        },
        {
          "name": "stdout",
          "output_type": "stream",
          "text": [
            "Train Epoch: 9 [35840/84843 (42%)]\tLoss: 0.582494\n"
          ]
        },
        {
          "name": "stderr",
          "output_type": "stream",
          "text": [
            " 84%|████████▍ | 8.429333333332938/10 [16:21<03:01, 115.31s/it]"
          ]
        },
        {
          "name": "stdout",
          "output_type": "stream",
          "text": [
            "Train Epoch: 9 [40960/84843 (48%)]\tLoss: 0.648156\n"
          ]
        },
        {
          "name": "stderr",
          "output_type": "stream",
          "text": [
            " 85%|████████▍ | 8.482666666666265/10 [16:28<03:41, 145.83s/it]"
          ]
        },
        {
          "name": "stdout",
          "output_type": "stream",
          "text": [
            "Train Epoch: 9 [46080/84843 (54%)]\tLoss: 0.646570\n"
          ]
        },
        {
          "name": "stderr",
          "output_type": "stream",
          "text": [
            " 85%|████████▌ | 8.535999999999593/10 [16:34<02:43, 111.58s/it]"
          ]
        },
        {
          "name": "stdout",
          "output_type": "stream",
          "text": [
            "Train Epoch: 9 [51200/84843 (60%)]\tLoss: 0.597292\n"
          ]
        },
        {
          "name": "stderr",
          "output_type": "stream",
          "text": [
            " 86%|████████▌ | 8.58933333333292/10 [16:41<03:30, 149.51s/it] "
          ]
        },
        {
          "name": "stdout",
          "output_type": "stream",
          "text": [
            "Train Epoch: 9 [56320/84843 (66%)]\tLoss: 0.696389\n"
          ]
        },
        {
          "name": "stderr",
          "output_type": "stream",
          "text": [
            " 86%|████████▋ | 8.642666666666248/10 [16:47<02:34, 113.68s/it]"
          ]
        },
        {
          "name": "stdout",
          "output_type": "stream",
          "text": [
            "Train Epoch: 9 [61440/84843 (72%)]\tLoss: 0.731835\n"
          ]
        },
        {
          "name": "stderr",
          "output_type": "stream",
          "text": [
            " 87%|████████▋ | 8.695999999999575/10 [16:54<03:15, 149.82s/it]"
          ]
        },
        {
          "name": "stdout",
          "output_type": "stream",
          "text": [
            "Train Epoch: 9 [66560/84843 (78%)]\tLoss: 0.599855\n"
          ]
        },
        {
          "name": "stderr",
          "output_type": "stream",
          "text": [
            " 87%|████████▋ | 8.749333333332903/10 [17:00<02:22, 113.58s/it]"
          ]
        },
        {
          "name": "stdout",
          "output_type": "stream",
          "text": [
            "Train Epoch: 9 [71680/84843 (84%)]\tLoss: 0.505845\n"
          ]
        },
        {
          "name": "stderr",
          "output_type": "stream",
          "text": [
            " 88%|████████▊ | 8.80266666666623/10 [17:07<03:00, 151.15s/it] "
          ]
        },
        {
          "name": "stdout",
          "output_type": "stream",
          "text": [
            "Train Epoch: 9 [76800/84843 (90%)]\tLoss: 0.577918\n"
          ]
        },
        {
          "name": "stderr",
          "output_type": "stream",
          "text": [
            " 89%|████████▊ | 8.855999999999558/10 [17:13<02:08, 112.26s/it]"
          ]
        },
        {
          "name": "stdout",
          "output_type": "stream",
          "text": [
            "Train Epoch: 9 [81920/84843 (96%)]\tLoss: 0.678600\n"
          ]
        },
        {
          "name": "stderr",
          "output_type": "stream",
          "text": [
            " 90%|████████▉ | 8.999999999999542/10 [17:25<01:11, 71.37s/it]"
          ]
        },
        {
          "name": "stdout",
          "output_type": "stream",
          "text": [
            "\n",
            "Test Epoch: 9\tAccuracy: 8059/11005 (73%)\n",
            "\n"
          ]
        },
        {
          "name": "stderr",
          "output_type": "stream",
          "text": [
            "\r 90%|█████████ | 9.002666666666208/10 [17:25<01:23, 83.74s/it]"
          ]
        },
        {
          "name": "stdout",
          "output_type": "stream",
          "text": [
            "Train Epoch: 10 [0/84843 (0%)]\tLoss: 0.460479\n"
          ]
        },
        {
          "name": "stderr",
          "output_type": "stream",
          "text": [
            " 91%|█████████ | 9.055999999999536/10 [17:32<02:24, 152.57s/it]"
          ]
        },
        {
          "name": "stdout",
          "output_type": "stream",
          "text": [
            "Train Epoch: 10 [5120/84843 (6%)]\tLoss: 0.440261\n"
          ]
        },
        {
          "name": "stderr",
          "output_type": "stream",
          "text": [
            " 91%|█████████ | 9.109333333332863/10 [17:38<01:39, 111.58s/it]"
          ]
        },
        {
          "name": "stdout",
          "output_type": "stream",
          "text": [
            "Train Epoch: 10 [10240/84843 (12%)]\tLoss: 0.555704\n"
          ]
        },
        {
          "name": "stderr",
          "output_type": "stream",
          "text": [
            " 92%|█████████▏| 9.16266666666619/10 [17:45<02:03, 147.04s/it] "
          ]
        },
        {
          "name": "stdout",
          "output_type": "stream",
          "text": [
            "Train Epoch: 10 [15360/84843 (18%)]\tLoss: 0.449138\n"
          ]
        },
        {
          "name": "stderr",
          "output_type": "stream",
          "text": [
            " 92%|█████████▏| 9.215999999999518/10 [17:51<01:26, 110.34s/it]"
          ]
        },
        {
          "name": "stdout",
          "output_type": "stream",
          "text": [
            "Train Epoch: 10 [20480/84843 (24%)]\tLoss: 0.611196\n"
          ]
        },
        {
          "name": "stderr",
          "output_type": "stream",
          "text": [
            " 93%|█████████▎| 9.269333333332845/10 [17:57<01:44, 142.39s/it]"
          ]
        },
        {
          "name": "stdout",
          "output_type": "stream",
          "text": [
            "Train Epoch: 10 [25600/84843 (30%)]\tLoss: 0.544199\n"
          ]
        },
        {
          "name": "stderr",
          "output_type": "stream",
          "text": [
            " 93%|█████████▎| 9.322666666666173/10 [18:04<01:14, 109.34s/it]"
          ]
        },
        {
          "name": "stdout",
          "output_type": "stream",
          "text": [
            "Train Epoch: 10 [30720/84843 (36%)]\tLoss: 0.517564\n"
          ]
        },
        {
          "name": "stderr",
          "output_type": "stream",
          "text": [
            " 94%|█████████▍| 9.3759999999995/10 [18:10<01:22, 132.78s/it]  "
          ]
        },
        {
          "name": "stdout",
          "output_type": "stream",
          "text": [
            "Train Epoch: 10 [35840/84843 (42%)]\tLoss: 0.553873\n"
          ]
        },
        {
          "name": "stderr",
          "output_type": "stream",
          "text": [
            " 94%|█████████▍| 9.429333333332828/10 [18:16<01:02, 110.40s/it]"
          ]
        },
        {
          "name": "stdout",
          "output_type": "stream",
          "text": [
            "Train Epoch: 10 [40960/84843 (48%)]\tLoss: 0.539752\n"
          ]
        },
        {
          "name": "stderr",
          "output_type": "stream",
          "text": [
            " 95%|█████████▍| 9.482666666666155/10 [18:22<01:01, 119.39s/it]"
          ]
        },
        {
          "name": "stdout",
          "output_type": "stream",
          "text": [
            "Train Epoch: 10 [46080/84843 (54%)]\tLoss: 0.682617\n"
          ]
        },
        {
          "name": "stderr",
          "output_type": "stream",
          "text": [
            " 95%|█████████▌| 9.535999999999483/10 [18:29<00:51, 111.55s/it]"
          ]
        },
        {
          "name": "stdout",
          "output_type": "stream",
          "text": [
            "Train Epoch: 10 [51200/84843 (60%)]\tLoss: 0.503788\n"
          ]
        },
        {
          "name": "stderr",
          "output_type": "stream",
          "text": [
            " 96%|█████████▌| 9.58933333333281/10 [18:35<00:45, 110.86s/it] "
          ]
        },
        {
          "name": "stdout",
          "output_type": "stream",
          "text": [
            "Train Epoch: 10 [56320/84843 (66%)]\tLoss: 0.652954\n"
          ]
        },
        {
          "name": "stderr",
          "output_type": "stream",
          "text": [
            " 96%|█████████▋| 9.642666666666138/10 [18:42<00:40, 112.34s/it]"
          ]
        },
        {
          "name": "stdout",
          "output_type": "stream",
          "text": [
            "Train Epoch: 10 [61440/84843 (72%)]\tLoss: 0.512446\n"
          ]
        },
        {
          "name": "stderr",
          "output_type": "stream",
          "text": [
            " 97%|█████████▋| 9.695999999999465/10 [18:48<00:33, 111.71s/it]"
          ]
        },
        {
          "name": "stdout",
          "output_type": "stream",
          "text": [
            "Train Epoch: 10 [66560/84843 (78%)]\tLoss: 0.546444\n"
          ]
        },
        {
          "name": "stderr",
          "output_type": "stream",
          "text": [
            " 97%|█████████▋| 9.749333333332793/10 [18:55<00:27, 111.64s/it]"
          ]
        },
        {
          "name": "stdout",
          "output_type": "stream",
          "text": [
            "Train Epoch: 10 [71680/84843 (84%)]\tLoss: 0.536202\n"
          ]
        },
        {
          "name": "stderr",
          "output_type": "stream",
          "text": [
            " 98%|█████████▊| 9.80266666666612/10 [19:01<00:22, 113.43s/it] "
          ]
        },
        {
          "name": "stdout",
          "output_type": "stream",
          "text": [
            "Train Epoch: 10 [76800/84843 (90%)]\tLoss: 0.580782\n"
          ]
        },
        {
          "name": "stderr",
          "output_type": "stream",
          "text": [
            " 99%|█████████▊| 9.855999999999447/10 [19:08<00:16, 112.08s/it]"
          ]
        },
        {
          "name": "stdout",
          "output_type": "stream",
          "text": [
            "Train Epoch: 10 [81920/84843 (96%)]\tLoss: 0.511647\n"
          ]
        },
        {
          "name": "stderr",
          "output_type": "stream",
          "text": [
            "100%|█████████▉| 9.999999999999432/10 [19:20<00:00, 116.01s/it]"
          ]
        },
        {
          "name": "stdout",
          "output_type": "stream",
          "text": [
            "\n",
            "Test Epoch: 10\tAccuracy: 8114/11005 (74%)\n",
            "\n"
          ]
        },
        {
          "name": "stderr",
          "output_type": "stream",
          "text": [
            "\n"
          ]
        }
      ],
      "source": [
        "log_interval = 20\n",
        "n_epoch = 10\n",
        "\n",
        "pbar_update = 1 / (len(train_loader) + len(test_loader))\n",
        "losses = []\n",
        "\n",
        "# The transform needs to live on the same device as the model and the data.\n",
        "transform = transform.to(device)\n",
        "with tqdm(total=n_epoch) as pbar:\n",
        "    for epoch in range(1, n_epoch + 1):\n",
        "        train(model, epoch, log_interval)\n",
        "        test(model, epoch)\n",
        "        scheduler.step()"
      ]
    },
    {
      "cell_type": "markdown",
      "metadata": {
        "id": "ZiqK0A7b-Fxt"
      },
      "source": [
        "74% accuracy in two class classification of yes/no"
      ]
    }
  ],
  "metadata": {
    "accelerator": "GPU",
    "colab": {
      "collapsed_sections": [
        "WI4rSAKdAV7Y",
        "t3qQ4OFoSq9Y"
      ],
      "provenance": []
    },
    "kernelspec": {
      "display_name": "Python 3",
      "name": "python3"
    },
    "language_info": {
      "codemirror_mode": {
        "name": "ipython",
        "version": 3
      },
      "file_extension": ".py",
      "mimetype": "text/x-python",
      "name": "python",
      "nbconvert_exporter": "python",
      "pygments_lexer": "ipython3",
      "version": "3.10.9"
    }
  },
  "nbformat": 4,
  "nbformat_minor": 0
}